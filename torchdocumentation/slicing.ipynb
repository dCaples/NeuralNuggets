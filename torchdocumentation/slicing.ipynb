{
 "cells": [
  {
   "cell_type": "code",
   "execution_count": null,
   "metadata": {},
   "outputs": [],
   "source": [
    "a = torch.randn(2, 3, 4)\n",
    "\n",
    "\n",
    "# : means all elements in that dimension\n",
    "# so :,:,: means all elements in all dimensions\n",
    "print(a[:, :, :].shape)\n",
    "\n",
    "# we can use this in combination with regular indexing\n",
    "# in this case, we want all batches, for the first character, all embedding dimensions\n",
    "print(a[:, 0, :].shape) # batch, sequence, embedding, (2x4), (batch, embedding)\n",
    "print(a[:, :, 1].shape) #all batches, all sequences, the second dimension of embedding, (2x3), (batch, sequence)\n",
    "\n",
    "# we can also use -1 for the last element\n",
    "print(a[:, :, -1].shape) #all batches, all sequences, the last dimension of embedding, (2x3), (batch, sequence)"
   ]
  }
 ],
 "metadata": {
  "language_info": {
   "name": "python"
  }
 },
 "nbformat": 4,
 "nbformat_minor": 2
}
