{
 "cells": [
  {
   "cell_type": "code",
   "execution_count": 1,
   "metadata": {},
   "outputs": [],
   "source": [
    "import math\n",
    "import numpy as np\n",
    "import matplotlib.pyplot as plt\n"
   ]
  },
  {
   "cell_type": "code",
   "execution_count": 20,
   "metadata": {},
   "outputs": [
    {
     "data": {
      "text/plain": [
       "True"
      ]
     },
     "execution_count": 20,
     "metadata": {},
     "output_type": "execute_result"
    }
   ],
   "source": [
    "a = 50\n",
    "b= 50\n",
    "\n",
    "a==b"
   ]
  },
  {
   "cell_type": "code",
   "execution_count": 23,
   "metadata": {},
   "outputs": [
    {
     "name": "stdout",
     "output_type": "stream",
     "text": [
      "the above statement is false\n"
     ]
    }
   ],
   "source": [
    "def f(x):\n",
    "    return x+5\n",
    "\n",
    "\n",
    "if(a!=b):\n",
    "    print(\"the above statement is true\")\n",
    "else:\n",
    "    print(\"the above statement is false\")"
   ]
  },
  {
   "cell_type": "code",
   "execution_count": 26,
   "metadata": {},
   "outputs": [
    {
     "name": "stdout",
     "output_type": "stream",
     "text": [
      "0\n",
      "10\n",
      "----\n",
      "1\n",
      "10\n",
      "----\n",
      "2\n",
      "10\n",
      "----\n",
      "3\n",
      "10\n",
      "----\n",
      "4\n",
      "10\n",
      "----\n",
      "5\n",
      "10\n",
      "----\n",
      "6\n",
      "10\n",
      "----\n",
      "7\n",
      "10\n",
      "----\n",
      "8\n",
      "10\n",
      "----\n",
      "9\n",
      "10\n",
      "----\n"
     ]
    }
   ],
   "source": [
    "a = 0\n",
    "b = 10\n",
    "while(a!=b):\n",
    "    print(a)\n",
    "    print(b)\n",
    "    print(\"----\")\n",
    "    a = a+1"
   ]
  },
  {
   "cell_type": "code",
   "execution_count": 30,
   "metadata": {},
   "outputs": [
    {
     "name": "stdout",
     "output_type": "stream",
     "text": [
      "cool!\n"
     ]
    }
   ],
   "source": [
    "def fu(d):\n",
    "    return d+5\n",
    "\n",
    "\n",
    "f = [print, print]\n",
    "\n",
    "f[0](\"cool!\")\n",
    "\n"
   ]
  },
  {
   "cell_type": "code",
   "execution_count": 7,
   "metadata": {},
   "outputs": [
    {
     "name": "stdout",
     "output_type": "stream",
     "text": [
      "you cheated!\n"
     ]
    },
    {
     "ename": "ValueError",
     "evalue": "SMH cheating on a poor computer!",
     "output_type": "error",
     "traceback": [
      "\u001b[0;31m---------------------------------------------------------------------------\u001b[0m",
      "\u001b[0;31mValueError\u001b[0m                                Traceback (most recent call last)",
      "Cell \u001b[0;32mIn[7], line 31\u001b[0m\n\u001b[1;32m     25\u001b[0m         guess_number(\u001b[38;5;28;01mTrue\u001b[39;00m, upper_bound, lower_bound)\n\u001b[1;32m     30\u001b[0m \u001b[38;5;28;01mwhile\u001b[39;00m \u001b[38;5;28;01mTrue\u001b[39;00m:\n\u001b[0;32m---> 31\u001b[0m     result \u001b[38;5;241m=\u001b[39m \u001b[43mguess_number\u001b[49m\u001b[43m(\u001b[49m\u001b[43mupper_bound\u001b[49m\u001b[43m,\u001b[49m\u001b[43m \u001b[49m\u001b[43mlower_bound\u001b[49m\u001b[43m)\u001b[49m\n\u001b[1;32m     32\u001b[0m     \u001b[38;5;28;01mif\u001b[39;00m result[\u001b[38;5;241m0\u001b[39m] \u001b[38;5;241m==\u001b[39m \u001b[38;5;28;01mFalse\u001b[39;00m:\n\u001b[1;32m     33\u001b[0m         \u001b[38;5;28;01mbreak\u001b[39;00m\n",
      "Cell \u001b[0;32mIn[7], line 12\u001b[0m, in \u001b[0;36mguess_number\u001b[0;34m(upper_bound, lower_bound)\u001b[0m\n\u001b[1;32m     10\u001b[0m guess \u001b[38;5;241m=\u001b[39m \u001b[38;5;28mint\u001b[39m((upper_bound \u001b[38;5;241m+\u001b[39m lower_bound)\u001b[38;5;241m/\u001b[39m\u001b[38;5;241m2\u001b[39m)\n\u001b[1;32m     11\u001b[0m user_input \u001b[38;5;241m=\u001b[39m \u001b[38;5;28minput\u001b[39m(\u001b[38;5;124m\"\u001b[39m\u001b[38;5;124mis your number above, below, or equal to \u001b[39m\u001b[38;5;124m\"\u001b[39m \u001b[38;5;241m+\u001b[39m \u001b[38;5;28mstr\u001b[39m(guess) \u001b[38;5;241m+\u001b[39m \u001b[38;5;124m\"\u001b[39m\u001b[38;5;124m?\u001b[39m\u001b[38;5;124m\"\u001b[39m)\n\u001b[0;32m---> 12\u001b[0m \u001b[43mcheck_cheat\u001b[49m\u001b[43m(\u001b[49m\u001b[43mupper_bound\u001b[49m\u001b[43m,\u001b[49m\u001b[43m \u001b[49m\u001b[43mlower_bound\u001b[49m\u001b[43m)\u001b[49m\n\u001b[1;32m     13\u001b[0m \u001b[38;5;28;01mif\u001b[39;00m user_input \u001b[38;5;241m==\u001b[39m \u001b[38;5;124m\"\u001b[39m\u001b[38;5;124mequal\u001b[39m\u001b[38;5;124m\"\u001b[39m:\n\u001b[1;32m     14\u001b[0m     \u001b[38;5;28mprint\u001b[39m(\u001b[38;5;124m\"\u001b[39m\u001b[38;5;124mI guessed your number!\u001b[39m\u001b[38;5;124m\"\u001b[39m)\n",
      "Cell \u001b[0;32mIn[7], line 7\u001b[0m, in \u001b[0;36mcheck_cheat\u001b[0;34m(upper_bound, lower_bound)\u001b[0m\n\u001b[1;32m      5\u001b[0m \u001b[38;5;28;01mif\u001b[39;00m upper_bound \u001b[38;5;241m==\u001b[39m lower_bound:\n\u001b[1;32m      6\u001b[0m     \u001b[38;5;28mprint\u001b[39m(\u001b[38;5;124m\"\u001b[39m\u001b[38;5;124myou cheated!\u001b[39m\u001b[38;5;124m\"\u001b[39m)\n\u001b[0;32m----> 7\u001b[0m     \u001b[38;5;28;01mraise\u001b[39;00m \u001b[38;5;167;01mValueError\u001b[39;00m(\u001b[38;5;124m\"\u001b[39m\u001b[38;5;124mSMH cheating on a poor computer!\u001b[39m\u001b[38;5;124m\"\u001b[39m)\n",
      "\u001b[0;31mValueError\u001b[0m: SMH cheating on a poor computer!"
     ]
    }
   ],
   "source": [
    "upper_bound = 100\n",
    "lower_bound = 0\n",
    "\n",
    "def check_cheat(upper_bound, lower_bound):\n",
    "    if upper_bound == lower_bound:\n",
    "        print(\"you cheated!\")\n",
    "        raise ValueError(\"SMH cheating on a poor computer!\")\n",
    "\n",
    "def guess_number(upper_bound, lower_bound):\n",
    "    guess = int((upper_bound + lower_bound)/2)\n",
    "    user_input = input(\"is your number above, below, or equal to \" + str(guess) + \"?\")\n",
    "    check_cheat(upper_bound, lower_bound)\n",
    "    if user_input == \"equal\":\n",
    "        print(\"I guessed your number!\")\n",
    "        print(\"it is \" + str(guess))\n",
    "        return (False, upper_bound, lower_bound)\n",
    "    elif user_input == \"above\":\n",
    "        lower_bound = guess\n",
    "        return (True, upper_bound, lower_bound)\n",
    "    elif user_input == \"below\":\n",
    "        upper_bound = guess\n",
    "        return (True, upper_bound, lower_bound)\n",
    "    else:\n",
    "        print(\"invalid input\")\n",
    "        guess_number(True, upper_bound, lower_bound)\n",
    "\n",
    "\n",
    "\n",
    "\n",
    "while True:\n",
    "    result = guess_number(upper_bound, lower_bound)\n",
    "    if result[0] == False:\n",
    "        break\n",
    "    else:\n",
    "        upper_bound = result[1]\n",
    "        lower_bound = result[2]\n",
    "        "
   ]
  }
 ],
 "metadata": {
  "kernelspec": {
   "display_name": ".venv",
   "language": "python",
   "name": "python3"
  },
  "language_info": {
   "codemirror_mode": {
    "name": "ipython",
    "version": 3
   },
   "file_extension": ".py",
   "mimetype": "text/x-python",
   "name": "python",
   "nbconvert_exporter": "python",
   "pygments_lexer": "ipython3",
   "version": "3.10.12"
  }
 },
 "nbformat": 4,
 "nbformat_minor": 2
}
