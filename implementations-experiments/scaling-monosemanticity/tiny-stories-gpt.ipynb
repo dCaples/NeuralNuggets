{
 "cells": [
  {
   "cell_type": "code",
   "execution_count": 1,
   "metadata": {},
   "outputs": [],
   "source": [
    "# # load dataset\n",
    "\n",
    "# from datasets import load_dataset\n",
    "# from tokenizers import ByteLevelBPETokenizer\n",
    "\n",
    "# tokenizer = ByteLevelBPETokenizer()\n",
    "# dataset = load_dataset(\"roneneldan/TinyStories\")\n",
    "\n",
    "# # Specify the split you want to save (e.g., \"train\", \"validation\", \"test\")\n",
    "# split = \"train\"\n",
    "\n",
    "# # Get the desired split from the dataset\n",
    "# subset = dataset[split]\n",
    "\n",
    "# # Save the subset to a text file\n",
    "# subset.to_csv(\"tinystories-train.txt\", sep=\"\\t\", index=False)\n"
   ]
  },
  {
   "cell_type": "code",
   "execution_count": 2,
   "metadata": {},
   "outputs": [],
   "source": [
    "#----- imports --------\n",
    "\n",
    "import tqdm\n",
    "import torch\n",
    "from torch import nn\n",
    "import wandb\n",
    "import os\n",
    "import tokenizers\n",
    "from matplotlib import pyplot as plt\n",
    "import numpy as np\n",
    "import json\n",
    "\n",
    "\n",
    "device= 'cuda' if torch.cuda.is_available() else 'cpu'\n",
    "torch.set_default_device(device)\n",
    "assert device == 'cuda', \"This notebook is not optimized for CPU\"\n",
    "\n",
    "config = {\n",
    "    \"learning_rate\": 1e-3,\n",
    "    \"sae_learning_rate\": 5e-5,\n",
    "    \"model_embedding_layer\": 6,\n",
    "    \"eval_interval\": 500,\n",
    "    \"max_iters\": 60000, \n",
    "    \"H\": 32, # hidden dimension size\n",
    "    \"B\": 64,\n",
    "    \"T\": 256,\n",
    "    \"C\": 256,\n",
    "    \"feedforward_factor\": 3,\n",
    "    \"n_heads\": 8,\n",
    "    \"n_layers\": 12,\n",
    "    \"tokenizer_vocab_size\": 2**13,\n",
    "    \"git_hash\": os.popen(\"git rev-parse HEAD\").read().strip()\n",
    "}\n",
    "\n",
    "# initial\n",
    "for k,v in config.items():\n",
    "    locals ()[k] = v\n",
    "\n",
    "\n",
    "#wandb.init(\n",
    "#    project = \"tinystories\",\n",
    "#    config = config,\n",
    "#)"
   ]
  },
  {
   "cell_type": "code",
   "execution_count": 3,
   "metadata": {},
   "outputs": [],
   "source": [
    "\n",
    "# stories_data = []\n",
    "# data_dir = './data'\n",
    "# for filename in os.listdir(data_dir):\n",
    "#     file_path = os.path.join(data_dir, filename)\n",
    "#     if filename.endswith('.json'):\n",
    "#         with open(file_path, 'r', encoding='utf-8') as f:\n",
    "#             data = json.load(f)\n",
    "#             stories_data.extend(data)\n",
    "\n",
    "\n",
    "\n",
    "\n"
   ]
  },
  {
   "cell_type": "code",
   "execution_count": 4,
   "metadata": {},
   "outputs": [],
   "source": [
    "# # load the tinystories tokenizer\n",
    "# tokenizer = tokenizers.ByteLevelBPETokenizer(\n",
    "#     \"./tiny-stories-bpe-vocab.json\", \n",
    "#     \"./tiny-stories-bpe-merges.txt\"\n",
    "# )\n",
    "\n",
    "\n",
    "\n",
    "# def encode(text):\n",
    "#     return torch.tensor(tokenizer.encode(text).ids, dtype=torch.int64)\n",
    "# def decode(encoded_text):\n",
    "#     return tokenizer.decode(encoded_text.tolist())\n",
    "\n",
    "# from tqdm import tqdm\n",
    "\n",
    "# encoded_stories = [encode(story['story']) for story in tqdm(stories_data, desc=\"Encoding stories\")]\n",
    "\n"
   ]
  },
  {
   "cell_type": "code",
   "execution_count": 5,
   "metadata": {},
   "outputs": [],
   "source": [
    "# # save the encoded stories to a file\n",
    "# torch.save(encoded_stories, 'encoded-stories.pt')"
   ]
  },
  {
   "cell_type": "code",
   "execution_count": 6,
   "metadata": {},
   "outputs": [],
   "source": [
    "\n",
    "with open('tinystories-train.txt', 'r', encoding='utf-8') as f:\n",
    "    text = f.read()"
   ]
  },
  {
   "cell_type": "code",
   "execution_count": 7,
   "metadata": {},
   "outputs": [
    {
     "name": "stdout",
     "output_type": "stream",
     "text": [
      "length of dataset in characters:  1916206969\n"
     ]
    }
   ],
   "source": [
    "print(\"length of dataset in characters: \", len(text))"
   ]
  },
  {
   "cell_type": "code",
   "execution_count": 8,
   "metadata": {},
   "outputs": [
    {
     "data": {
      "text/plain": [
       "479051742.25"
      ]
     },
     "execution_count": 8,
     "metadata": {},
     "output_type": "execute_result"
    }
   ],
   "source": [
    "1916206969/4"
   ]
  },
  {
   "cell_type": "code",
   "execution_count": 9,
   "metadata": {},
   "outputs": [
    {
     "name": "stdout",
     "output_type": "stream",
     "text": [
      "length of dataset in lines:  20550005\n"
     ]
    }
   ],
   "source": [
    "print(\"length of dataset in lines: \", len(text.split('\\n')))"
   ]
  },
  {
   "cell_type": "code",
   "execution_count": 10,
   "metadata": {},
   "outputs": [
    {
     "name": "stdout",
     "output_type": "stream",
     "text": [
      "text\n",
      "\"One day, a little girl named Lily found a needle in her room. She knew it was difficult to play with it because it was sharp. Lily wanted to share the needle with her mom, so she could sew a button on her shirt.\n",
      "\n",
      "Lily went to her mom and said, \"\"Mom, I found this needle. Can you share it with me and sew my shirt?\"\" Her mom smiled and said, \"\"Yes, Lily, we can share the needle and fix your shirt.\"\"\n",
      "\n",
      "Together, they shared the needle and sewed the button on Lily's shirt. It was not difficult for them because they were sharing and helping each other. After they finished, Lily thanked her mom for sharing the needle and fixing her shirt. They both felt happy because they had shared and worked together.\"\n",
      "\"Once upon a time, there was a little car named Beep. Beep loved to go fast and play in the sun. Beep was a healthy car because he always had good fuel. Good fuel made Beep happy and strong.\n",
      "\n",
      "One day, Beep was driving in the park when he saw a big tree. The tree had many leaves that wer\n"
     ]
    }
   ],
   "source": [
    "print(text[:1000])"
   ]
  },
  {
   "cell_type": "code",
   "execution_count": 11,
   "metadata": {},
   "outputs": [],
   "source": [
    "# paths = ['tinystories-train.txt']\n",
    "# tokenizer = tokenizers.ByteLevelBPETokenizer()\n",
    "\n",
    "# tokenizer.train(files=paths, vocab_size=tokenizer_vocab_size, min_frequency=2)\n",
    "\n",
    "# tokenizer.save_model('.', 'tiny-stories-bpe')\n",
    "\n",
    "\n",
    "\n",
    "# enc = tokenizer.encode(\"She sells sea shells by the sea shore!\")\n",
    "# tokenizer.decode(enc.ids)\n",
    "\n"
   ]
  },
  {
   "cell_type": "code",
   "execution_count": 12,
   "metadata": {},
   "outputs": [],
   "source": [
    "tokenizer = tokenizers.ByteLevelBPETokenizer(\n",
    "    \"./tiny-stories-bpe-vocab.json\", \n",
    "    \"./tiny-stories-bpe-merges.txt\"\n",
    ")\n"
   ]
  },
  {
   "cell_type": "code",
   "execution_count": 13,
   "metadata": {},
   "outputs": [
    {
     "name": "stdout",
     "output_type": "stream",
     "text": [
      "[6132]\n",
      "hello\n",
      "vocab size:  8192\n"
     ]
    }
   ],
   "source": [
    "\n",
    "def encode(text):\n",
    "    return tokenizer.encode(text).ids\n",
    "def decode(encoded_text):\n",
    "    return tokenizer.decode(encoded_text)\n",
    "\n",
    "from tqdm import tqdm\n",
    "\n",
    "def batch_encode(text, batch_size):\n",
    "    tokens = []\n",
    "    for i in tqdm(range(0, len(text), batch_size)):\n",
    "        tokens.extend(encode(text[i:i+batch_size]))\n",
    "    return tokens\n",
    "\n",
    "\n",
    "hello_encoded = encode(\"hello\")\n",
    "print(hello_encoded)\n",
    "print(decode(hello_encoded))\n",
    "vocab_size = tokenizer.get_vocab_size()\n",
    "print(\"vocab size: \", vocab_size)"
   ]
  },
  {
   "cell_type": "code",
   "execution_count": 14,
   "metadata": {},
   "outputs": [
    {
     "name": "stderr",
     "output_type": "stream",
     "text": [
      "  0%|          | 0/10 [00:00<?, ?it/s]"
     ]
    },
    {
     "name": "stderr",
     "output_type": "stream",
     "text": [
      "100%|██████████| 10/10 [00:00<00:00, 57.60it/s]"
     ]
    },
    {
     "name": "stdout",
     "output_type": "stream",
     "text": [
      "memory used by sample_encoded:  1.2918853759765625 MB\n"
     ]
    },
    {
     "name": "stderr",
     "output_type": "stream",
     "text": [
      "\n"
     ]
    }
   ],
   "source": [
    "sample_text = text[:200000]\n",
    "sample_encoded = batch_encode(sample_text, 20000)\n",
    "\n",
    "# get the amount of memory used by sample_encoded\n",
    "def recursive_memory_usage(python_obj):\n",
    "    if isinstance(python_obj, (str, int, float)):\n",
    "        return python_obj.__sizeof__()\n",
    "    if isinstance(python_obj, dict):\n",
    "        return sum([recursive_memory_usage(v) for v in python_obj.values()])\n",
    "    if isinstance(python_obj, list):\n",
    "        return sum([recursive_memory_usage(v) for v in python_obj])\n",
    "    return python_obj.__sizeof__()\n",
    "\n",
    "print(\"memory used by sample_encoded: \", recursive_memory_usage(sample_encoded) / 1024**2, \"MB\")\n"
   ]
  },
  {
   "cell_type": "code",
   "execution_count": 15,
   "metadata": {},
   "outputs": [
    {
     "name": "stdout",
     "output_type": "stream",
     "text": [
      "length of dataset in characters:  10000\n",
      "length of dataset in tokens:  2457\n",
      "characters per token:  4.07000407000407\n"
     ]
    }
   ],
   "source": [
    "print(\"length of dataset in characters: \", len(text[:10000]))\n",
    "print(\"length of dataset in tokens: \", len(encode(text[:10000])))\n",
    "chars_per_token = len(text[:10000]) / len(encode(text[:10000]))\n",
    "print(\"characters per token: \", chars_per_token)"
   ]
  },
  {
   "cell_type": "code",
   "execution_count": null,
   "metadata": {},
   "outputs": [],
   "source": []
  },
  {
   "cell_type": "code",
   "execution_count": 16,
   "metadata": {},
   "outputs": [],
   "source": [
    "# encoded_text = batch_encode(text, 200000)\n",
    "# # data = torch.tensor(encode(text), dtype=torch.int64)\n",
    "# data = torch.tensor(encoded_text, dtype=torch.int64, device='cuda')\n",
    "# print(data.dtype)\n",
    "# print(data.size())\n",
    "# print(data.device)\n",
    "# torch.save(data, 'tiny-stories-train.pt')\n",
    "# encoded_text = None\n"
   ]
  },
  {
   "cell_type": "code",
   "execution_count": 17,
   "metadata": {},
   "outputs": [],
   "source": [
    "# load data from tiny-stories-train.pt\n",
    "data = torch.load('tiny-stories-train.pt', map_location='cuda')\n"
   ]
  },
  {
   "cell_type": "code",
   "execution_count": 46,
   "metadata": {},
   "outputs": [
    {
     "data": {
      "text/plain": [
       "421949048"
      ]
     },
     "execution_count": 46,
     "metadata": {},
     "output_type": "execute_result"
    }
   ],
   "source": [
    "len(data)"
   ]
  },
  {
   "cell_type": "code",
   "execution_count": 18,
   "metadata": {},
   "outputs": [],
   "source": [
    "n = int(0.9*len(data))\n",
    "\n",
    "train_data = data[:n]\n",
    "val_data = data[n:]"
   ]
  },
  {
   "cell_type": "code",
   "execution_count": 19,
   "metadata": {},
   "outputs": [
    {
     "data": {
      "text/plain": [
       "torch.Size([421949048])"
      ]
     },
     "execution_count": 19,
     "metadata": {},
     "output_type": "execute_result"
    }
   ],
   "source": [
    "train_data.size()"
   ]
  },
  {
   "cell_type": "code",
   "execution_count": 20,
   "metadata": {},
   "outputs": [
    {
     "data": {
      "text/plain": [
       "tensor([  83, 3206,  198,    1,  421,  356,   11,  258,  397,  447,  501,  364,\n",
       "         596,  258, 3736,  316,  309,  759,   13,  313,  704,  304,  282, 2966,\n",
       "         265,  359,  342,  304,  788,  304,  282, 2120,   13,  364,  445,  265,\n",
       "         949,  262, 3736,  342,  309,  365,   11,  350,  338,  461, 5198,  258,\n",
       "        2228,  345,  309, 2500,   13,  198,  198,  343,  469,  265,  309,  365,\n",
       "         264,  327,   11,  329,  771,   11,  335,  596,  741, 3736,   13, 1282,\n",
       "         346,  949,  304,  342,  519,  264, 5198,  652, 2500,  478,  866,  365,\n",
       "         499,  264,  327,   11,  329,  832,   11,  364,   11,  363,  472,  949,\n",
       "         262, 3736,  264, 1306,  627, 2500,  416,  198,  198, 4625,   11,  362,\n",
       "        1656,  262, 3736,  264, 7930,  262, 2228,  345,  364,  371, 2500,   13,\n",
       "         410,  282,  385, 2966,  366,  449,  788,  362,  430, 2502,  264, 1762,\n",
       "         757,  573,   13, 1453,  362, 1444,   11,  364,  858,  309,  365,  366,\n",
       "        2502,  262, 3736,  264, 5150,  309, 2500,   13,  320,  897,  514,  405,\n",
       "         788,  362,  360, 1656,  264, 1370,  567,  408,  198,    1,  432,  448,\n",
       "         258,  396,   11,  400,  282,  258,  397,  565,  501, 2632,  592,   13,\n",
       "        2632,  592,  504,  265,  437,  848,  264,  359,  316,  262,  734,   13,\n",
       "        2632,  592,  282,  258, 2188,  565,  788,  278,  667,  360,  590, 4830,\n",
       "          13, 5204, 4830,  564, 2632,  592,  405,  264, 1123,   13,  198,  198,\n",
       "         421,  356,   11, 2632,  592,  282, 3476,  316,  262,  570,  589,  278,\n",
       "         414,  258,  407,  680,   13,  299,  680,  360,  791, 1508,  357,  430,\n",
       "        4175,   13, 2632,  592,  616,  713,  262, 1508, 1544,  264,  445,  265,\n",
       "         359,  342,  449,   13, 2632], device='cuda:0')"
      ]
     },
     "execution_count": 20,
     "metadata": {},
     "output_type": "execute_result"
    }
   ],
   "source": [
    "train_data[:T+1]"
   ]
  },
  {
   "cell_type": "code",
   "execution_count": 21,
   "metadata": {},
   "outputs": [
    {
     "data": {
      "text/plain": [
       "'text\\n\"One day, a little girl named Lily found a needle in her room. She knew it was difficult to play with it because it was sharp. Lily wanted to share the needle with her mom, so she could sew a button on her shirt.\\n\\nLily went to her mom and said, \"\"Mom, I found this needle. Can you share it with me and sew my shirt?\"\" Her mom smiled and said, \"\"Yes, Lily, we can share the needle and fix your shirt.\"\"\\n\\nTogether, they shared the needle and sewed the button on Lily\\'s shirt. It was not difficult for them because they were sharing and helping each other. After they finished, Lily thanked her mom for sharing the needle and fixing her shirt. They both felt happy because they had shared and worked together.\"\\n\"Once upon a time, there was a little car named Beep. Beep loved to go fast and play in the sun. Beep was a healthy car because he always had good fuel. Good fuel made Beep happy and strong.\\n\\nOne day, Beep was driving in the park when he saw a big tree. The tree had many leaves that were falling. Beep liked how the leaves fall and wanted to play with them. Be'"
      ]
     },
     "execution_count": 21,
     "metadata": {},
     "output_type": "execute_result"
    }
   ],
   "source": [
    "decode(train_data[:T+1].cpu().numpy())"
   ]
  },
  {
   "cell_type": "code",
   "execution_count": 22,
   "metadata": {},
   "outputs": [],
   "source": [
    "x = train_data[:T]\n",
    "y = train_data[1:T+1]\n",
    "for t in range(T):\n",
    "    context = x[:t+1]\n",
    "    target = y[t]\n",
    "    # print(\"when we see the text\", context, \"we predict the next character is\", target)"
   ]
  },
  {
   "cell_type": "code",
   "execution_count": 23,
   "metadata": {},
   "outputs": [],
   "source": [
    "# torch.manual_seed(1337)\n",
    "\n",
    "def get_batch(split):\n",
    "    data = train_data if split == 'train' else val_data\n",
    "    ix = torch.randint(0, data.size(0) - T, (B,)) # 4 random locations we can sample from\n",
    "    x = torch.stack([data[i:i+T] for i in ix]) # random sequences\n",
    "    y = torch.stack([data[i+1:i+T+1] for i in ix]) # next character for each random sequence\n",
    "\n",
    "    return x, y\n",
    "\n",
    "xb, yb = get_batch('train')\n",
    "\n",
    "for b in range(B):\n",
    "    for t in range(T): # for each of the characters in the sample\n",
    "        context = xb[b, :t+1]\n",
    "        target = yb[b, t]\n"
   ]
  },
  {
   "cell_type": "code",
   "execution_count": 24,
   "metadata": {},
   "outputs": [],
   "source": [
    "\n",
    "import torch\n",
    "import torch.nn as nn\n",
    "from torch.nn import functional as F\n",
    "# torch.manual_seed(1337)\n",
    "\n",
    "\n",
    "class Head(nn.Module):\n",
    "    '''One Head of self-attention'''\n",
    "    def __init__(self, H):\n",
    "        super().__init__()\n",
    "        self.query = nn.Linear(C, H, bias=False)\n",
    "        self.key = nn.Linear(C, H, bias=False)\n",
    "        self.value = nn.Linear(C, H, bias=False)\n",
    "        # self.output = nn.Linear(H, C, bias=False) # output matrix\n",
    "        self.register_buffer('tril', torch.tril(torch.ones(T, T)))\n",
    "\n",
    "    def forward(self, x):\n",
    "        # Query and Key matrices for the attention mechanism\n",
    "        # x: 8 tokens\n",
    "        # Q: 16 tall (arbitrary), 32 long channels\n",
    "        # K: 16 tall (arbitrary), 32 long channels\n",
    "\n",
    "        query_vectors = self.query(x)\n",
    "        key_vectors = self.key(x)\n",
    "\n",
    "\n",
    "        # Attention masking(so we can't look into the past):\n",
    "\n",
    "        tril = self.tril\n",
    "        wei = torch.zeros(T, T) \n",
    "        wei = wei.masked_fill(tril == 0, float('-inf')) # set the upper triangular to -inf\n",
    "        # xbow = wei @ x # apply the mask to the input, bag of words because simple avg.\n",
    "\n",
    "        # multiply the two to get the attention weights\n",
    "        attention_pattern = query_vectors @ key_vectors.transpose(-2, -1) # T, T\n",
    "        attention_pattern = attention_pattern / (H ** 0.5) # scale the attention pattern for numerical stability\n",
    "        attention_weights = F.softmax(attention_pattern + wei, dim=-1) # T, T (the row dimension is the query)\n",
    "\n",
    "        value_vectors = self.value(x) # the direction we should go in the embedding space for each token (ie more blue) T, H\n",
    "\n",
    "        # apply the attention weights to the value vectors\n",
    "        context = attention_weights @ value_vectors # T, H\n",
    "\n",
    "        # project back into original space from value space\n",
    "        # return self.output(context)\n",
    "        return context\n",
    "\n",
    "x = torch.randn(B,T,C)\n",
    "head = Head(H)\n",
    "# head(x)\n"
   ]
  },
  {
   "cell_type": "code",
   "execution_count": 25,
   "metadata": {},
   "outputs": [],
   "source": [
    "class MultiHeadAttention(nn.Module):\n",
    "    '''Multiple heads of self-attention'''\n",
    "    def __init__(self, H, C, n_heads): # H is head embedding space size, n_heads is number of heads\n",
    "        super().__init__()\n",
    "        self.heads = nn.ModuleList([Head(H) for _ in range(n_heads)])\n",
    "        self.combine_heads = nn.Linear(H*n_heads, C)\n",
    "\n",
    "\n",
    "    def forward(self,x):\n",
    "        x = torch.cat([head(x) for head in self.heads], dim=-1)\n",
    "        x = self.combine_heads(x)  # T, C\n",
    "        return x"
   ]
  },
  {
   "cell_type": "code",
   "execution_count": 26,
   "metadata": {},
   "outputs": [
    {
     "data": {
      "text/plain": [
       "torch.Size([64, 256, 32])"
      ]
     },
     "execution_count": 26,
     "metadata": {},
     "output_type": "execute_result"
    }
   ],
   "source": [
    "head = MultiHeadAttention(H, C, n_heads)\n",
    "head.heads[0].forward(x).shape\n"
   ]
  },
  {
   "cell_type": "code",
   "execution_count": 27,
   "metadata": {},
   "outputs": [],
   "source": [
    "class FeedForward(nn.Module):\n",
    "    '''Feed-forward neural network'''\n",
    "    def __init__(self, C):\n",
    "        super().__init__()\n",
    "        self.net = nn.Sequential(\n",
    "            nn.Linear(C, C * feedforward_factor),\n",
    "            nn.ReLU(),\n",
    "            nn.Linear(C * feedforward_factor, C),\n",
    "        )\n",
    "\n",
    "    def forward(self, x):\n",
    "        return self.net(x)"
   ]
  },
  {
   "cell_type": "code",
   "execution_count": 28,
   "metadata": {},
   "outputs": [],
   "source": [
    "class LayerNorm(nn.Module):\n",
    "    '''Layer normalization'''\n",
    "    def __init__(self, C, use_affine=True):\n",
    "        super().__init__()\n",
    "        self.gamma = nn.Parameter(torch.ones(C)) if use_affine else None\n",
    "        self.beta = nn.Parameter(torch.zeros(C)) if use_affine else None\n",
    "\n",
    "    def forward(self, x):\n",
    "        mean = x.mean(-1, keepdim=True)\n",
    "        std = x.std(-1, keepdim=True)\n",
    "        if self.gamma is not None and self.beta is not None:\n",
    "            return self.gamma * (x - mean) / (std + 1e-6) + self.beta\n",
    "        else:\n",
    "            return (x - mean) / (std + 1e-6)"
   ]
  },
  {
   "cell_type": "code",
   "execution_count": 29,
   "metadata": {},
   "outputs": [],
   "source": [
    "class Block(nn.Module):\n",
    "    '''Transformer block'''\n",
    "    def __init__(self, H, C, n_heads):\n",
    "        super().__init__()\n",
    "        self.attention = MultiHeadAttention(H, C, n_heads)\n",
    "        self.ff = FeedForward(C)\n",
    "        self.norm1 = LayerNorm(C, use_affine=True)\n",
    "        self.norm2 = LayerNorm(C, use_affine=True)\n",
    "\n",
    "    def forward(self, x):\n",
    "        x = x + self.attention(self.norm1(x))\n",
    "        x = x + self.ff(self.norm2(x))\n",
    "        return x"
   ]
  },
  {
   "cell_type": "code",
   "execution_count": 30,
   "metadata": {},
   "outputs": [
    {
     "name": "stdout",
     "output_type": "stream",
     "text": [
      "torch.Size([64, 256, 8192])\n",
      "tensor(9.4541, device='cuda:0', grad_fn=<NllLossBackward0>)\n",
      "tensor(0.0935, device='cuda:0', grad_fn=<DivBackward0>)\n"
     ]
    },
    {
     "data": {
      "text/plain": [
       "(tensor([[[-0.2055, -0.2871,  0.3258,  ..., -1.0168, -0.4573, -0.0157],\n",
       "          [ 0.0244, -1.0655,  0.0198,  ..., -0.1580,  0.0973,  0.2988],\n",
       "          [ 1.5206, -1.7060,  0.6283,  ..., -0.3198,  1.3966, -0.2215],\n",
       "          ...,\n",
       "          [ 1.5781, -1.9238,  0.0165,  ..., -0.4311,  0.3385, -0.6610],\n",
       "          [ 0.5147, -0.7834, -1.1649,  ...,  0.1877, -0.4947, -0.0819],\n",
       "          [ 1.9286, -1.1586,  0.6150,  ..., -1.2508, -0.4388, -1.2185]]],\n",
       "        device='cuda:0', grad_fn=<ViewBackward0>),\n",
       " None,\n",
       " tensor(0.0824, device='cuda:0', grad_fn=<DivBackward0>))"
      ]
     },
     "execution_count": 30,
     "metadata": {},
     "output_type": "execute_result"
    }
   ],
   "source": [
    "class GPT(nn.Module):\n",
    "\n",
    "    def __init__(self, n_layers):\n",
    "        super().__init__()\n",
    "        self.token_embedding_table = nn.Embedding(vocab_size, C) \n",
    "        self.position_embedding_table = nn.Embedding(T, C)\n",
    "        self.lm_head = nn.Linear(C, vocab_size)\n",
    "        self.layers = nn.ModuleList([Block(H, C, n_heads) for _ in range(n_layers)])\n",
    "    \n",
    "    def forward(self, idx, targets=None, return_residuals=None):\n",
    "        B, T = idx.shape\n",
    "        token_emb = self.token_embedding_table(idx) # batch_dim, sequence_dim, embedding_dim\n",
    "        pos_emb = self.position_embedding_table(torch.arange(T))\n",
    "        x = token_emb + pos_emb # token identities and positions contained\n",
    "\n",
    "        if return_residuals == \"first_embedding\":\n",
    "            return x\n",
    "\n",
    "        def excess_kurtosis(emb):\n",
    "            mean = torch.mean(emb, dim=-1, keepdim=True) # BxTx1\n",
    "            std = torch.std(emb, dim=-1, keepdim=True) # BxTx1\n",
    "\n",
    "            centralized = emb - mean #BxTxC\n",
    "            fourth_moment = torch.mean(centralized**4, dim=-1, keepdim=True) # BxTx1\n",
    "            kurtosis = torch.squeeze(fourth_moment / std**4, dim=-1) # BxT\n",
    "            # view as a 1d vector\n",
    "            kurtosis = kurtosis.view(-1) - 3\n",
    "            # make each one min 0\n",
    "            kurtosis = torch.maximum(kurtosis, torch.tensor(0.0))\n",
    "            # sum over the vector\n",
    "            kurtosis = torch.sum(kurtosis)\n",
    "            return kurtosis\n",
    "\n",
    "\n",
    "        kurtosis_sum = torch.tensor(0.0)\n",
    "        for i, layer in enumerate(self.layers):\n",
    "            x = layer(x)\n",
    "            kurtosis_sum += excess_kurtosis(x)\n",
    "            if return_residuals is not None and i == return_residuals:\n",
    "                return x\n",
    "        \n",
    "        kurtosis_avg = kurtosis_sum / (len(self.layers) * T * B)\n",
    "\n",
    "        logits = self.lm_head(x) # batch_dim, sequence_dim, vocab_size\n",
    "\n",
    "        batch_dim, sequence_dim, embedding_dim = logits.size()\n",
    "\n",
    "        # loss = F.cross_entropy(logits, targets) this won't work because we need 1d logits and 1d targets\n",
    "        # one-hot-vectors are a line in the x-dimension, so the shape of shape of the logits should be (-1, vocab_size).\n",
    "\n",
    "        if targets is None:\n",
    "            return logits, None, kurtosis_avg\n",
    "        else:\n",
    "            # a list of all the predictions, reguardles of batch.\n",
    "            # xdim: probabilities of each character in the vocab (embedding_dim=vocab_size)\n",
    "            # ydim: all predictions for all batches flattened (batch_dim*sequence_dim)\n",
    "            logits_loss_view = logits.view(-1, vocab_size) \n",
    "            # targets loss view\n",
    "            # xdim: all targets for all batches flattened (batch_dim*sequence_dim)\n",
    "            # so this would be like, [1,4,5,1,2,3, ...]\n",
    "            # where each number is the correct next index of the one hot vector\n",
    "            targets_loss_view = targets.view(-1)\n",
    "            loss = F.cross_entropy(logits_loss_view, targets_loss_view)\n",
    "            return logits, loss, kurtosis_avg\n",
    "\n",
    "    def generate(self, idx, max_new_tokens, temperature=0.5):\n",
    "        for _ in range(max_new_tokens):\n",
    "            logits, loss = self(idx[:,-T:])\n",
    "            # get the predictions of the last token\n",
    "            last_token_logits = logits[:, -1, :] # all batches, last token, all probabilities\n",
    "            # apply temperature\n",
    "            last_token_logits = last_token_logits / temperature\n",
    "            # softmax to get probabilities\n",
    "            probabilities = F.softmax(last_token_logits, dim=-1)\n",
    "            # sample from the probabilities\n",
    "            next_token = torch.multinomial(probabilities, num_samples=1)\n",
    "            # add the new token to the idx tensor\n",
    "            idx = torch.cat((idx, next_token), dim=1)\n",
    "        return idx\n",
    "    def prompt_model(self, prompt, max_new_tokens, temperature=0.5):\n",
    "        autoregressive_seq = encode(prompt)\n",
    "        for _ in range(max_new_tokens):\n",
    "            prediction_index = len(autoregressive_seq)-1\n",
    "\n",
    "            model_input = torch.tensor(autoregressive_seq)\n",
    "            \n",
    "            while model_input.shape[0] < T:\n",
    "                pad_token = torch.tensor(encode(\"\\n\"))\n",
    "                model_input = torch.cat((model_input, pad_token), dim=0)\n",
    "\n",
    "            model_input\n",
    "            model_input = model_input.unsqueeze(0)\n",
    "\n",
    "            logits, loss, kurtosis_avg = model(model_input)\n",
    "            prediction_token = logits[:, prediction_index, :] / temperature\n",
    "            probabilities = F.softmax(prediction_token, dim=-1)\n",
    "            next_token = torch.multinomial(probabilities, num_samples=1)\n",
    "            next_token = next_token.item()\n",
    "\n",
    "            autoregressive_seq.append(next_token)\n",
    "        # get the autoregressive sequence\n",
    "        return decode(autoregressive_seq)\n",
    "    def get_embedding(self, prompt, override_model_embedding_layer=None):\n",
    "        if override_model_embedding_layer is None:\n",
    "            selected_model_embedding_layer = model_embedding_layer\n",
    "        else:\n",
    "            selected_model_embedding_layer = override_model_embedding_layer\n",
    "        sequence = encode(prompt)\n",
    "        model_input = torch.tensor(sequence)\n",
    "        sequence_index = len(sequence) - 1\n",
    "        while model_input.shape[0] < T:\n",
    "            pad_token = torch.tensor(encode(\"\\n\"))\n",
    "            model_input = torch.cat((model_input, pad_token), dim=0)\n",
    "        model_input = model_input.unsqueeze(0)\n",
    "        embedding = self.forward(model_input, return_residuals=selected_model_embedding_layer)\n",
    "        # remove the batch dimension\n",
    "        embedding = embedding.squeeze(0)[sequence_index]\n",
    "        return embedding\n",
    "\n",
    "\n",
    "\n",
    "    \n",
    "\n",
    "model = GPT(n_layers)\n",
    "logits, loss, kurtosis_avg = model(xb, yb)\n",
    "print(logits.shape)\n",
    "print(loss)\n",
    "print(kurtosis_avg)\n",
    "\n",
    "\n",
    "\n",
    "\n",
    "test_idx = torch.zeros(1, T).long()\n",
    "model.forward(idx=test_idx)\n",
    "# decode(model.generate(idx=test_idx, max_new_tokens=100)[0].tolist())"
   ]
  },
  {
   "cell_type": "code",
   "execution_count": 31,
   "metadata": {},
   "outputs": [
    {
     "data": {
      "text/plain": [
       "GPT(\n",
       "  (token_embedding_table): Embedding(8192, 256)\n",
       "  (position_embedding_table): Embedding(256, 256)\n",
       "  (lm_head): Linear(in_features=256, out_features=8192, bias=True)\n",
       "  (layers): ModuleList(\n",
       "    (0-11): 12 x Block(\n",
       "      (attention): MultiHeadAttention(\n",
       "        (heads): ModuleList(\n",
       "          (0-7): 8 x Head(\n",
       "            (query): Linear(in_features=256, out_features=32, bias=False)\n",
       "            (key): Linear(in_features=256, out_features=32, bias=False)\n",
       "            (value): Linear(in_features=256, out_features=32, bias=False)\n",
       "          )\n",
       "        )\n",
       "        (combine_heads): Linear(in_features=256, out_features=256, bias=True)\n",
       "      )\n",
       "      (ff): FeedForward(\n",
       "        (net): Sequential(\n",
       "          (0): Linear(in_features=256, out_features=768, bias=True)\n",
       "          (1): ReLU()\n",
       "          (2): Linear(in_features=768, out_features=256, bias=True)\n",
       "        )\n",
       "      )\n",
       "      (norm1): LayerNorm()\n",
       "      (norm2): LayerNorm()\n",
       "    )\n",
       "  )\n",
       ")"
      ]
     },
     "execution_count": 31,
     "metadata": {},
     "output_type": "execute_result"
    }
   ],
   "source": [
    "model"
   ]
  },
  {
   "cell_type": "code",
   "execution_count": 32,
   "metadata": {},
   "outputs": [
    {
     "name": "stdout",
     "output_type": "stream",
     "text": [
      "number of parameters in the model:  12160000\n"
     ]
    }
   ],
   "source": [
    "# get the number of parameters in the model\n",
    "def count_parameters(model):\n",
    "    return sum(p.numel() for p in model.parameters() if p.requires_grad)\n",
    "\n",
    "print(\"number of parameters in the model: \", count_parameters(model))"
   ]
  },
  {
   "cell_type": "code",
   "execution_count": 33,
   "metadata": {},
   "outputs": [
    {
     "data": {
      "text/plain": [
       "torch.Size([468832276])"
      ]
     },
     "execution_count": 33,
     "metadata": {},
     "output_type": "execute_result"
    }
   ],
   "source": [
    "data.shape"
   ]
  },
  {
   "cell_type": "code",
   "execution_count": 34,
   "metadata": {},
   "outputs": [
    {
     "data": {
      "text/plain": [
       "tensor([[0]], device='cuda:0')"
      ]
     },
     "execution_count": 34,
     "metadata": {},
     "output_type": "execute_result"
    }
   ],
   "source": [
    "# logits, loss = self(idx[:,-T:])\n",
    "\n",
    "idx = torch.zeros(1, 1).long()\n",
    "idx[:,-T:]"
   ]
  },
  {
   "cell_type": "code",
   "execution_count": 35,
   "metadata": {},
   "outputs": [
    {
     "data": {
      "text/plain": [
       "device(type='cuda', index=0)"
      ]
     },
     "execution_count": 35,
     "metadata": {},
     "output_type": "execute_result"
    }
   ],
   "source": [
    "model.token_embedding_table.weight.device"
   ]
  },
  {
   "cell_type": "code",
   "execution_count": 36,
   "metadata": {},
   "outputs": [],
   "source": [
    "eval_iters = 10\n",
    "eval_interval = 300\n",
    "@torch.no_grad()\n",
    "def estimate_loss(is_last=False):\n",
    "    out = {}\n",
    "    model.eval()\n",
    "    for split in ['train', 'val']:\n",
    "        real_iters = eval_iters\n",
    "        if is_last and split == 'val':  # increase last eval to mitigate noise\n",
    "            real_iters *= 10 \n",
    "        losses = torch.zeros(real_iters)\n",
    "        for k in range(real_iters):\n",
    "            X, Y = get_batch(split)\n",
    "            logits, loss, kurtosis_avg = model(X, Y)\n",
    "            losses[k] = loss.item()\n",
    "        out[split] = losses.mean() / chars_per_token\n",
    "    model.train()\n",
    "    return out\n",
    "    "
   ]
  },
  {
   "cell_type": "code",
   "execution_count": 37,
   "metadata": {},
   "outputs": [
    {
     "name": "stdout",
     "output_type": "stream",
     "text": [
      "parameter_to_data_ratio=0.028818645420903996\n",
      "token_embedding_table.weight: 2097152\n",
      "lm_head.weight: 2097152\n",
      "layers.0.ff.net.0.weight: 196608\n",
      "layers.0.ff.net.2.weight: 196608\n",
      "layers.1.ff.net.0.weight: 196608\n",
      "layers.1.ff.net.2.weight: 196608\n",
      "layers.2.ff.net.0.weight: 196608\n",
      "layers.2.ff.net.2.weight: 196608\n",
      "layers.3.ff.net.0.weight: 196608\n",
      "layers.3.ff.net.2.weight: 196608\n",
      "layers.4.ff.net.0.weight: 196608\n",
      "layers.4.ff.net.2.weight: 196608\n",
      "layers.5.ff.net.0.weight: 196608\n",
      "layers.5.ff.net.2.weight: 196608\n",
      "layers.6.ff.net.0.weight: 196608\n",
      "layers.6.ff.net.2.weight: 196608\n",
      "layers.7.ff.net.0.weight: 196608\n",
      "layers.7.ff.net.2.weight: 196608\n",
      "layers.8.ff.net.0.weight: 196608\n",
      "layers.8.ff.net.2.weight: 196608\n",
      "layers.9.ff.net.0.weight: 196608\n",
      "layers.9.ff.net.2.weight: 196608\n",
      "layers.10.ff.net.0.weight: 196608\n",
      "layers.10.ff.net.2.weight: 196608\n",
      "layers.11.ff.net.0.weight: 196608\n",
      "layers.11.ff.net.2.weight: 196608\n",
      "position_embedding_table.weight: 65536\n",
      "layers.0.attention.combine_heads.weight: 65536\n",
      "layers.1.attention.combine_heads.weight: 65536\n",
      "layers.2.attention.combine_heads.weight: 65536\n",
      "layers.3.attention.combine_heads.weight: 65536\n",
      "layers.4.attention.combine_heads.weight: 65536\n",
      "layers.5.attention.combine_heads.weight: 65536\n",
      "layers.6.attention.combine_heads.weight: 65536\n",
      "layers.7.attention.combine_heads.weight: 65536\n",
      "layers.8.attention.combine_heads.weight: 65536\n",
      "layers.9.attention.combine_heads.weight: 65536\n",
      "layers.10.attention.combine_heads.weight: 65536\n",
      "layers.11.attention.combine_heads.weight: 65536\n",
      "lm_head.bias: 8192\n",
      "layers.0.attention.heads.0.query.weight: 8192\n",
      "layers.0.attention.heads.0.key.weight: 8192\n",
      "layers.0.attention.heads.0.value.weight: 8192\n",
      "layers.0.attention.heads.1.query.weight: 8192\n",
      "layers.0.attention.heads.1.key.weight: 8192\n",
      "layers.0.attention.heads.1.value.weight: 8192\n",
      "layers.0.attention.heads.2.query.weight: 8192\n",
      "layers.0.attention.heads.2.key.weight: 8192\n",
      "layers.0.attention.heads.2.value.weight: 8192\n",
      "layers.0.attention.heads.3.query.weight: 8192\n",
      "layers.0.attention.heads.3.key.weight: 8192\n",
      "layers.0.attention.heads.3.value.weight: 8192\n",
      "layers.0.attention.heads.4.query.weight: 8192\n",
      "layers.0.attention.heads.4.key.weight: 8192\n",
      "layers.0.attention.heads.4.value.weight: 8192\n",
      "layers.0.attention.heads.5.query.weight: 8192\n",
      "layers.0.attention.heads.5.key.weight: 8192\n",
      "layers.0.attention.heads.5.value.weight: 8192\n",
      "layers.0.attention.heads.6.query.weight: 8192\n",
      "layers.0.attention.heads.6.key.weight: 8192\n",
      "layers.0.attention.heads.6.value.weight: 8192\n",
      "layers.0.attention.heads.7.query.weight: 8192\n",
      "layers.0.attention.heads.7.key.weight: 8192\n",
      "layers.0.attention.heads.7.value.weight: 8192\n",
      "layers.1.attention.heads.0.query.weight: 8192\n",
      "layers.1.attention.heads.0.key.weight: 8192\n",
      "layers.1.attention.heads.0.value.weight: 8192\n",
      "layers.1.attention.heads.1.query.weight: 8192\n",
      "layers.1.attention.heads.1.key.weight: 8192\n",
      "layers.1.attention.heads.1.value.weight: 8192\n",
      "layers.1.attention.heads.2.query.weight: 8192\n",
      "layers.1.attention.heads.2.key.weight: 8192\n",
      "layers.1.attention.heads.2.value.weight: 8192\n",
      "layers.1.attention.heads.3.query.weight: 8192\n",
      "layers.1.attention.heads.3.key.weight: 8192\n",
      "layers.1.attention.heads.3.value.weight: 8192\n",
      "layers.1.attention.heads.4.query.weight: 8192\n",
      "layers.1.attention.heads.4.key.weight: 8192\n",
      "layers.1.attention.heads.4.value.weight: 8192\n",
      "layers.1.attention.heads.5.query.weight: 8192\n",
      "layers.1.attention.heads.5.key.weight: 8192\n",
      "layers.1.attention.heads.5.value.weight: 8192\n",
      "layers.1.attention.heads.6.query.weight: 8192\n",
      "layers.1.attention.heads.6.key.weight: 8192\n",
      "layers.1.attention.heads.6.value.weight: 8192\n",
      "layers.1.attention.heads.7.query.weight: 8192\n",
      "layers.1.attention.heads.7.key.weight: 8192\n",
      "layers.1.attention.heads.7.value.weight: 8192\n",
      "layers.2.attention.heads.0.query.weight: 8192\n",
      "layers.2.attention.heads.0.key.weight: 8192\n",
      "layers.2.attention.heads.0.value.weight: 8192\n",
      "layers.2.attention.heads.1.query.weight: 8192\n",
      "layers.2.attention.heads.1.key.weight: 8192\n",
      "layers.2.attention.heads.1.value.weight: 8192\n",
      "layers.2.attention.heads.2.query.weight: 8192\n",
      "layers.2.attention.heads.2.key.weight: 8192\n",
      "layers.2.attention.heads.2.value.weight: 8192\n",
      "layers.2.attention.heads.3.query.weight: 8192\n",
      "layers.2.attention.heads.3.key.weight: 8192\n",
      "layers.2.attention.heads.3.value.weight: 8192\n",
      "layers.2.attention.heads.4.query.weight: 8192\n",
      "layers.2.attention.heads.4.key.weight: 8192\n",
      "layers.2.attention.heads.4.value.weight: 8192\n",
      "layers.2.attention.heads.5.query.weight: 8192\n",
      "layers.2.attention.heads.5.key.weight: 8192\n",
      "layers.2.attention.heads.5.value.weight: 8192\n",
      "layers.2.attention.heads.6.query.weight: 8192\n",
      "layers.2.attention.heads.6.key.weight: 8192\n",
      "layers.2.attention.heads.6.value.weight: 8192\n",
      "layers.2.attention.heads.7.query.weight: 8192\n",
      "layers.2.attention.heads.7.key.weight: 8192\n",
      "layers.2.attention.heads.7.value.weight: 8192\n",
      "layers.3.attention.heads.0.query.weight: 8192\n",
      "layers.3.attention.heads.0.key.weight: 8192\n",
      "layers.3.attention.heads.0.value.weight: 8192\n",
      "layers.3.attention.heads.1.query.weight: 8192\n",
      "layers.3.attention.heads.1.key.weight: 8192\n",
      "layers.3.attention.heads.1.value.weight: 8192\n",
      "layers.3.attention.heads.2.query.weight: 8192\n",
      "layers.3.attention.heads.2.key.weight: 8192\n",
      "layers.3.attention.heads.2.value.weight: 8192\n",
      "layers.3.attention.heads.3.query.weight: 8192\n",
      "layers.3.attention.heads.3.key.weight: 8192\n",
      "layers.3.attention.heads.3.value.weight: 8192\n",
      "layers.3.attention.heads.4.query.weight: 8192\n",
      "layers.3.attention.heads.4.key.weight: 8192\n",
      "layers.3.attention.heads.4.value.weight: 8192\n",
      "layers.3.attention.heads.5.query.weight: 8192\n",
      "layers.3.attention.heads.5.key.weight: 8192\n",
      "layers.3.attention.heads.5.value.weight: 8192\n",
      "layers.3.attention.heads.6.query.weight: 8192\n",
      "layers.3.attention.heads.6.key.weight: 8192\n",
      "layers.3.attention.heads.6.value.weight: 8192\n",
      "layers.3.attention.heads.7.query.weight: 8192\n",
      "layers.3.attention.heads.7.key.weight: 8192\n",
      "layers.3.attention.heads.7.value.weight: 8192\n",
      "layers.4.attention.heads.0.query.weight: 8192\n",
      "layers.4.attention.heads.0.key.weight: 8192\n",
      "layers.4.attention.heads.0.value.weight: 8192\n",
      "layers.4.attention.heads.1.query.weight: 8192\n",
      "layers.4.attention.heads.1.key.weight: 8192\n",
      "layers.4.attention.heads.1.value.weight: 8192\n",
      "layers.4.attention.heads.2.query.weight: 8192\n",
      "layers.4.attention.heads.2.key.weight: 8192\n",
      "layers.4.attention.heads.2.value.weight: 8192\n",
      "layers.4.attention.heads.3.query.weight: 8192\n",
      "layers.4.attention.heads.3.key.weight: 8192\n",
      "layers.4.attention.heads.3.value.weight: 8192\n",
      "layers.4.attention.heads.4.query.weight: 8192\n",
      "layers.4.attention.heads.4.key.weight: 8192\n",
      "layers.4.attention.heads.4.value.weight: 8192\n",
      "layers.4.attention.heads.5.query.weight: 8192\n",
      "layers.4.attention.heads.5.key.weight: 8192\n",
      "layers.4.attention.heads.5.value.weight: 8192\n",
      "layers.4.attention.heads.6.query.weight: 8192\n",
      "layers.4.attention.heads.6.key.weight: 8192\n",
      "layers.4.attention.heads.6.value.weight: 8192\n",
      "layers.4.attention.heads.7.query.weight: 8192\n",
      "layers.4.attention.heads.7.key.weight: 8192\n",
      "layers.4.attention.heads.7.value.weight: 8192\n",
      "layers.5.attention.heads.0.query.weight: 8192\n",
      "layers.5.attention.heads.0.key.weight: 8192\n",
      "layers.5.attention.heads.0.value.weight: 8192\n",
      "layers.5.attention.heads.1.query.weight: 8192\n",
      "layers.5.attention.heads.1.key.weight: 8192\n",
      "layers.5.attention.heads.1.value.weight: 8192\n",
      "layers.5.attention.heads.2.query.weight: 8192\n",
      "layers.5.attention.heads.2.key.weight: 8192\n",
      "layers.5.attention.heads.2.value.weight: 8192\n",
      "layers.5.attention.heads.3.query.weight: 8192\n",
      "layers.5.attention.heads.3.key.weight: 8192\n",
      "layers.5.attention.heads.3.value.weight: 8192\n",
      "layers.5.attention.heads.4.query.weight: 8192\n",
      "layers.5.attention.heads.4.key.weight: 8192\n",
      "layers.5.attention.heads.4.value.weight: 8192\n",
      "layers.5.attention.heads.5.query.weight: 8192\n",
      "layers.5.attention.heads.5.key.weight: 8192\n",
      "layers.5.attention.heads.5.value.weight: 8192\n",
      "layers.5.attention.heads.6.query.weight: 8192\n",
      "layers.5.attention.heads.6.key.weight: 8192\n",
      "layers.5.attention.heads.6.value.weight: 8192\n",
      "layers.5.attention.heads.7.query.weight: 8192\n",
      "layers.5.attention.heads.7.key.weight: 8192\n",
      "layers.5.attention.heads.7.value.weight: 8192\n",
      "layers.6.attention.heads.0.query.weight: 8192\n",
      "layers.6.attention.heads.0.key.weight: 8192\n",
      "layers.6.attention.heads.0.value.weight: 8192\n",
      "layers.6.attention.heads.1.query.weight: 8192\n",
      "layers.6.attention.heads.1.key.weight: 8192\n",
      "layers.6.attention.heads.1.value.weight: 8192\n",
      "layers.6.attention.heads.2.query.weight: 8192\n",
      "layers.6.attention.heads.2.key.weight: 8192\n",
      "layers.6.attention.heads.2.value.weight: 8192\n",
      "layers.6.attention.heads.3.query.weight: 8192\n",
      "layers.6.attention.heads.3.key.weight: 8192\n",
      "layers.6.attention.heads.3.value.weight: 8192\n",
      "layers.6.attention.heads.4.query.weight: 8192\n",
      "layers.6.attention.heads.4.key.weight: 8192\n",
      "layers.6.attention.heads.4.value.weight: 8192\n",
      "layers.6.attention.heads.5.query.weight: 8192\n",
      "layers.6.attention.heads.5.key.weight: 8192\n",
      "layers.6.attention.heads.5.value.weight: 8192\n",
      "layers.6.attention.heads.6.query.weight: 8192\n",
      "layers.6.attention.heads.6.key.weight: 8192\n",
      "layers.6.attention.heads.6.value.weight: 8192\n",
      "layers.6.attention.heads.7.query.weight: 8192\n",
      "layers.6.attention.heads.7.key.weight: 8192\n",
      "layers.6.attention.heads.7.value.weight: 8192\n",
      "layers.7.attention.heads.0.query.weight: 8192\n",
      "layers.7.attention.heads.0.key.weight: 8192\n",
      "layers.7.attention.heads.0.value.weight: 8192\n",
      "layers.7.attention.heads.1.query.weight: 8192\n",
      "layers.7.attention.heads.1.key.weight: 8192\n",
      "layers.7.attention.heads.1.value.weight: 8192\n",
      "layers.7.attention.heads.2.query.weight: 8192\n",
      "layers.7.attention.heads.2.key.weight: 8192\n",
      "layers.7.attention.heads.2.value.weight: 8192\n",
      "layers.7.attention.heads.3.query.weight: 8192\n",
      "layers.7.attention.heads.3.key.weight: 8192\n",
      "layers.7.attention.heads.3.value.weight: 8192\n",
      "layers.7.attention.heads.4.query.weight: 8192\n",
      "layers.7.attention.heads.4.key.weight: 8192\n",
      "layers.7.attention.heads.4.value.weight: 8192\n",
      "layers.7.attention.heads.5.query.weight: 8192\n",
      "layers.7.attention.heads.5.key.weight: 8192\n",
      "layers.7.attention.heads.5.value.weight: 8192\n",
      "layers.7.attention.heads.6.query.weight: 8192\n",
      "layers.7.attention.heads.6.key.weight: 8192\n",
      "layers.7.attention.heads.6.value.weight: 8192\n",
      "layers.7.attention.heads.7.query.weight: 8192\n",
      "layers.7.attention.heads.7.key.weight: 8192\n",
      "layers.7.attention.heads.7.value.weight: 8192\n",
      "layers.8.attention.heads.0.query.weight: 8192\n",
      "layers.8.attention.heads.0.key.weight: 8192\n",
      "layers.8.attention.heads.0.value.weight: 8192\n",
      "layers.8.attention.heads.1.query.weight: 8192\n",
      "layers.8.attention.heads.1.key.weight: 8192\n",
      "layers.8.attention.heads.1.value.weight: 8192\n",
      "layers.8.attention.heads.2.query.weight: 8192\n",
      "layers.8.attention.heads.2.key.weight: 8192\n",
      "layers.8.attention.heads.2.value.weight: 8192\n",
      "layers.8.attention.heads.3.query.weight: 8192\n",
      "layers.8.attention.heads.3.key.weight: 8192\n",
      "layers.8.attention.heads.3.value.weight: 8192\n",
      "layers.8.attention.heads.4.query.weight: 8192\n",
      "layers.8.attention.heads.4.key.weight: 8192\n",
      "layers.8.attention.heads.4.value.weight: 8192\n",
      "layers.8.attention.heads.5.query.weight: 8192\n",
      "layers.8.attention.heads.5.key.weight: 8192\n",
      "layers.8.attention.heads.5.value.weight: 8192\n",
      "layers.8.attention.heads.6.query.weight: 8192\n",
      "layers.8.attention.heads.6.key.weight: 8192\n",
      "layers.8.attention.heads.6.value.weight: 8192\n",
      "layers.8.attention.heads.7.query.weight: 8192\n",
      "layers.8.attention.heads.7.key.weight: 8192\n",
      "layers.8.attention.heads.7.value.weight: 8192\n",
      "layers.9.attention.heads.0.query.weight: 8192\n",
      "layers.9.attention.heads.0.key.weight: 8192\n",
      "layers.9.attention.heads.0.value.weight: 8192\n",
      "layers.9.attention.heads.1.query.weight: 8192\n",
      "layers.9.attention.heads.1.key.weight: 8192\n",
      "layers.9.attention.heads.1.value.weight: 8192\n",
      "layers.9.attention.heads.2.query.weight: 8192\n",
      "layers.9.attention.heads.2.key.weight: 8192\n",
      "layers.9.attention.heads.2.value.weight: 8192\n",
      "layers.9.attention.heads.3.query.weight: 8192\n",
      "layers.9.attention.heads.3.key.weight: 8192\n",
      "layers.9.attention.heads.3.value.weight: 8192\n",
      "layers.9.attention.heads.4.query.weight: 8192\n",
      "layers.9.attention.heads.4.key.weight: 8192\n",
      "layers.9.attention.heads.4.value.weight: 8192\n",
      "layers.9.attention.heads.5.query.weight: 8192\n",
      "layers.9.attention.heads.5.key.weight: 8192\n",
      "layers.9.attention.heads.5.value.weight: 8192\n",
      "layers.9.attention.heads.6.query.weight: 8192\n",
      "layers.9.attention.heads.6.key.weight: 8192\n",
      "layers.9.attention.heads.6.value.weight: 8192\n",
      "layers.9.attention.heads.7.query.weight: 8192\n",
      "layers.9.attention.heads.7.key.weight: 8192\n",
      "layers.9.attention.heads.7.value.weight: 8192\n",
      "layers.10.attention.heads.0.query.weight: 8192\n",
      "layers.10.attention.heads.0.key.weight: 8192\n",
      "layers.10.attention.heads.0.value.weight: 8192\n",
      "layers.10.attention.heads.1.query.weight: 8192\n",
      "layers.10.attention.heads.1.key.weight: 8192\n",
      "layers.10.attention.heads.1.value.weight: 8192\n",
      "layers.10.attention.heads.2.query.weight: 8192\n",
      "layers.10.attention.heads.2.key.weight: 8192\n",
      "layers.10.attention.heads.2.value.weight: 8192\n",
      "layers.10.attention.heads.3.query.weight: 8192\n",
      "layers.10.attention.heads.3.key.weight: 8192\n",
      "layers.10.attention.heads.3.value.weight: 8192\n",
      "layers.10.attention.heads.4.query.weight: 8192\n",
      "layers.10.attention.heads.4.key.weight: 8192\n",
      "layers.10.attention.heads.4.value.weight: 8192\n",
      "layers.10.attention.heads.5.query.weight: 8192\n",
      "layers.10.attention.heads.5.key.weight: 8192\n",
      "layers.10.attention.heads.5.value.weight: 8192\n",
      "layers.10.attention.heads.6.query.weight: 8192\n",
      "layers.10.attention.heads.6.key.weight: 8192\n",
      "layers.10.attention.heads.6.value.weight: 8192\n",
      "layers.10.attention.heads.7.query.weight: 8192\n",
      "layers.10.attention.heads.7.key.weight: 8192\n",
      "layers.10.attention.heads.7.value.weight: 8192\n",
      "layers.11.attention.heads.0.query.weight: 8192\n",
      "layers.11.attention.heads.0.key.weight: 8192\n",
      "layers.11.attention.heads.0.value.weight: 8192\n",
      "layers.11.attention.heads.1.query.weight: 8192\n",
      "layers.11.attention.heads.1.key.weight: 8192\n",
      "layers.11.attention.heads.1.value.weight: 8192\n",
      "layers.11.attention.heads.2.query.weight: 8192\n",
      "layers.11.attention.heads.2.key.weight: 8192\n",
      "layers.11.attention.heads.2.value.weight: 8192\n",
      "layers.11.attention.heads.3.query.weight: 8192\n",
      "layers.11.attention.heads.3.key.weight: 8192\n",
      "layers.11.attention.heads.3.value.weight: 8192\n",
      "layers.11.attention.heads.4.query.weight: 8192\n",
      "layers.11.attention.heads.4.key.weight: 8192\n",
      "layers.11.attention.heads.4.value.weight: 8192\n",
      "layers.11.attention.heads.5.query.weight: 8192\n",
      "layers.11.attention.heads.5.key.weight: 8192\n",
      "layers.11.attention.heads.5.value.weight: 8192\n",
      "layers.11.attention.heads.6.query.weight: 8192\n",
      "layers.11.attention.heads.6.key.weight: 8192\n",
      "layers.11.attention.heads.6.value.weight: 8192\n",
      "layers.11.attention.heads.7.query.weight: 8192\n",
      "layers.11.attention.heads.7.key.weight: 8192\n",
      "layers.11.attention.heads.7.value.weight: 8192\n",
      "layers.0.ff.net.0.bias: 768\n",
      "layers.1.ff.net.0.bias: 768\n",
      "layers.2.ff.net.0.bias: 768\n",
      "layers.3.ff.net.0.bias: 768\n",
      "layers.4.ff.net.0.bias: 768\n",
      "layers.5.ff.net.0.bias: 768\n",
      "layers.6.ff.net.0.bias: 768\n",
      "layers.7.ff.net.0.bias: 768\n",
      "layers.8.ff.net.0.bias: 768\n",
      "layers.9.ff.net.0.bias: 768\n",
      "layers.10.ff.net.0.bias: 768\n",
      "layers.11.ff.net.0.bias: 768\n",
      "layers.0.attention.combine_heads.bias: 256\n",
      "layers.0.ff.net.2.bias: 256\n",
      "layers.0.norm1.gamma: 256\n",
      "layers.0.norm1.beta: 256\n",
      "layers.0.norm2.gamma: 256\n",
      "layers.0.norm2.beta: 256\n",
      "layers.1.attention.combine_heads.bias: 256\n",
      "layers.1.ff.net.2.bias: 256\n",
      "layers.1.norm1.gamma: 256\n",
      "layers.1.norm1.beta: 256\n",
      "layers.1.norm2.gamma: 256\n",
      "layers.1.norm2.beta: 256\n",
      "layers.2.attention.combine_heads.bias: 256\n",
      "layers.2.ff.net.2.bias: 256\n",
      "layers.2.norm1.gamma: 256\n",
      "layers.2.norm1.beta: 256\n",
      "layers.2.norm2.gamma: 256\n",
      "layers.2.norm2.beta: 256\n",
      "layers.3.attention.combine_heads.bias: 256\n",
      "layers.3.ff.net.2.bias: 256\n",
      "layers.3.norm1.gamma: 256\n",
      "layers.3.norm1.beta: 256\n",
      "layers.3.norm2.gamma: 256\n",
      "layers.3.norm2.beta: 256\n",
      "layers.4.attention.combine_heads.bias: 256\n",
      "layers.4.ff.net.2.bias: 256\n",
      "layers.4.norm1.gamma: 256\n",
      "layers.4.norm1.beta: 256\n",
      "layers.4.norm2.gamma: 256\n",
      "layers.4.norm2.beta: 256\n",
      "layers.5.attention.combine_heads.bias: 256\n",
      "layers.5.ff.net.2.bias: 256\n",
      "layers.5.norm1.gamma: 256\n",
      "layers.5.norm1.beta: 256\n",
      "layers.5.norm2.gamma: 256\n",
      "layers.5.norm2.beta: 256\n",
      "layers.6.attention.combine_heads.bias: 256\n",
      "layers.6.ff.net.2.bias: 256\n",
      "layers.6.norm1.gamma: 256\n",
      "layers.6.norm1.beta: 256\n",
      "layers.6.norm2.gamma: 256\n",
      "layers.6.norm2.beta: 256\n",
      "layers.7.attention.combine_heads.bias: 256\n",
      "layers.7.ff.net.2.bias: 256\n",
      "layers.7.norm1.gamma: 256\n",
      "layers.7.norm1.beta: 256\n",
      "layers.7.norm2.gamma: 256\n",
      "layers.7.norm2.beta: 256\n",
      "layers.8.attention.combine_heads.bias: 256\n",
      "layers.8.ff.net.2.bias: 256\n",
      "layers.8.norm1.gamma: 256\n",
      "layers.8.norm1.beta: 256\n",
      "layers.8.norm2.gamma: 256\n",
      "layers.8.norm2.beta: 256\n",
      "layers.9.attention.combine_heads.bias: 256\n",
      "layers.9.ff.net.2.bias: 256\n",
      "layers.9.norm1.gamma: 256\n",
      "layers.9.norm1.beta: 256\n",
      "layers.9.norm2.gamma: 256\n",
      "layers.9.norm2.beta: 256\n",
      "layers.10.attention.combine_heads.bias: 256\n",
      "layers.10.ff.net.2.bias: 256\n",
      "layers.10.norm1.gamma: 256\n",
      "layers.10.norm1.beta: 256\n",
      "layers.10.norm2.gamma: 256\n",
      "layers.10.norm2.beta: 256\n",
      "layers.11.attention.combine_heads.bias: 256\n",
      "layers.11.ff.net.2.bias: 256\n",
      "layers.11.norm1.gamma: 256\n",
      "layers.11.norm1.beta: 256\n",
      "layers.11.norm2.gamma: 256\n",
      "layers.11.norm2.beta: 256\n"
     ]
    }
   ],
   "source": [
    "# get the number of parameters\n",
    "n_params = sum(p.numel() for p in model.parameters())\n",
    "parameter_to_data_ratio = n_params / len(train_data)\n",
    "print(f\"{parameter_to_data_ratio=}\")\n",
    "\n",
    "parameters = []\n",
    "for name, param in model.named_parameters():\n",
    "    parameters.append({\"name\": name, \"params\": param.numel()})\n",
    "\n",
    "# sort parameters by size\n",
    "sorted_parameters = sorted(parameters, key=lambda x: x[\"params\"], reverse=True)\n",
    "for p in sorted_parameters:\n",
    "    print(f\"{p['name']}: {p['params']}\")"
   ]
  },
  {
   "cell_type": "code",
   "execution_count": 38,
   "metadata": {},
   "outputs": [],
   "source": [
    "# optimizer = torch.optim.Adam(model.parameters(), lr=learning_rate)\n",
    "\n",
    "# import tqdm\n",
    "# num_params = sum([p.numel() for p in model.parameters()])\n",
    "\n",
    "# for steps in tqdm.tqdm(range(max_iters)):\n",
    "#     xb, yb = get_batch('train')\n",
    "#     # loss\n",
    "#     logits, loss, kurtosis_avg = model(xb, yb)\n",
    "#     optimizer.zero_grad(set_to_none=True)\n",
    "#     # l2 regularization\n",
    "#     # l2 = sum(p.pow(2).sum() for p in model.parameters()) / num_params\n",
    "#     loss = loss + kurtosis_avg * 0.4/160\n",
    "\n",
    "#     loss.backward()\n",
    "#     optimizer.step()\n",
    "#     if steps % eval_interval == 0:\n",
    "#         losses = estimate_loss()\n",
    "#         # wandb.log({\"tIain\": losses['train'].item(), \"val\": losses['val'].item(), \"l2\":l2})\n",
    "#         print({\"tIain\": losses['train'].item(), \"val\": losses['val'].item(), \"kurtosis_avg\": kurtosis_avg.item()})\n",
    "\n",
    "# losses = estimate_loss(is_last=True)\n",
    "# # wandb.log({\"train\": losses['train'].item(), \"val\": losses['val'].item()})\n",
    "# # wandb.finish()\n"
   ]
  },
  {
   "cell_type": "code",
   "execution_count": 39,
   "metadata": {},
   "outputs": [
    {
     "data": {
      "text/plain": [
       "{'train': tensor(2.3234, device='cuda:0'),\n",
       " 'val': tensor(2.3224, device='cuda:0')}"
      ]
     },
     "execution_count": 39,
     "metadata": {},
     "output_type": "execute_result"
    }
   ],
   "source": [
    "estimate_loss()"
   ]
  },
  {
   "cell_type": "code",
   "execution_count": 40,
   "metadata": {},
   "outputs": [],
   "source": [
    "# save model\n",
    "# torch.save(model.state_dict(), 'tiny-stories-model-v2-kurtosis-penalty.pt')\n",
    "\n"
   ]
  },
  {
   "cell_type": "code",
   "execution_count": 41,
   "metadata": {},
   "outputs": [
    {
     "data": {
      "text/plain": [
       "<All keys matched successfully>"
      ]
     },
     "execution_count": 41,
     "metadata": {},
     "output_type": "execute_result"
    }
   ],
   "source": [
    "# load the model\n",
    "model.load_state_dict(torch.load('tiny-stories-model-v2-kurtosis-penalty.pt'))\n"
   ]
  },
  {
   "cell_type": "code",
   "execution_count": 54,
   "metadata": {},
   "outputs": [
    {
     "name": "stdout",
     "output_type": "stream",
     "text": [
      "Once upon a time Robotido was sad. He was very hungry and he wanted to eat something. So he asked his friends for help. Together, they all got some food from the fridge.\n",
      "\n",
      "The brothers gathered all the food from the fridge and shared it with their friends. Everyone was so happy to have a new friend. They all loved the food and they all lived happily ever after.\n",
      "\n",
      "The end.\"\n",
      "\"Once there was a girl named Lily. She loved to play with her toys and her favorite was a teddy bear. One day, Lily's mom asked her to help her dad in the kitchen. Lily was so excited to help her dad. \n",
      "\n",
      "Lily's dad came into the kitchen and saw that Lily was holding a big box of toys. He said, \"\"Lily, can you please help me unpack this box? It's a fun toy.\"\" Lily was so happy to help her dad.\n",
      "\n",
      "Together, they unpacked the toys and Lily's mom said, \"\"Now Lily can unpack the toys for everyone\n"
     ]
    }
   ],
   "source": [
    "print(model.prompt_model(\"Once upon a time Robotido was sad.\", 200, 0.5))"
   ]
  },
  {
   "cell_type": "markdown",
   "metadata": {},
   "source": [
    "Lilly and Ben did not see the big dog behind them. The dog was grumpy and chased them. Ben and Lily tried to run away, but the dog was faster. The dog bit Ben's leg and Ben cry. Lila felt a sharp pain and drops many blood. She was scared and hurt.\n",
    "\n",
    "Lila and Ben's mom and dad heard the noise and come outside. They see the dog and the twins. They are sorry and worried. They call the police. The police come and take the dog away. They put the dog with no owner. Lila and Ben are happy and grateful. They hug their mom and dad.\n",
    "\n",
    "The dog is not a toy. He is a good dog. He is strong and brave. He protects Lila and Ben and plays with them again. The dog looks at them, curious and friendly. He wants to be their friend. He licks their faces and makes them laugh. Lila and Ben smile and laugh. They pick up their toy animals and play with them. They are not grumpy anymore. They"
   ]
  },
  {
   "cell_type": "code",
   "execution_count": null,
   "metadata": {},
   "outputs": [],
   "source": [
    "# test_idx = torch.zeros(1, T).long() * 198\n",
    "# print(decode(\n",
    "#     model.generate(idx=test_idx, max_new_tokens=C, temperature=0.5)[0].tolist()\n",
    "# )[T:])"
   ]
  },
  {
   "cell_type": "markdown",
   "metadata": {},
   "source": [
    "# Kurtosis Experimentation"
   ]
  },
  {
   "cell_type": "code",
   "execution_count": 55,
   "metadata": {},
   "outputs": [],
   "source": [
    "story1='''Once upon a time, in a big forest, there lived a rhinoceros named Roxy. Roxy loved to climb. She climbed trees, rocks, and hills. One day, Roxy found an icy hill. She had never seen anything like it before. It was shiny and cold, and she wanted to climb it.\n",
    "Roxy tried to climb the icy hill, but it was very slippery. She tried again and again, but she kept falling down. Roxy was sad. She wanted to climb the icy hill so much. Then, she saw a little bird named Billy. Billy saw that Roxy was sad and asked, \"Why are you sad, Roxy?\"\n",
    "Roxy told Billy about the icy hill and how she couldn't climb it'''"
   ]
  },
  {
   "cell_type": "code",
   "execution_count": 56,
   "metadata": {},
   "outputs": [],
   "source": [
    "# assume BxTxC\n",
    "def excess_kurtosis(emb):\n",
    "    mean = torch.mean(emb, dim=-1, keepdim=True) # BxTx1\n",
    "    std = torch.std(emb, dim=-1, keepdim=True) # BxTx1\n",
    "\n",
    "    centralized = emb - mean #BxTxC\n",
    "    fourth_moment = torch.mean(centralized**4, dim=-1, keepdim=True) # BxTx1\n",
    "    kurtosis = torch.squeeze(fourth_moment / std**4, dim=-1) # BxT\n",
    "    return kurtosis - 3\n"
   ]
  },
  {
   "cell_type": "code",
   "execution_count": 41,
   "metadata": {},
   "outputs": [
    {
     "name": "stdout",
     "output_type": "stream",
     "text": [
      "torch.Size([2, 1])\n",
      "tensor([[-48.6246, -50.1500, -46.2136, -50.2996, -49.1006, -50.8820, -50.0077,\n",
      "         -48.9530, -50.0748, -49.1657],\n",
      "        [ -2.4294,  -2.1867,  -1.7395,  -2.8816,  -2.2866,   0.3952,  -2.0154,\n",
      "          -1.5917,  -0.1046,  -2.9431]], device='cuda:0')\n"
     ]
    }
   ],
   "source": [
    "a = torch.randn(2, 10)\n",
    "b = torch.tensor([[50], [1]])\n",
    "print(b.shape)\n",
    "print(a - b)\n",
    "\n"
   ]
  },
  {
   "cell_type": "code",
   "execution_count": 58,
   "metadata": {},
   "outputs": [
    {
     "name": "stdout",
     "output_type": "stream",
     "text": [
      "Index of the highest value in emb1: 113\n",
      "Index of the highest value in emb2: 74\n",
      "Index of the lowest value in emb1: 86\n",
      "Index of the lowest value in emb2: 86\n",
      "emb1 excess kurtosis: 0.5724334716796875\n",
      "emb2 excess kurtosis: 1.4587574005126953\n",
      "Dot product between emb1 and emb2: 0.7793273329734802\n"
     ]
    }
   ],
   "source": [
    "emb1 = model.get_embedding(\"Tim and Lily saw a big dog\", override_model_embedding_layer=6)\n",
    "emb2 = model.get_embedding(\"Tim and Lily noticed a cat\", override_model_embedding_layer=6)\n",
    "\n",
    "\n",
    "import matplotlib.pyplot as plt\n",
    "import numpy as np\n",
    "\n",
    "\n",
    "\n",
    "# Plot emb1 and emb2 in the same plot\n",
    "# plt.figure(figsize=(10, 5))\n",
    "# plt.plot(np.square(emb1.cpu().detach().numpy()), label='emb1', color='blue')\n",
    "# plt.plot(np.square(emb2.cpu().detach().numpy()), label='emb2', color='red')\n",
    "# plt.xlabel('Index')\n",
    "# plt.ylabel('Value')\n",
    "# plt.title('emb1 and emb2 Plot')\n",
    "# plt.legend()\n",
    "# plt.show()\n",
    "\n",
    "\n",
    "\n",
    "# get the index of the highest value\n",
    "# Assuming emb1 and emb2 are tensors\n",
    "highest_value_index_emb1 = torch.argmax(emb1).item()\n",
    "highest_value_index_emb2 = torch.argmax(emb2).item()\n",
    "\n",
    "lowest_value_index_emb1 = torch.argmin(emb1).item()\n",
    "lowest_value_index_emb2 = torch.argmin(emb2).item()\n",
    "\n",
    "print(f\"Index of the highest value in emb1: {highest_value_index_emb1}\")\n",
    "print(f\"Index of the highest value in emb2: {highest_value_index_emb2}\")\n",
    "print(f\"Index of the lowest value in emb1: {lowest_value_index_emb1}\")\n",
    "print(f\"Index of the lowest value in emb2: {lowest_value_index_emb2}\")\n",
    "\n",
    "print(f\"emb1 excess kurtosis: {excess_kurtosis(emb1)}\")\n",
    "print(f\"emb2 excess kurtosis: {excess_kurtosis(emb2)}\")\n",
    "\n",
    "# dot product between emb1 and emb2\n",
    "emb1_l2 = F.normalize(emb1, p=2, dim=-1)\n",
    "emb2_l2 = F.normalize(emb2, p=2, dim=-1)\n",
    "print(f\"Dot product between emb1 and emb2: {torch.dot(emb1_l2, emb2_l2)}\")\n",
    "\n"
   ]
  },
  {
   "cell_type": "code",
   "execution_count": null,
   "metadata": {},
   "outputs": [],
   "source": []
  },
  {
   "cell_type": "code",
   "execution_count": null,
   "metadata": {},
   "outputs": [],
   "source": []
  },
  {
   "cell_type": "code",
   "execution_count": 40,
   "metadata": {},
   "outputs": [
    {
     "data": {
      "image/png": "[encoded data removed]",
      "text/plain": [
       "<Figure size 1000x500 with 1 Axes>"
      ]
     },
     "metadata": {},
     "output_type": "display_data"
    },
    {
     "name": "stdout",
     "output_type": "stream",
     "text": [
      "Index of the highest value in residuals: 74, Highest value: 12.552816390991211\n",
      "Index of the lowest value in residuals: 219, Lowest value: -19.478925704956055\n",
      "residuals excess kurtosis: 5.689615249633789\n"
     ]
    }
   ],
   "source": [
    "xb, yb = get_batch('train')\n",
    "residuals = model.forward(xb, return_residuals=6)[30][0] # first batch, first word\n",
    "# Plot the residuals\n",
    "plt.figure(figsize=(10, 5))\n",
    "plt.plot(residuals.cpu().detach().numpy(), label='Residuals', color='green')\n",
    "plt.xlabel('Index')\n",
    "plt.ylabel('Residual Value')\n",
    "plt.title('Residuals Plot')\n",
    "plt.legend()\n",
    "plt.show()\n",
    "\n",
    "# Get the index of the highest and lowest value in residuals\n",
    "highest_value_index_residuals = torch.argmax(residuals).item()\n",
    "lowest_value_index_residuals = torch.argmin(residuals).item()\n",
    "\n",
    "# Get the highest and lowest value in residuals\n",
    "highest_value_residuals = residuals[highest_value_index_residuals].item()\n",
    "lowest_value_residuals = residuals[lowest_value_index_residuals].item()\n",
    "\n",
    "print(f\"Index of the highest value in residuals: {highest_value_index_residuals}, Highest value: {highest_value_residuals}\")\n",
    "print(f\"Index of the lowest value in residuals: {lowest_value_index_residuals}, Lowest value: {lowest_value_residuals}\")\n",
    "\n",
    "print(f\"residuals excess kurtosis: {excess_kurtosis(residuals)}\")\n",
    "\n",
    "\n"
   ]
  },
  {
   "cell_type": "code",
   "execution_count": 70,
   "metadata": {},
   "outputs": [
    {
     "data": {
      "image/png": "[encoded data removed]",
      "text/plain": [
       "<Figure size 1000x500 with 1 Axes>"
      ]
     },
     "metadata": {},
     "output_type": "display_data"
    }
   ],
   "source": [
    "end_token_idx = C\n",
    "embedding_layer = 6\n",
    "num_batches_sampled = 20\n",
    "\n",
    "\n",
    "@torch.no_grad\n",
    "def get_kurtosis_idx_sums(embedding_layer, num_batches_sampled):\n",
    "    kurtosis_idx_sums = torch.zeros(end_token_idx)\n",
    "    for _ in range(num_batches_sampled):\n",
    "        xb, yb = get_batch('train')\n",
    "        residuals = model.forward(xb, return_residuals=embedding_layer)\n",
    "        residuals_kurtosis_channel_mean = torch.mean(excess_kurtosis(residuals), dim=0)\n",
    "        kurtosis_idx_sums += residuals_kurtosis_channel_mean\n",
    "    return kurtosis_idx_sums / num_batches_sampled\n",
    "\n",
    "kurtosis_idx_sums = []\n",
    "for embedding_layer in range(12):\n",
    "    kurtosis_idx_sums.append(get_kurtosis_idx_sums(embedding_layer, num_batches_sampled))\n",
    "    # print(f\"kurtosis idx sums for layer {embedding_layer}: {kurtosis_idx_sums}\")\n",
    "\n",
    "\n",
    "# Plot every kurtosis idx sums on the same plot\n",
    "plt.figure(figsize=(10, 5))\n",
    "colors = plt.cm.viridis(np.linspace(0, 1, len(kurtosis_idx_sums)))\n",
    "for i, kurtosis in enumerate(kurtosis_idx_sums):\n",
    "    plt.plot(kurtosis.cpu().detach().numpy(), label=f'Layer {i}', color=colors[i])\n",
    "plt.xlabel('Index')\n",
    "plt.ylabel('Kurtosis Value')\n",
    "plt.title('Kurtosis Index Sums for Different Layers')\n",
    "plt.legend()\n",
    "plt.show()\n",
    "\n",
    "\n",
    "\n",
    "\n"
   ]
  },
  {
   "cell_type": "code",
   "execution_count": 77,
   "metadata": {},
   "outputs": [
    {
     "name": "stdout",
     "output_type": "stream",
     "text": [
      "(tensor([4., 6., 4., 0.], device='cuda:0', dtype=torch.float64), tensor([2, 2, 1, 0], device='cuda:0'))\n"
     ]
    }
   ],
   "source": [
    "import torch\n",
    "\n",
    "def kurtosis_stats_per_token(T, K, vocab_size):\n",
    "    tokens = T.view(-1)\n",
    "    kurtosis = K.view(-1)\n",
    "    counts = torch.bincount(tokens, minlength=vocab_size)\n",
    "    kurtosis_token_sums = torch.bincount(tokens, kurtosis, minlength=vocab_size)\n",
    "    return kurtosis_token_sums, counts\n",
    "\n",
    "\n",
    "input_tokens = torch.tensor([0,0,1,1,2])\n",
    "input_kurtosis = torch.tensor([2,2,3,3,4])\n",
    "\n",
    "print(kurtosis_stats_per_token(input_tokens, input_kurtosis, 4))\n",
    "\n"
   ]
  },
  {
   "cell_type": "code",
   "execution_count": 83,
   "metadata": {},
   "outputs": [],
   "source": [
    "end_token_idx = C\n",
    "embedding_layer = 6\n",
    "num_batches_sampled = 1\n",
    "\n",
    "\n",
    "@torch.no_grad\n",
    "def get_kurtosis_idx_sums(embedding_layer, num_batches_sampled):\n",
    "    kurtosis_idx_sums = torch.zeros(end_token_idx)\n",
    "    for _ in range(num_batches_sampled):\n",
    "        xb, yb = get_batch('train')\n",
    "        residuals = model.forward(xb, return_residuals=embedding_layer)\n",
    "        residuals_kurtosis_channel_mean = torch.mean(excess_kurtosis(residuals), dim=0)\n",
    "        kurtosis_idx_sums += residuals_kurtosis_channel_mean\n",
    "    return kurtosis_idx_sums / num_batches_sampled\n",
    "\n",
    "\n",
    "\n",
    "@torch.no_grad\n",
    "def get_kurtosis_avg(embedding_layer, num_batches_sampled, vocab_size):\n",
    "    kurtosis_sums_accumulator = torch.zeros(vocab_size)\n",
    "    counts_accumulator = torch.zeros(vocab_size)\n",
    "    for i in range(num_batches_sampled):\n",
    "        xb, yb = get_batch('train')\n",
    "        residuals = model.forward(xb, return_residuals=embedding_layer)\n",
    "        kurtosis_per_token = excess_kurtosis(residuals)\n",
    "        kurtosis_token_sums, counts = kurtosis_stats_per_token(xb, kurtosis_per_token, vocab_size)\n",
    "        kurtosis_sums_accumulator += kurtosis_token_sums\n",
    "        counts_accumulator += counts\n",
    "    kurtosis_avg = kurtosis_sums_accumulator / torch.max(counts_accumulator, torch.tensor(1.0))\n",
    "    return kurtosis_avg, counts\n",
    "\n",
    "kurtosis_avg, counts = get_kurtosis_avg(6, 100, tokenizer_vocab_size)\n",
    "\n",
    "\n",
    "\n",
    "\n",
    "\n",
    "\n",
    "\n",
    "\n",
    "\n",
    "\n",
    "\n",
    "\n",
    "\n",
    "\n",
    "\n"
   ]
  },
  {
   "cell_type": "code",
   "execution_count": 85,
   "metadata": {},
   "outputs": [
    {
     "name": "stdout",
     "output_type": "stream",
     "text": [
      "token: That                 count: 12         kurtosis: 2.72\n",
      "token: I                    count: 27         kurtosis: 2.58\n",
      "token:  little              count: 48         kurtosis: 1.99\n",
      "token:  \n",
      "                   count: 53         kurtosis: 1.81\n",
      "token: Once                 count: 43         kurtosis: 1.78\n",
      "token:  decided             count: 11         kurtosis: 1.72\n",
      "token:  rhinoceros          count: 12         kurtosis: 1.71\n",
      "token:  rabbit              count: 17         kurtosis: 1.71\n",
      "token:  The                 count: 71         kurtosis: 1.69\n",
      "token:  thanked             count: 11         kurtosis: 1.69\n",
      "token:  But                 count: 31         kurtosis: 1.67\n",
      "token:  One                 count: 30         kurtosis: 1.67\n",
      "token: One                  count: 22         kurtosis: 1.67\n",
      "token:  He                  count: 167        kurtosis: 1.66\n",
      "token:  thought             count: 24         kurtosis: 1.65\n",
      "token:  knew                count: 21         kurtosis: 1.62\n",
      "token:  saw                 count: 48         kurtosis: 1.62\n",
      "token:  monkey              count: 11         kurtosis: 1.62\n",
      "token:  felt                count: 29         kurtosis: 1.61\n",
      "token:  ran                 count: 28         kurtosis: 1.60\n",
      "token:  It                  count: 54         kurtosis: 1.59\n",
      "token:  wanted              count: 49         kurtosis: 1.57\n",
      "token:  She                 count: 141        kurtosis: 1.57\n",
      "token:  looked              count: 29         kurtosis: 1.57\n",
      "token:  mouse               count: 12         kurtosis: 1.56\n",
      "token:  took                count: 17         kurtosis: 1.53\n",
      "token:  boy                 count: 11         kurtosis: 1.52\n",
      "token: Mom                  count: 13         kurtosis: 1.51\n",
      "token:  started             count: 25         kurtosis: 1.51\n",
      "token:  smiled              count: 36         kurtosis: 1.51\n",
      "token:  tried               count: 12         kurtosis: 1.51\n",
      "token:  asked               count: 29         kurtosis: 1.50\n",
      "token:  girl                count: 45         kurtosis: 1.50\n",
      "token:  very                count: 57         kurtosis: 1.49\n",
      "token:  put                 count: 28         kurtosis: 1.49\n",
      "token:  so                  count: 90         kurtosis: 1.48\n",
      "token: The                  count: 60         kurtosis: 1.48\n",
      "token:  big                 count: 54         kurtosis: 1.48\n",
      "token:  learned             count: 13         kurtosis: 1.46\n",
      "token:  loved               count: 37         kurtosis: 1.43\n",
      "token:  went                count: 40         kurtosis: 1.42\n",
      "token:  found               count: 15         kurtosis: 1.42\n",
      "token:  sun                 count: 11         kurtosis: 1.41\n",
      "token:  And                 count: 14         kurtosis: 1.41\n",
      "token:  gave                count: 18         kurtosis: 1.40\n",
      "token:  couldn              count: 13         kurtosis: 1.40\n",
      "token:  They                count: 111        kurtosis: 1.40\n",
      "token:  didn                count: 16         kurtosis: 1.39\n",
      "token:  liked               count: 28         kurtosis: 1.36\n",
      "token:  otter               count: 11         kurtosis: 1.35\n",
      "token:  had                 count: 91         kurtosis: 1.34\n",
      "token:  excited             count: 20         kurtosis: 1.34\n",
      "token: \"                    count: 70         kurtosis: 1.34\n",
      "token: Tom                  count: 11         kurtosis: 1.33\n",
      "token:  sad                 count: 19         kurtosis: 1.32\n",
      "token:  bear                count: 14         kurtosis: 1.31\n",
      "token:  feeling             count: 11         kurtosis: 1.31\n",
      "token:  played              count: 12         kurtosis: 1.30\n",
      "token:  scared              count: 20         kurtosis: 1.30\n",
      "token:  man                 count: 21         kurtosis: 1.30\n",
      "token:  dog                 count: 23         kurtosis: 1.30\n",
      "token:  was                 count: 362        kurtosis: 1.29\n",
      "token:  then                count: 27         kurtosis: 1.29\n",
      "token:  got                 count: 19         kurtosis: 1.29\n",
      "token: Ben                  count: 12         kurtosis: 1.27\n",
      "token:  always              count: 19         kurtosis: 1.27\n",
      "token:  proud               count: 11         kurtosis: 1.26\n",
      "token:  You                 count: 26         kurtosis: 1.26\n",
      "token:  spoon               count: 11         kurtosis: 1.25\n",
      "token:  happy               count: 61         kurtosis: 1.25\n",
      "token:  made                count: 24         kurtosis: 1.24\n",
      "token:  did                 count: 29         kurtosis: 1.23\n",
      "token:  said                count: 108        kurtosis: 1.22\n",
      "token: Lily                 count: 16         kurtosis: 1.20\n",
      "token: \"\"                   count: 70         kurtosis: 1.19\n",
      "token: They                 count: 16         kurtosis: 1.19\n",
      "token:  would               count: 28         kurtosis: 1.18\n",
      "token:  just                count: 13         kurtosis: 1.17\n",
      "token:  helped              count: 12         kurtosis: 1.17\n",
      "token:  were                count: 36         kurtosis: 1.15\n",
      "token:  even                count: 11         kurtosis: 1.14\n",
      "token:  take                count: 15         kurtosis: 1.14\n",
      "token:  box                 count: 16         kurtosis: 1.13\n",
      "token:  careful             count: 13         kurtosis: 1.12\n",
      "token:  an                  count: 19         kurtosis: 1.12\n",
      "token:  let                 count: 11         kurtosis: 1.12\n",
      "token:  came                count: 13         kurtosis: 1.10\n",
      "token: \n",
      "                    count: 685        kurtosis: 1.10\n",
      "token:  I                   count: 57         kurtosis: 1.10\n",
      "token:  best                count: 11         kurtosis: 1.08\n",
      "token:  bowl                count: 11         kurtosis: 1.07\n",
      "token:  named               count: 27         kurtosis: 1.07\n",
      "token:  kind                count: 14         kurtosis: 1.06\n",
      "token:  he                  count: 143        kurtosis: 1.06\n",
      "token: 's                   count: 76         kurtosis: 1.05\n",
      "token:  don                 count: 17         kurtosis: 1.04\n",
      "token:  run                 count: 15         kurtosis: 1.04\n",
      "token:  Spot                count: 15         kurtosis: 1.04\n",
      "token:  all                 count: 41         kurtosis: 1.03\n",
      "token:  ball                count: 17         kurtosis: 1.03\n"
     ]
    }
   ],
   "source": [
    "\n",
    "condition = counts > 10 \n",
    "\n",
    "smushed_kurtosis_avg = torch.where(condition, kurtosis_avg, torch.zeros_like(kurtosis_avg))\n",
    "expanded_kurtosis_avg = torch.where(condition, kurtosis_avg, torch.full_like(kurtosis_avg, float('inf')))\n",
    "\n",
    "top_k_kurtosis_indices = torch.topk(smushed_kurtosis_avg, 100).indices\n",
    "bottom_k_kurtosis_indices = torch.topk(expanded_kurtosis_avg, 100, largest=False).indices\n",
    "\n",
    "\n",
    "for idx in top_k_kurtosis_indices[:1000]:\n",
    "    print(f\"token: {tokenizer.decode([idx]):<20} count: {counts[idx]:<10} kurtosis: {kurtosis_avg[idx].item():.2f}\")\n",
    "\n"
   ]
  },
  {
   "cell_type": "code",
   "execution_count": 63,
   "metadata": {},
   "outputs": [
    {
     "name": "stdout",
     "output_type": "stream",
     "text": [
      "scaling factor: 0.7111385005244215\n",
      "l2 avg: 22.49913341522217\n",
      "l2 avg * scaling factor: 16.0\n"
     ]
    }
   ],
   "source": [
    "# get the scaling factor such that the activations of the dataset have an l2 norm\n",
    "# of sqrt(C)\n",
    "\n",
    "# get the average l2 norm of the dataset, sampling from it\n",
    "\n",
    "num_l2_samples = 50\n",
    "\n",
    "sample_l2_norms = []\n",
    "for i in range(num_l2_samples):\n",
    "    xb, yb = get_batch('train')\n",
    "    residuals = model(xb, return_residuals=True)\n",
    "    l2_norm = torch.norm(residuals, dim=-1)\n",
    "    avg_l2_norm = torch.mean(l2_norm).item()\n",
    "    sample_l2_norms.append(avg_l2_norm)\n",
    "\n",
    "\n",
    "l2_avg = sum(sample_l2_norms) / num_l2_samples\n",
    "scaling_factor = (C)**.5 / l2_avg\n",
    "print(f\"scaling factor: {scaling_factor}\")\n",
    "print(f\"l2 avg: {l2_avg}\")\n",
    "\n",
    "print(f\"l2 avg * scaling factor: {l2_avg * scaling_factor}\")\n"
   ]
  },
  {
   "cell_type": "markdown",
   "metadata": {},
   "source": [
    "# Sparse AutoEncoder"
   ]
  },
  {
   "cell_type": "code",
   "execution_count": 59,
   "metadata": {},
   "outputs": [],
   "source": [
    "class SparseAutoEncoder(nn.Module):\n",
    "    def __init__(self, activations_dim, sparse_dim):\n",
    "        super().__init__()\n",
    "        self.activations_dim = activations_dim\n",
    "        encoder_weight = torch.randn(activations_dim, sparse_dim)\n",
    "        decoder_weight = torch.randn(sparse_dim, activations_dim)\n",
    "        self.encoder_bias = nn.Parameter(torch.zeros(sparse_dim))\n",
    "        self.decoder_bias = nn.Parameter(torch.zeros(activations_dim))\n",
    "        self.sparse_dim = sparse_dim\n",
    "        self.sparsity_penalty = 30\n",
    "\n",
    "        # set the encoder_weight to have the activations dim to be normalized to have l2 norm randomly between 0.05 and 1\n",
    "        direction_lengths = torch.rand(sparse_dim) * 0.95 + 0.05\n",
    "        # normalize the encoder_weight along columns (dim -2) to have l2 norm of 1\n",
    "        encoder_weight = F.normalize(encoder_weight, p=2, dim=0)\n",
    "        # multiply the column norms by the direction_lengths\n",
    "        encoder_weight = encoder_weight * direction_lengths\n",
    "        # make the decoder weight be the transpose of the encoder_weight\n",
    "        decoder_weight = torch.transpose(encoder_weight, 0, 1)\n",
    "\n",
    "        self.encoder_weight = nn.Parameter(encoder_weight)\n",
    "        self.decoder_weight = nn.Parameter(decoder_weight)\n",
    "\n",
    "\n",
    "\n",
    "    def forward(self, x):\n",
    "        # preprocessing normalization\n",
    "        # average_l2 norm of channel dimension:\n",
    "        x = x * scaling_factor\n",
    "        # now on average any embedding has euclidian length 1\n",
    "\n",
    "        encoded = F.relu(x @ self.encoder_weight + self.encoder_bias) # all act. are positive\n",
    "        decoded = encoded @ self.decoder_weight + self.decoder_bias\n",
    "\n",
    "        reconstruction_l2_loss = F.mse_loss(x, decoded)\n",
    "\n",
    "        # every row in the tall decoder matrix\n",
    "        # is the \"sum\" of the total influence of a feature on the output\n",
    "        # the l2 norm of that row is the \"influence\" of that feature on that output\n",
    "        # calculate that, store as row\n",
    "        decoder_l2 = torch.linalg.norm(self.decoder_weight, dim=-1)\n",
    "        # the feature activation is the sparse activation * it's influence on output\n",
    "        feature_activations = (encoded) * decoder_l2\n",
    "        # sum of feature activations\n",
    "        # divide by the batch size * sequence length\n",
    "        # should work if there is no batch dimension\n",
    "        if x.ndim == 3:\n",
    "            batch_dim, sequence_dim, _ = x.shape\n",
    "        elif x.ndim == 2:\n",
    "            batch_dim = 1\n",
    "            sequence_dim, _ = x.shape\n",
    "        elif x.ndim == 1:\n",
    "            batch_dim = 1\n",
    "            sequence_dim = 1\n",
    "        else:\n",
    "            raise ValueError(f\"x has {x.ndim} dimensions, but it should have 1, 2, or 3\")\n",
    "        \n",
    "        sparsity_loss = torch.sum(feature_activations) * self.sparsity_penalty / (batch_dim * sequence_dim * self.sparse_dim)\n",
    "\n",
    "        total_loss = reconstruction_l2_loss + sparsity_loss\n",
    "\n",
    "        return {\"encoded\": encoded, \"decoded\": decoded, 'feature_activations': feature_activations, \"reconstruction_loss\": reconstruction_l2_loss, \"sparsity_loss\": sparsity_loss, \"total_loss\": total_loss}\n",
    "\n",
    "\n",
    "\n",
    "\n",
    "# def test_sparse_autoencoder_sequence_independence():\n",
    "#     sae = SparseAutoEncoder(100, 300)\n",
    "#     input_embedding = torch.randn(2, 100)\n",
    "\n",
    "#     input_embedding_modified = input_embedding.clone()\n",
    "#     # modify the first in the sequence to be zeros\n",
    "#     input_embedding_modified[0, :] = torch.zeros(100)\n",
    "#     original_output = sae.forward(input_embedding)['decoded']\n",
    "#     modified_output = sae.forward(input_embedding_modified)['decoded']\n",
    "\n",
    "#     # make sure the last embedding in the sequence is the same, and the first is different\n",
    "#     assert torch.all(original_output[-1, :] == modified_output[-1, :])\n",
    "#     assert not torch.all(original_output[0, :] == modified_output[0, :])\n",
    "\n",
    "# test_sparse_autoencoder_sequence_independence()\n",
    "\n",
    "# def count_num_params_in_sae(sparse_dim_size):\n",
    "#     sae = SparseAutoEncoder(C, sparse_dim_size)\n",
    "#     num_params = sum(p.numel() for p in sae.parameters())\n",
    "#     return num_params\n",
    "\n",
    "# print(\"number of parameters:\", count_num_params_in_sae(2**14))\n",
    "# print(2**14)\n",
    "\n",
    "# def reconstruction_training_run(embedding_size, sparse_dim_size, iters, eval_frequency):\n",
    "#     def generate_tensor():\n",
    "#         return torch.randn(embedding_size)\n",
    "    \n",
    "#     sae = SparseAutoEncoder(embedding_size, sparse_dim_size)\n",
    "    \n",
    "#     optimizer = torch.optim.Adam(sae.parameters(), lr=0.0005)\n",
    "    \n",
    "#     for i in range(iters):\n",
    "#         optimizer.zero_grad()\n",
    "#         input_tensor = generate_tensor()\n",
    "#         output = sae.forward(input_tensor)\n",
    "#         loss = output['total_loss']\n",
    "#         loss.backward()\n",
    "        \n",
    "#         # Clip the gradient norm to 1\n",
    "#         torch.nn.utils.clip_grad_norm_(sae.parameters(), max_norm=1)\n",
    "        \n",
    "#         optimizer.step()\n",
    "        \n",
    "#         if i % eval_frequency == 0:\n",
    "#             avg_loss = 0\n",
    "#             num_samples = 100  # Number of samples to average over\n",
    "#             for _ in range(num_samples):\n",
    "#                 input_tensor = generate_tensor()\n",
    "#                 output = sae.forward(input_tensor)\n",
    "#                 avg_loss += output['total_loss'].item()\n",
    "#             avg_loss /= num_samples\n",
    "#             print(f\"Iteration {i}, Average Total Loss: {avg_loss}\")\n",
    "#     return sae\n",
    "\n",
    "# reconstruction_training_run(C, 2**14, 10_000, 500)\n",
    "\n",
    "\n",
    "\n"
   ]
  },
  {
   "cell_type": "code",
   "execution_count": 50,
   "metadata": {},
   "outputs": [
    {
     "data": {
      "text/plain": [
       "421949048"
      ]
     },
     "execution_count": 50,
     "metadata": {},
     "output_type": "execute_result"
    }
   ],
   "source": [
    "len(train_data)"
   ]
  },
  {
   "cell_type": "code",
   "execution_count": 51,
   "metadata": {},
   "outputs": [
    {
     "data": {
      "text/plain": [
       "[0, 3, 6, 9]"
      ]
     },
     "execution_count": 51,
     "metadata": {},
     "output_type": "execute_result"
    }
   ],
   "source": [
    "list(range(0, 10, 3))"
   ]
  },
  {
   "cell_type": "markdown",
   "metadata": {},
   "source": [
    "# Saving Embeddings"
   ]
  },
  {
   "cell_type": "code",
   "execution_count": 50,
   "metadata": {},
   "outputs": [],
   "source": [
    "acumulated_residuals = []\n",
    "del acumulated_residuals\n",
    "torch.cuda.empty_cache()\n"
   ]
  },
  {
   "cell_type": "code",
   "execution_count": 42,
   "metadata": {},
   "outputs": [
    {
     "name": "stderr",
     "output_type": "stream",
     "text": [
      "  1%|▏         | 323/25753 [00:05<07:18, 57.99it/s]\n"
     ]
    },
    {
     "ename": "KeyboardInterrupt",
     "evalue": "",
     "output_type": "error",
     "traceback": [
      "\u001b[0;31m---------------------------------------------------------------------------\u001b[0m",
      "\u001b[0;31mKeyboardInterrupt\u001b[0m                         Traceback (most recent call last)",
      "Cell \u001b[0;32mIn[42], line 21\u001b[0m\n\u001b[1;32m     19\u001b[0m ixs \u001b[38;5;241m=\u001b[39m torch\u001b[38;5;241m.\u001b[39marange(i, i\u001b[38;5;241m+\u001b[39mtokens_in_batch, T)\n\u001b[1;32m     20\u001b[0m xb, yb \u001b[38;5;241m=\u001b[39m get_context_window(split, ixs)\n\u001b[0;32m---> 21\u001b[0m residuals \u001b[38;5;241m=\u001b[39m \u001b[43mmodel\u001b[49m\u001b[43m(\u001b[49m\u001b[43mxb\u001b[49m\u001b[43m,\u001b[49m\u001b[43m \u001b[49m\u001b[43mreturn_residuals\u001b[49m\u001b[38;5;241;43m=\u001b[39;49m\u001b[43mmodel_embedding_layer\u001b[49m\u001b[43m)\u001b[49m\n\u001b[1;32m     23\u001b[0m accumulated_residuals\u001b[38;5;241m.\u001b[39mappend(residuals)\n\u001b[1;32m     24\u001b[0m \u001b[38;5;28;01mif\u001b[39;00m \u001b[38;5;28mlen\u001b[39m(accumulated_residuals) \u001b[38;5;241m>\u001b[39m\u001b[38;5;241m=\u001b[39m residuals_per_save:\n",
      "File \u001b[0;32m~/miniconda3/envs/ai/lib/python3.12/site-packages/torch/nn/modules/module.py:1511\u001b[0m, in \u001b[0;36mModule._wrapped_call_impl\u001b[0;34m(self, *args, **kwargs)\u001b[0m\n\u001b[1;32m   1509\u001b[0m     \u001b[38;5;28;01mreturn\u001b[39;00m \u001b[38;5;28mself\u001b[39m\u001b[38;5;241m.\u001b[39m_compiled_call_impl(\u001b[38;5;241m*\u001b[39margs, \u001b[38;5;241m*\u001b[39m\u001b[38;5;241m*\u001b[39mkwargs)  \u001b[38;5;66;03m# type: ignore[misc]\u001b[39;00m\n\u001b[1;32m   1510\u001b[0m \u001b[38;5;28;01melse\u001b[39;00m:\n\u001b[0;32m-> 1511\u001b[0m     \u001b[38;5;28;01mreturn\u001b[39;00m \u001b[38;5;28;43mself\u001b[39;49m\u001b[38;5;241;43m.\u001b[39;49m\u001b[43m_call_impl\u001b[49m\u001b[43m(\u001b[49m\u001b[38;5;241;43m*\u001b[39;49m\u001b[43margs\u001b[49m\u001b[43m,\u001b[49m\u001b[43m \u001b[49m\u001b[38;5;241;43m*\u001b[39;49m\u001b[38;5;241;43m*\u001b[39;49m\u001b[43mkwargs\u001b[49m\u001b[43m)\u001b[49m\n",
      "File \u001b[0;32m~/miniconda3/envs/ai/lib/python3.12/site-packages/torch/nn/modules/module.py:1520\u001b[0m, in \u001b[0;36mModule._call_impl\u001b[0;34m(self, *args, **kwargs)\u001b[0m\n\u001b[1;32m   1515\u001b[0m \u001b[38;5;66;03m# If we don't have any hooks, we want to skip the rest of the logic in\u001b[39;00m\n\u001b[1;32m   1516\u001b[0m \u001b[38;5;66;03m# this function, and just call forward.\u001b[39;00m\n\u001b[1;32m   1517\u001b[0m \u001b[38;5;28;01mif\u001b[39;00m \u001b[38;5;129;01mnot\u001b[39;00m (\u001b[38;5;28mself\u001b[39m\u001b[38;5;241m.\u001b[39m_backward_hooks \u001b[38;5;129;01mor\u001b[39;00m \u001b[38;5;28mself\u001b[39m\u001b[38;5;241m.\u001b[39m_backward_pre_hooks \u001b[38;5;129;01mor\u001b[39;00m \u001b[38;5;28mself\u001b[39m\u001b[38;5;241m.\u001b[39m_forward_hooks \u001b[38;5;129;01mor\u001b[39;00m \u001b[38;5;28mself\u001b[39m\u001b[38;5;241m.\u001b[39m_forward_pre_hooks\n\u001b[1;32m   1518\u001b[0m         \u001b[38;5;129;01mor\u001b[39;00m _global_backward_pre_hooks \u001b[38;5;129;01mor\u001b[39;00m _global_backward_hooks\n\u001b[1;32m   1519\u001b[0m         \u001b[38;5;129;01mor\u001b[39;00m _global_forward_hooks \u001b[38;5;129;01mor\u001b[39;00m _global_forward_pre_hooks):\n\u001b[0;32m-> 1520\u001b[0m     \u001b[38;5;28;01mreturn\u001b[39;00m \u001b[43mforward_call\u001b[49m\u001b[43m(\u001b[49m\u001b[38;5;241;43m*\u001b[39;49m\u001b[43margs\u001b[49m\u001b[43m,\u001b[49m\u001b[43m \u001b[49m\u001b[38;5;241;43m*\u001b[39;49m\u001b[38;5;241;43m*\u001b[39;49m\u001b[43mkwargs\u001b[49m\u001b[43m)\u001b[49m\n\u001b[1;32m   1522\u001b[0m \u001b[38;5;28;01mtry\u001b[39;00m:\n\u001b[1;32m   1523\u001b[0m     result \u001b[38;5;241m=\u001b[39m \u001b[38;5;28;01mNone\u001b[39;00m\n",
      "Cell \u001b[0;32mIn[30], line 37\u001b[0m, in \u001b[0;36mGPT.forward\u001b[0;34m(self, idx, targets, return_residuals)\u001b[0m\n\u001b[1;32m     35\u001b[0m kurtosis_sum \u001b[38;5;241m=\u001b[39m torch\u001b[38;5;241m.\u001b[39mtensor(\u001b[38;5;241m0.0\u001b[39m)\n\u001b[1;32m     36\u001b[0m \u001b[38;5;28;01mfor\u001b[39;00m i, layer \u001b[38;5;129;01min\u001b[39;00m \u001b[38;5;28menumerate\u001b[39m(\u001b[38;5;28mself\u001b[39m\u001b[38;5;241m.\u001b[39mlayers):\n\u001b[0;32m---> 37\u001b[0m     x \u001b[38;5;241m=\u001b[39m \u001b[43mlayer\u001b[49m\u001b[43m(\u001b[49m\u001b[43mx\u001b[49m\u001b[43m)\u001b[49m\n\u001b[1;32m     38\u001b[0m     kurtosis_sum \u001b[38;5;241m+\u001b[39m\u001b[38;5;241m=\u001b[39m excess_kurtosis(x)\n\u001b[1;32m     39\u001b[0m     \u001b[38;5;28;01mif\u001b[39;00m return_residuals \u001b[38;5;129;01mis\u001b[39;00m \u001b[38;5;129;01mnot\u001b[39;00m \u001b[38;5;28;01mNone\u001b[39;00m \u001b[38;5;129;01mand\u001b[39;00m i \u001b[38;5;241m==\u001b[39m return_residuals:\n",
      "File \u001b[0;32m~/miniconda3/envs/ai/lib/python3.12/site-packages/torch/nn/modules/module.py:1511\u001b[0m, in \u001b[0;36mModule._wrapped_call_impl\u001b[0;34m(self, *args, **kwargs)\u001b[0m\n\u001b[1;32m   1509\u001b[0m     \u001b[38;5;28;01mreturn\u001b[39;00m \u001b[38;5;28mself\u001b[39m\u001b[38;5;241m.\u001b[39m_compiled_call_impl(\u001b[38;5;241m*\u001b[39margs, \u001b[38;5;241m*\u001b[39m\u001b[38;5;241m*\u001b[39mkwargs)  \u001b[38;5;66;03m# type: ignore[misc]\u001b[39;00m\n\u001b[1;32m   1510\u001b[0m \u001b[38;5;28;01melse\u001b[39;00m:\n\u001b[0;32m-> 1511\u001b[0m     \u001b[38;5;28;01mreturn\u001b[39;00m \u001b[38;5;28;43mself\u001b[39;49m\u001b[38;5;241;43m.\u001b[39;49m\u001b[43m_call_impl\u001b[49m\u001b[43m(\u001b[49m\u001b[38;5;241;43m*\u001b[39;49m\u001b[43margs\u001b[49m\u001b[43m,\u001b[49m\u001b[43m \u001b[49m\u001b[38;5;241;43m*\u001b[39;49m\u001b[38;5;241;43m*\u001b[39;49m\u001b[43mkwargs\u001b[49m\u001b[43m)\u001b[49m\n",
      "File \u001b[0;32m~/miniconda3/envs/ai/lib/python3.12/site-packages/torch/nn/modules/module.py:1520\u001b[0m, in \u001b[0;36mModule._call_impl\u001b[0;34m(self, *args, **kwargs)\u001b[0m\n\u001b[1;32m   1515\u001b[0m \u001b[38;5;66;03m# If we don't have any hooks, we want to skip the rest of the logic in\u001b[39;00m\n\u001b[1;32m   1516\u001b[0m \u001b[38;5;66;03m# this function, and just call forward.\u001b[39;00m\n\u001b[1;32m   1517\u001b[0m \u001b[38;5;28;01mif\u001b[39;00m \u001b[38;5;129;01mnot\u001b[39;00m (\u001b[38;5;28mself\u001b[39m\u001b[38;5;241m.\u001b[39m_backward_hooks \u001b[38;5;129;01mor\u001b[39;00m \u001b[38;5;28mself\u001b[39m\u001b[38;5;241m.\u001b[39m_backward_pre_hooks \u001b[38;5;129;01mor\u001b[39;00m \u001b[38;5;28mself\u001b[39m\u001b[38;5;241m.\u001b[39m_forward_hooks \u001b[38;5;129;01mor\u001b[39;00m \u001b[38;5;28mself\u001b[39m\u001b[38;5;241m.\u001b[39m_forward_pre_hooks\n\u001b[1;32m   1518\u001b[0m         \u001b[38;5;129;01mor\u001b[39;00m _global_backward_pre_hooks \u001b[38;5;129;01mor\u001b[39;00m _global_backward_hooks\n\u001b[1;32m   1519\u001b[0m         \u001b[38;5;129;01mor\u001b[39;00m _global_forward_hooks \u001b[38;5;129;01mor\u001b[39;00m _global_forward_pre_hooks):\n\u001b[0;32m-> 1520\u001b[0m     \u001b[38;5;28;01mreturn\u001b[39;00m \u001b[43mforward_call\u001b[49m\u001b[43m(\u001b[49m\u001b[38;5;241;43m*\u001b[39;49m\u001b[43margs\u001b[49m\u001b[43m,\u001b[49m\u001b[43m \u001b[49m\u001b[38;5;241;43m*\u001b[39;49m\u001b[38;5;241;43m*\u001b[39;49m\u001b[43mkwargs\u001b[49m\u001b[43m)\u001b[49m\n\u001b[1;32m   1522\u001b[0m \u001b[38;5;28;01mtry\u001b[39;00m:\n\u001b[1;32m   1523\u001b[0m     result \u001b[38;5;241m=\u001b[39m \u001b[38;5;28;01mNone\u001b[39;00m\n",
      "Cell \u001b[0;32mIn[29], line 12\u001b[0m, in \u001b[0;36mBlock.forward\u001b[0;34m(self, x)\u001b[0m\n\u001b[1;32m     10\u001b[0m \u001b[38;5;28;01mdef\u001b[39;00m \u001b[38;5;21mforward\u001b[39m(\u001b[38;5;28mself\u001b[39m, x):\n\u001b[1;32m     11\u001b[0m     x \u001b[38;5;241m=\u001b[39m x \u001b[38;5;241m+\u001b[39m \u001b[38;5;28mself\u001b[39m\u001b[38;5;241m.\u001b[39mattention(\u001b[38;5;28mself\u001b[39m\u001b[38;5;241m.\u001b[39mnorm1(x))\n\u001b[0;32m---> 12\u001b[0m     x \u001b[38;5;241m=\u001b[39m x \u001b[38;5;241m+\u001b[39m \u001b[38;5;28mself\u001b[39m\u001b[38;5;241m.\u001b[39mff(\u001b[38;5;28;43mself\u001b[39;49m\u001b[38;5;241;43m.\u001b[39;49m\u001b[43mnorm2\u001b[49m\u001b[43m(\u001b[49m\u001b[43mx\u001b[49m\u001b[43m)\u001b[49m)\n\u001b[1;32m     13\u001b[0m     \u001b[38;5;28;01mreturn\u001b[39;00m x\n",
      "File \u001b[0;32m~/miniconda3/envs/ai/lib/python3.12/site-packages/torch/nn/modules/module.py:1511\u001b[0m, in \u001b[0;36mModule._wrapped_call_impl\u001b[0;34m(self, *args, **kwargs)\u001b[0m\n\u001b[1;32m   1509\u001b[0m     \u001b[38;5;28;01mreturn\u001b[39;00m \u001b[38;5;28mself\u001b[39m\u001b[38;5;241m.\u001b[39m_compiled_call_impl(\u001b[38;5;241m*\u001b[39margs, \u001b[38;5;241m*\u001b[39m\u001b[38;5;241m*\u001b[39mkwargs)  \u001b[38;5;66;03m# type: ignore[misc]\u001b[39;00m\n\u001b[1;32m   1510\u001b[0m \u001b[38;5;28;01melse\u001b[39;00m:\n\u001b[0;32m-> 1511\u001b[0m     \u001b[38;5;28;01mreturn\u001b[39;00m \u001b[38;5;28;43mself\u001b[39;49m\u001b[38;5;241;43m.\u001b[39;49m\u001b[43m_call_impl\u001b[49m\u001b[43m(\u001b[49m\u001b[38;5;241;43m*\u001b[39;49m\u001b[43margs\u001b[49m\u001b[43m,\u001b[49m\u001b[43m \u001b[49m\u001b[38;5;241;43m*\u001b[39;49m\u001b[38;5;241;43m*\u001b[39;49m\u001b[43mkwargs\u001b[49m\u001b[43m)\u001b[49m\n",
      "File \u001b[0;32m~/miniconda3/envs/ai/lib/python3.12/site-packages/torch/nn/modules/module.py:1520\u001b[0m, in \u001b[0;36mModule._call_impl\u001b[0;34m(self, *args, **kwargs)\u001b[0m\n\u001b[1;32m   1515\u001b[0m \u001b[38;5;66;03m# If we don't have any hooks, we want to skip the rest of the logic in\u001b[39;00m\n\u001b[1;32m   1516\u001b[0m \u001b[38;5;66;03m# this function, and just call forward.\u001b[39;00m\n\u001b[1;32m   1517\u001b[0m \u001b[38;5;28;01mif\u001b[39;00m \u001b[38;5;129;01mnot\u001b[39;00m (\u001b[38;5;28mself\u001b[39m\u001b[38;5;241m.\u001b[39m_backward_hooks \u001b[38;5;129;01mor\u001b[39;00m \u001b[38;5;28mself\u001b[39m\u001b[38;5;241m.\u001b[39m_backward_pre_hooks \u001b[38;5;129;01mor\u001b[39;00m \u001b[38;5;28mself\u001b[39m\u001b[38;5;241m.\u001b[39m_forward_hooks \u001b[38;5;129;01mor\u001b[39;00m \u001b[38;5;28mself\u001b[39m\u001b[38;5;241m.\u001b[39m_forward_pre_hooks\n\u001b[1;32m   1518\u001b[0m         \u001b[38;5;129;01mor\u001b[39;00m _global_backward_pre_hooks \u001b[38;5;129;01mor\u001b[39;00m _global_backward_hooks\n\u001b[1;32m   1519\u001b[0m         \u001b[38;5;129;01mor\u001b[39;00m _global_forward_hooks \u001b[38;5;129;01mor\u001b[39;00m _global_forward_pre_hooks):\n\u001b[0;32m-> 1520\u001b[0m     \u001b[38;5;28;01mreturn\u001b[39;00m \u001b[43mforward_call\u001b[49m\u001b[43m(\u001b[49m\u001b[38;5;241;43m*\u001b[39;49m\u001b[43margs\u001b[49m\u001b[43m,\u001b[49m\u001b[43m \u001b[49m\u001b[38;5;241;43m*\u001b[39;49m\u001b[38;5;241;43m*\u001b[39;49m\u001b[43mkwargs\u001b[49m\u001b[43m)\u001b[49m\n\u001b[1;32m   1522\u001b[0m \u001b[38;5;28;01mtry\u001b[39;00m:\n\u001b[1;32m   1523\u001b[0m     result \u001b[38;5;241m=\u001b[39m \u001b[38;5;28;01mNone\u001b[39;00m\n",
      "Cell \u001b[0;32mIn[28], line 12\u001b[0m, in \u001b[0;36mLayerNorm.forward\u001b[0;34m(self, x)\u001b[0m\n\u001b[1;32m     10\u001b[0m std \u001b[38;5;241m=\u001b[39m x\u001b[38;5;241m.\u001b[39mstd(\u001b[38;5;241m-\u001b[39m\u001b[38;5;241m1\u001b[39m, keepdim\u001b[38;5;241m=\u001b[39m\u001b[38;5;28;01mTrue\u001b[39;00m)\n\u001b[1;32m     11\u001b[0m \u001b[38;5;28;01mif\u001b[39;00m \u001b[38;5;28mself\u001b[39m\u001b[38;5;241m.\u001b[39mgamma \u001b[38;5;129;01mis\u001b[39;00m \u001b[38;5;129;01mnot\u001b[39;00m \u001b[38;5;28;01mNone\u001b[39;00m \u001b[38;5;129;01mand\u001b[39;00m \u001b[38;5;28mself\u001b[39m\u001b[38;5;241m.\u001b[39mbeta \u001b[38;5;129;01mis\u001b[39;00m \u001b[38;5;129;01mnot\u001b[39;00m \u001b[38;5;28;01mNone\u001b[39;00m:\n\u001b[0;32m---> 12\u001b[0m     \u001b[38;5;28;01mreturn\u001b[39;00m \u001b[38;5;28;43mself\u001b[39;49m\u001b[38;5;241;43m.\u001b[39;49m\u001b[43mgamma\u001b[49m\u001b[43m \u001b[49m\u001b[38;5;241;43m*\u001b[39;49m\u001b[43m \u001b[49m\u001b[43m(\u001b[49m\u001b[43mx\u001b[49m\u001b[43m \u001b[49m\u001b[38;5;241;43m-\u001b[39;49m\u001b[43m \u001b[49m\u001b[43mmean\u001b[49m\u001b[43m)\u001b[49m\u001b[43m \u001b[49m\u001b[38;5;241;43m/\u001b[39;49m\u001b[43m \u001b[49m\u001b[43m(\u001b[49m\u001b[43mstd\u001b[49m\u001b[43m \u001b[49m\u001b[38;5;241;43m+\u001b[39;49m\u001b[43m \u001b[49m\u001b[38;5;241;43m1e-6\u001b[39;49m\u001b[43m)\u001b[49m\u001b[43m \u001b[49m\u001b[38;5;241;43m+\u001b[39;49m\u001b[43m \u001b[49m\u001b[38;5;28;43mself\u001b[39;49m\u001b[38;5;241;43m.\u001b[39;49m\u001b[43mbeta\u001b[49m\n\u001b[1;32m     13\u001b[0m \u001b[38;5;28;01melse\u001b[39;00m:\n\u001b[1;32m     14\u001b[0m     \u001b[38;5;28;01mreturn\u001b[39;00m (x \u001b[38;5;241m-\u001b[39m mean) \u001b[38;5;241m/\u001b[39m (std \u001b[38;5;241m+\u001b[39m \u001b[38;5;241m1e-6\u001b[39m)\n",
      "File \u001b[0;32m~/miniconda3/envs/ai/lib/python3.12/site-packages/torch/utils/_device.py:77\u001b[0m, in \u001b[0;36mDeviceContext.__torch_function__\u001b[0;34m(self, func, types, args, kwargs)\u001b[0m\n\u001b[1;32m     75\u001b[0m \u001b[38;5;28;01mif\u001b[39;00m func \u001b[38;5;129;01min\u001b[39;00m _device_constructors() \u001b[38;5;129;01mand\u001b[39;00m kwargs\u001b[38;5;241m.\u001b[39mget(\u001b[38;5;124m'\u001b[39m\u001b[38;5;124mdevice\u001b[39m\u001b[38;5;124m'\u001b[39m) \u001b[38;5;129;01mis\u001b[39;00m \u001b[38;5;28;01mNone\u001b[39;00m:\n\u001b[1;32m     76\u001b[0m     kwargs[\u001b[38;5;124m'\u001b[39m\u001b[38;5;124mdevice\u001b[39m\u001b[38;5;124m'\u001b[39m] \u001b[38;5;241m=\u001b[39m \u001b[38;5;28mself\u001b[39m\u001b[38;5;241m.\u001b[39mdevice\n\u001b[0;32m---> 77\u001b[0m \u001b[38;5;28;01mreturn\u001b[39;00m \u001b[43mfunc\u001b[49m\u001b[43m(\u001b[49m\u001b[38;5;241;43m*\u001b[39;49m\u001b[43margs\u001b[49m\u001b[43m,\u001b[49m\u001b[43m \u001b[49m\u001b[38;5;241;43m*\u001b[39;49m\u001b[38;5;241;43m*\u001b[39;49m\u001b[43mkwargs\u001b[49m\u001b[43m)\u001b[49m\n",
      "\u001b[0;31mKeyboardInterrupt\u001b[0m: "
     ]
    }
   ],
   "source": [
    "\n",
    "\n",
    "def get_context_window(split, ix):\n",
    "    data = train_data if split == 'train' else val_data\n",
    "    x = torch.stack([data[i:i+T] for i in ix]) # random sequences\n",
    "    y = torch.stack([data[i+1:i+T+1] for i in ix]) # next character for each random sequence\n",
    "\n",
    "    return x, y\n",
    "\n",
    "\n",
    "accumulated_residuals = []\n",
    "residuals_per_save = 10_000\n",
    "save_idx = 0\n",
    "\n",
    "with torch.no_grad():\n",
    "    for split in ['train', 'val']:\n",
    "        data = train_data if split == 'train' else val_data\n",
    "        tokens_in_batch = B*T\n",
    "        for i in tqdm(range(0, len(data)-tokens_in_batch, tokens_in_batch)): # the - tokens_in_batch is there so we skip the last, potentially unfull batch\n",
    "            # B ixs, step is T, start at i\n",
    "            ixs = torch.arange(i, i+tokens_in_batch, T)\n",
    "            xb, yb = get_context_window(split, ixs)\n",
    "            residuals = model(xb, return_residuals=model_embedding_layer)\n",
    "        \n",
    "            accumulated_residuals.append(residuals)\n",
    "            if len(accumulated_residuals) >= residuals_per_save:\n",
    "                torch.save(accumulated_residuals, f\"residuals/residuals_{split}_{save_idx}.pt\")\n",
    "                accumulated_residuals = []\n",
    "                save_idx += 1\n",
    "        torch.save(accumulated_residuals, f\"residuals/residuals_{split}_{save_idx}.pt\")\n",
    "\n",
    "\n",
    "\n",
    "\n",
    "        \n"
   ]
  },
  {
   "cell_type": "markdown",
   "metadata": {},
   "source": [
    "## SAE Training"
   ]
  },
  {
   "cell_type": "code",
   "execution_count": 60,
   "metadata": {},
   "outputs": [],
   "source": [
    "sae = SparseAutoEncoder(C, 2**14)"
   ]
  },
  {
   "cell_type": "code",
   "execution_count": 90,
   "metadata": {},
   "outputs": [
    {
     "data": {
      "text/plain": [
       "16384"
      ]
     },
     "execution_count": 90,
     "metadata": {},
     "output_type": "execute_result"
    }
   ],
   "source": [
    "2**14"
   ]
  },
  {
   "cell_type": "code",
   "execution_count": 41,
   "metadata": {},
   "outputs": [
    {
     "name": "stdout",
     "output_type": "stream",
     "text": [
      "torch.Size([64, 200, 256])\n"
     ]
    },
    {
     "data": {
      "text/plain": [
       "{'encoded': tensor([[[0.0000e+00, 1.0928e-01, 5.5051e-01,  ..., 1.3937e-02,\n",
       "           4.8381e-02, 0.0000e+00],\n",
       "          [0.0000e+00, 0.0000e+00, 2.3867e-01,  ..., 0.0000e+00,\n",
       "           8.2960e-03, 0.0000e+00],\n",
       "          [3.0629e-01, 0.0000e+00, 5.8424e-01,  ..., 3.0462e-02,\n",
       "           0.0000e+00, 2.3872e-01],\n",
       "          ...,\n",
       "          [0.0000e+00, 0.0000e+00, 6.7199e-03,  ..., 0.0000e+00,\n",
       "           0.0000e+00, 0.0000e+00],\n",
       "          [2.3571e-01, 0.0000e+00, 1.2067e+00,  ..., 3.0096e-01,\n",
       "           1.8543e-01, 0.0000e+00],\n",
       "          [0.0000e+00, 0.0000e+00, 3.5603e-01,  ..., 0.0000e+00,\n",
       "           1.5613e-01, 4.0485e-01]],\n",
       " \n",
       "         [[1.8791e-01, 8.4111e-01, 7.4034e-01,  ..., 0.0000e+00,\n",
       "           0.0000e+00, 1.2236e-01],\n",
       "          [0.0000e+00, 0.0000e+00, 9.4327e-01,  ..., 3.6660e-01,\n",
       "           7.2393e-02, 2.8086e-01],\n",
       "          [0.0000e+00, 0.0000e+00, 4.5286e-01,  ..., 2.4790e-02,\n",
       "           2.3059e-01, 0.0000e+00],\n",
       "          ...,\n",
       "          [5.5343e-01, 5.9949e-01, 3.1343e-01,  ..., 2.0724e-01,\n",
       "           5.9745e-01, 0.0000e+00],\n",
       "          [0.0000e+00, 0.0000e+00, 4.6520e-02,  ..., 0.0000e+00,\n",
       "           1.0246e-02, 5.2302e-01],\n",
       "          [0.0000e+00, 0.0000e+00, 0.0000e+00,  ..., 1.5852e-02,\n",
       "           2.3796e-01, 0.0000e+00]],\n",
       " \n",
       "         [[2.3090e-01, 9.4012e-04, 2.2126e-01,  ..., 1.4305e-01,\n",
       "           0.0000e+00, 0.0000e+00],\n",
       "          [0.0000e+00, 0.0000e+00, 4.8403e-01,  ..., 1.0082e-01,\n",
       "           1.9095e-01, 0.0000e+00],\n",
       "          [1.5977e-01, 2.9400e-01, 1.1610e-01,  ..., 0.0000e+00,\n",
       "           2.8873e-01, 2.0626e-01],\n",
       "          ...,\n",
       "          [0.0000e+00, 2.9249e-01, 8.0555e-01,  ..., 3.0187e-01,\n",
       "           3.1707e-03, 3.8370e-01],\n",
       "          [0.0000e+00, 5.3634e-01, 0.0000e+00,  ..., 5.9217e-02,\n",
       "           2.1225e-01, 3.7700e-01],\n",
       "          [0.0000e+00, 5.8543e-02, 0.0000e+00,  ..., 0.0000e+00,\n",
       "           0.0000e+00, 0.0000e+00]],\n",
       " \n",
       "         ...,\n",
       " \n",
       "         [[0.0000e+00, 0.0000e+00, 0.0000e+00,  ..., 4.3537e-02,\n",
       "           6.1723e-02, 3.7217e-01],\n",
       "          [1.5928e-02, 3.9775e-01, 2.5139e-01,  ..., 8.7996e-02,\n",
       "           0.0000e+00, 0.0000e+00],\n",
       "          [0.0000e+00, 3.8230e-01, 0.0000e+00,  ..., 2.7494e-01,\n",
       "           0.0000e+00, 0.0000e+00],\n",
       "          ...,\n",
       "          [0.0000e+00, 2.4340e-01, 1.3327e-01,  ..., 0.0000e+00,\n",
       "           1.4659e-01, 0.0000e+00],\n",
       "          [0.0000e+00, 2.5555e-01, 6.5535e-01,  ..., 0.0000e+00,\n",
       "           2.8686e-02, 3.3129e-01],\n",
       "          [0.0000e+00, 0.0000e+00, 0.0000e+00,  ..., 0.0000e+00,\n",
       "           0.0000e+00, 0.0000e+00]],\n",
       " \n",
       "         [[0.0000e+00, 0.0000e+00, 1.0389e-01,  ..., 1.5045e-01,\n",
       "           0.0000e+00, 0.0000e+00],\n",
       "          [0.0000e+00, 4.3853e-01, 1.7128e-01,  ..., 2.4290e-01,\n",
       "           5.3447e-01, 2.0585e-01],\n",
       "          [4.7053e-01, 2.8346e-01, 4.7826e-01,  ..., 0.0000e+00,\n",
       "           3.1054e-01, 0.0000e+00],\n",
       "          ...,\n",
       "          [0.0000e+00, 0.0000e+00, 0.0000e+00,  ..., 2.1905e-01,\n",
       "           3.1728e-01, 0.0000e+00],\n",
       "          [0.0000e+00, 4.7193e-01, 1.2881e+00,  ..., 7.3323e-02,\n",
       "           2.3684e-01, 0.0000e+00],\n",
       "          [1.0657e-01, 1.9434e-02, 1.2173e-01,  ..., 2.6321e-01,\n",
       "           0.0000e+00, 2.3634e-01]],\n",
       " \n",
       "         [[0.0000e+00, 0.0000e+00, 0.0000e+00,  ..., 1.6839e-01,\n",
       "           6.1875e-02, 1.1983e-01],\n",
       "          [0.0000e+00, 3.1297e-01, 0.0000e+00,  ..., 1.4099e-01,\n",
       "           0.0000e+00, 0.0000e+00],\n",
       "          [0.0000e+00, 0.0000e+00, 3.8414e-01,  ..., 2.3794e-01,\n",
       "           0.0000e+00, 0.0000e+00],\n",
       "          ...,\n",
       "          [1.5962e-01, 0.0000e+00, 4.1537e-01,  ..., 1.4281e-01,\n",
       "           2.1734e-01, 0.0000e+00],\n",
       "          [0.0000e+00, 3.0349e-01, 0.0000e+00,  ..., 0.0000e+00,\n",
       "           0.0000e+00, 0.0000e+00],\n",
       "          [0.0000e+00, 0.0000e+00, 0.0000e+00,  ..., 3.2665e-01,\n",
       "           4.9278e-01, 7.0238e-01]]], device='cuda:0', grad_fn=<ReluBackward0>),\n",
       " 'decoded': tensor([[[ 2.4047e+00, -1.1359e+01,  5.8046e+00,  ..., -3.2634e-01,\n",
       "            1.3300e+01,  1.0748e+01],\n",
       "          [ 4.9068e-03,  5.9457e+00,  4.1884e+00,  ...,  2.3100e-01,\n",
       "            8.3463e+00, -5.5007e+00],\n",
       "          [ 2.0810e+00,  1.2942e+01,  2.6812e+00,  ..., -1.1910e+01,\n",
       "           -8.0340e+00,  1.2693e+00],\n",
       "          ...,\n",
       "          [-6.8265e+00,  8.3811e+00, -7.7171e+00,  ...,  8.2912e+00,\n",
       "            2.0760e+01, -1.1331e+01],\n",
       "          [-3.0154e-01, -1.9467e-01, -1.6475e+01,  ...,  1.4205e+01,\n",
       "            1.3675e+01, -7.8013e+00],\n",
       "          [ 1.7231e+00, -8.6906e+00, -7.2669e+00,  ..., -6.1527e+00,\n",
       "            9.5033e+00, -1.0933e+00]],\n",
       " \n",
       "         [[-3.0052e+00,  7.8713e-01,  8.3277e+00,  ..., -1.4977e+01,\n",
       "           -4.4280e+00, -5.0800e+00],\n",
       "          [-2.7640e+00,  3.8889e-01,  9.3702e-01,  ..., -1.1311e+00,\n",
       "            1.3004e+01, -3.0387e+00],\n",
       "          [ 3.4614e+00,  1.0212e+01,  8.9524e+00,  ..., -9.5831e+00,\n",
       "           -7.4017e+00,  1.5384e+00],\n",
       "          ...,\n",
       "          [ 9.7724e+00, -2.6008e+00,  1.4577e+00,  ...,  1.3572e+00,\n",
       "           -5.3172e+00, -5.8511e+00],\n",
       "          [ 2.1361e+00,  3.7882e+00,  1.0618e+00,  ..., -4.1804e+00,\n",
       "            3.6979e+00,  2.0806e+00],\n",
       "          [-3.0454e+00, -8.8273e-01, -2.6712e+00,  ..., -5.6481e+00,\n",
       "            1.0209e+00,  1.2370e+01]],\n",
       " \n",
       "         [[-1.3273e+01,  1.1973e+01,  1.2139e+01,  ...,  5.1366e+00,\n",
       "           -6.0132e+00,  8.1971e-01],\n",
       "          [ 2.1524e+00,  1.8807e+00, -2.2491e-01,  ...,  8.7726e+00,\n",
       "           -2.4320e+00,  1.8942e+01],\n",
       "          [-3.6588e+00,  4.5440e-01,  2.5232e+00,  ...,  5.6885e+00,\n",
       "           -9.0817e+00, -1.1002e+00],\n",
       "          ...,\n",
       "          [-8.1338e+00,  6.3541e+00, -1.0568e+01,  ..., -1.3042e+00,\n",
       "           -1.0614e+01,  9.1450e-01],\n",
       "          [-9.4828e+00,  8.9131e+00, -8.4392e+00,  ...,  1.2526e+01,\n",
       "           -4.9126e+00, -5.0739e+00],\n",
       "          [-3.9115e+00,  2.4288e+00,  6.2290e+00,  ..., -1.0914e+00,\n",
       "            5.7801e+00, -6.5226e+00]],\n",
       " \n",
       "         ...,\n",
       " \n",
       "         [[-1.6428e-01,  1.3584e+01,  3.7145e+00,  ..., -3.7396e+00,\n",
       "           -2.5678e+00,  8.9558e+00],\n",
       "          [ 7.4580e+00, -7.1863e+00, -1.7094e+01,  ...,  1.7465e+01,\n",
       "           -6.1435e+00,  1.5615e+00],\n",
       "          [-3.1347e+00,  7.5069e+00,  1.7084e+00,  ...,  8.8184e+00,\n",
       "           -3.4789e+00,  1.5883e+00],\n",
       "          ...,\n",
       "          [ 1.3377e+01,  1.0478e+01,  6.7973e+00,  ...,  5.8346e+00,\n",
       "           -1.4051e+00, -3.7142e+00],\n",
       "          [ 1.3216e+01, -8.0943e+00, -4.5090e+00,  ...,  9.2555e+00,\n",
       "            4.2801e+00,  1.1144e+01],\n",
       "          [-6.2672e-01, -7.8794e+00, -4.3594e+00,  ...,  7.4700e-02,\n",
       "            2.6383e+00, -8.2632e+00]],\n",
       " \n",
       "         [[-4.0447e+00, -2.5144e+00, -1.2094e+00,  ..., -5.3342e+00,\n",
       "            1.5317e+01,  4.0521e-01],\n",
       "          [ 1.4282e+00, -1.0553e+00,  7.0414e+00,  ..., -3.2429e+00,\n",
       "            1.4881e+00, -1.2069e+00],\n",
       "          [-4.1268e-01, -1.1132e+01, -3.9807e+00,  ...,  1.3044e+01,\n",
       "           -8.7630e+00, -1.3141e+01],\n",
       "          ...,\n",
       "          [ 5.6527e+00,  3.0743e+00, -5.5769e+00,  ...,  8.5694e+00,\n",
       "           -9.1170e+00,  2.2213e+00],\n",
       "          [ 1.1021e+01, -8.7439e+00, -8.6005e+00,  ...,  1.1177e+01,\n",
       "            4.5884e+00,  4.7961e+00],\n",
       "          [ 2.3798e+00,  5.0444e+00, -1.0854e+01,  ..., -7.7915e+00,\n",
       "            5.2325e+00, -4.3532e+00]],\n",
       " \n",
       "         [[-1.1535e+01, -5.6127e+00, -1.2196e+00,  ...,  1.1108e+00,\n",
       "           -1.7967e+00, -2.0008e+00],\n",
       "          [ 7.7798e+00, -1.3433e+00,  6.0505e+00,  ...,  2.8462e+00,\n",
       "           -5.2242e+00, -5.8437e+00],\n",
       "          [-7.5036e-02, -2.6674e+00, -1.5164e+01,  ...,  7.5458e+00,\n",
       "           -1.3588e+01, -7.3920e+00],\n",
       "          ...,\n",
       "          [-8.9547e+00,  2.1695e+00,  1.4079e+01,  ..., -1.4889e+00,\n",
       "           -4.3449e+00,  8.0088e+00],\n",
       "          [-3.8483e+00, -1.1834e+01,  2.6833e+00,  ...,  5.5765e+00,\n",
       "           -4.2534e-01, -6.1753e+00],\n",
       "          [-3.1359e+00,  1.2139e+01, -5.9053e+00,  ..., -3.6893e+00,\n",
       "            4.5840e-01,  2.5816e+01]]], device='cuda:0', grad_fn=<AddBackward0>),\n",
       " 'feature_activations': tensor([[[0.0000e+00, 5.5995e-02, 4.5195e-01,  ..., 3.6700e-03,\n",
       "           1.7223e-02, 0.0000e+00],\n",
       "          [0.0000e+00, 0.0000e+00, 1.9594e-01,  ..., 0.0000e+00,\n",
       "           2.9533e-03, 0.0000e+00],\n",
       "          [1.6170e-01, 0.0000e+00, 4.7964e-01,  ..., 8.0216e-03,\n",
       "           0.0000e+00, 1.1821e-01],\n",
       "          ...,\n",
       "          [0.0000e+00, 0.0000e+00, 5.5167e-03,  ..., 0.0000e+00,\n",
       "           0.0000e+00, 0.0000e+00],\n",
       "          [1.2444e-01, 0.0000e+00, 9.9061e-01,  ..., 7.9254e-02,\n",
       "           6.6012e-02, 0.0000e+00],\n",
       "          [0.0000e+00, 0.0000e+00, 2.9229e-01,  ..., 0.0000e+00,\n",
       "           5.5580e-02, 2.0048e-01]],\n",
       " \n",
       "         [[9.9204e-02, 4.3096e-01, 6.0779e-01,  ..., 0.0000e+00,\n",
       "           0.0000e+00, 6.0593e-02],\n",
       "          [0.0000e+00, 0.0000e+00, 7.7439e-01,  ..., 9.6537e-02,\n",
       "           2.5771e-02, 1.3908e-01],\n",
       "          [0.0000e+00, 0.0000e+00, 3.7178e-01,  ..., 6.5279e-03,\n",
       "           8.2087e-02, 0.0000e+00],\n",
       "          ...,\n",
       "          [2.9217e-01, 3.0716e-01, 2.5731e-01,  ..., 5.4574e-02,\n",
       "           2.1269e-01, 0.0000e+00],\n",
       "          [0.0000e+00, 0.0000e+00, 3.8191e-02,  ..., 0.0000e+00,\n",
       "           3.6475e-03, 2.5899e-01],\n",
       "          [0.0000e+00, 0.0000e+00, 0.0000e+00,  ..., 4.1743e-03,\n",
       "           8.4712e-02, 0.0000e+00]],\n",
       " \n",
       "         [[1.2190e-01, 4.8169e-04, 1.8165e-01,  ..., 3.7670e-02,\n",
       "           0.0000e+00, 0.0000e+00],\n",
       "          [0.0000e+00, 0.0000e+00, 3.9737e-01,  ..., 2.6550e-02,\n",
       "           6.7978e-02, 0.0000e+00],\n",
       "          [8.4347e-02, 1.5064e-01, 9.5311e-02,  ..., 0.0000e+00,\n",
       "           1.0279e-01, 1.0214e-01],\n",
       "          ...,\n",
       "          [0.0000e+00, 1.4986e-01, 6.6133e-01,  ..., 7.9493e-02,\n",
       "           1.1288e-03, 1.9000e-01],\n",
       "          [0.0000e+00, 2.7481e-01, 0.0000e+00,  ..., 1.5594e-02,\n",
       "           7.5561e-02, 1.8668e-01],\n",
       "          [0.0000e+00, 2.9996e-02, 0.0000e+00,  ..., 0.0000e+00,\n",
       "           0.0000e+00, 0.0000e+00]],\n",
       " \n",
       "         ...,\n",
       " \n",
       "         [[0.0000e+00, 0.0000e+00, 0.0000e+00,  ..., 1.1465e-02,\n",
       "           2.1973e-02, 1.8429e-01],\n",
       "          [8.4087e-03, 2.0379e-01, 2.0638e-01,  ..., 2.3172e-02,\n",
       "           0.0000e+00, 0.0000e+00],\n",
       "          [0.0000e+00, 1.9588e-01, 0.0000e+00,  ..., 7.2400e-02,\n",
       "           0.0000e+00, 0.0000e+00],\n",
       "          ...,\n",
       "          [0.0000e+00, 1.2471e-01, 1.0941e-01,  ..., 0.0000e+00,\n",
       "           5.2187e-02, 0.0000e+00],\n",
       "          [0.0000e+00, 1.3094e-01, 5.3802e-01,  ..., 0.0000e+00,\n",
       "           1.0212e-02, 1.6405e-01],\n",
       "          [0.0000e+00, 0.0000e+00, 0.0000e+00,  ..., 0.0000e+00,\n",
       "           0.0000e+00, 0.0000e+00]],\n",
       " \n",
       "         [[0.0000e+00, 0.0000e+00, 8.5292e-02,  ..., 3.9618e-02,\n",
       "           0.0000e+00, 0.0000e+00],\n",
       "          [0.0000e+00, 2.2469e-01, 1.4062e-01,  ..., 6.3963e-02,\n",
       "           1.9027e-01, 1.0193e-01],\n",
       "          [2.4841e-01, 1.4524e-01, 3.9263e-01,  ..., 0.0000e+00,\n",
       "           1.1055e-01, 0.0000e+00],\n",
       "          ...,\n",
       "          [0.0000e+00, 0.0000e+00, 0.0000e+00,  ..., 5.7683e-02,\n",
       "           1.1295e-01, 0.0000e+00],\n",
       "          [0.0000e+00, 2.4181e-01, 1.0574e+00,  ..., 1.9308e-02,\n",
       "           8.4314e-02, 0.0000e+00],\n",
       "          [5.6262e-02, 9.9573e-03, 9.9938e-02,  ..., 6.9311e-02,\n",
       "           0.0000e+00, 1.1703e-01]],\n",
       " \n",
       "         [[0.0000e+00, 0.0000e+00, 0.0000e+00,  ..., 4.4343e-02,\n",
       "           2.2027e-02, 5.9339e-02],\n",
       "          [0.0000e+00, 1.6035e-01, 0.0000e+00,  ..., 3.7128e-02,\n",
       "           0.0000e+00, 0.0000e+00],\n",
       "          [0.0000e+00, 0.0000e+00, 3.1536e-01,  ..., 6.2659e-02,\n",
       "           0.0000e+00, 0.0000e+00],\n",
       "          ...,\n",
       "          [8.4269e-02, 0.0000e+00, 3.4100e-01,  ..., 3.7607e-02,\n",
       "           7.7371e-02, 0.0000e+00],\n",
       "          [0.0000e+00, 1.5550e-01, 0.0000e+00,  ..., 0.0000e+00,\n",
       "           0.0000e+00, 0.0000e+00],\n",
       "          [0.0000e+00, 0.0000e+00, 0.0000e+00,  ..., 8.6017e-02,\n",
       "           1.7543e-01, 3.4781e-01]]], device='cuda:0', grad_fn=<MulBackward0>),\n",
       " 'reconstruction_loss': tensor(55.6498, device='cuda:0', grad_fn=<MseLossBackward0>),\n",
       " 'sparsity_loss': tensor(2.9676, device='cuda:0', grad_fn=<DivBackward0>),\n",
       " 'total_loss': tensor(58.6174, device='cuda:0', grad_fn=<AddBackward0>)}"
      ]
     },
     "execution_count": 41,
     "metadata": {},
     "output_type": "execute_result"
    }
   ],
   "source": [
    "# forward the sae on random data\n",
    "random_input = torch.randn(64, 200, C)\n",
    "print(random_input.shape)\n",
    "sae.forward(random_input)"
   ]
  },
  {
   "cell_type": "code",
   "execution_count": null,
   "metadata": {},
   "outputs": [],
   "source": [
    "# import gc\n",
    "# del sae\n",
    "# del random_input\n",
    "# gc.collect()\n",
    "# torch.cuda.empty_cache()"
   ]
  },
  {
   "cell_type": "code",
   "execution_count": 42,
   "metadata": {},
   "outputs": [
    {
     "data": {
      "text/plain": [
       "{'train': {'losses': tensor(383.5997, device='cuda:0'),\n",
       "  'sparsity_losses': tensor(7.6470, device='cuda:0'),\n",
       "  'reconstruction_losses': tensor(375.9527, device='cuda:0')},\n",
       " 'val': {'losses': tensor(383.7079, device='cuda:0'),\n",
       "  'sparsity_losses': tensor(7.6472, device='cuda:0'),\n",
       "  'reconstruction_losses': tensor(376.0606, device='cuda:0')}}"
      ]
     },
     "execution_count": 42,
     "metadata": {},
     "output_type": "execute_result"
    }
   ],
   "source": [
    "# Freeze all params in GPT model\n",
    "for param in model.parameters():\n",
    "    param.requires_grad = False\n",
    "\n",
    "\n",
    "sae_eval_iters = 10\n",
    "sae_eval_interval = 300\n",
    "\n",
    "\n",
    "@torch.no_grad()\n",
    "def estimate_sae_loss(is_last=False):\n",
    "    out = {}\n",
    "    model.eval()\n",
    "    for split in ['train', 'val']:\n",
    "        real_iters = sae_eval_iters\n",
    "        if is_last and split == 'val':\n",
    "            real_iters *= 10\n",
    "        losses = torch.zeros(real_iters)\n",
    "        sparsity_losses = torch.zeros(real_iters)\n",
    "        reconstruction_losses = torch.zeros(real_iters)\n",
    "        for k in range(real_iters):\n",
    "            X, Y = get_batch(split)\n",
    "            residuals = model(X, return_residuals=model_embedding_layer)\n",
    "            sae_output = sae(residuals)\n",
    "            sae_reconstruction_loss = sae_output['reconstruction_loss']\n",
    "            sae_sparsity_loss = sae_output['sparsity_loss']\n",
    "            sae_total_loss = sae_output['total_loss']\n",
    "            losses[k] = sae_total_loss\n",
    "            sparsity_losses[k] = sae_sparsity_loss\n",
    "            reconstruction_losses[k] = sae_reconstruction_loss\n",
    "        out[split] = {\"losses\": losses.mean(), \"sparsity_losses\": sparsity_losses.mean(), \"reconstruction_losses\": reconstruction_losses.mean()}\n",
    "    return out\n",
    "\n",
    "estimate_sae_loss()"
   ]
  },
  {
   "cell_type": "code",
   "execution_count": 48,
   "metadata": {},
   "outputs": [
    {
     "name": "stderr",
     "output_type": "stream",
     "text": [
      "  0%|          | 3/150000 [00:00<10:30:44,  3.96it/s]"
     ]
    },
    {
     "name": "stdout",
     "output_type": "stream",
     "text": [
      "train loss info\n",
      "{'losses': tensor(0.4253, device='cuda:0'), 'sparsity_losses': tensor(0.2437, device='cuda:0'), 'reconstruction_losses': tensor(0.1816, device='cuda:0')}\n",
      "val loss info\n",
      "{'losses': tensor(0.4252, device='cuda:0'), 'sparsity_losses': tensor(0.2440, device='cuda:0'), 'reconstruction_losses': tensor(0.1812, device='cuda:0')}\n",
      "------\n"
     ]
    },
    {
     "name": "stderr",
     "output_type": "stream",
     "text": [
      "  0%|          | 503/150000 [00:32<5:25:11,  7.66it/s]"
     ]
    },
    {
     "name": "stdout",
     "output_type": "stream",
     "text": [
      "train loss info\n",
      "{'losses': tensor(0.4001, device='cuda:0'), 'sparsity_losses': tensor(0.2386, device='cuda:0'), 'reconstruction_losses': tensor(0.1615, device='cuda:0')}\n",
      "val loss info\n",
      "{'losses': tensor(0.4007, device='cuda:0'), 'sparsity_losses': tensor(0.2387, device='cuda:0'), 'reconstruction_losses': tensor(0.1620, device='cuda:0')}\n",
      "------\n"
     ]
    },
    {
     "name": "stderr",
     "output_type": "stream",
     "text": [
      "  1%|          | 1003/150000 [01:03<5:21:12,  7.73it/s]"
     ]
    },
    {
     "name": "stdout",
     "output_type": "stream",
     "text": [
      "train loss info\n",
      "{'losses': tensor(0.3939, device='cuda:0'), 'sparsity_losses': tensor(0.2386, device='cuda:0'), 'reconstruction_losses': tensor(0.1553, device='cuda:0')}\n",
      "val loss info\n",
      "{'losses': tensor(0.3942, device='cuda:0'), 'sparsity_losses': tensor(0.2400, device='cuda:0'), 'reconstruction_losses': tensor(0.1543, device='cuda:0')}\n",
      "------\n"
     ]
    },
    {
     "name": "stderr",
     "output_type": "stream",
     "text": [
      "  1%|          | 1503/150000 [01:34<5:27:56,  7.55it/s]"
     ]
    },
    {
     "name": "stdout",
     "output_type": "stream",
     "text": [
      "train loss info\n",
      "{'losses': tensor(0.3837, device='cuda:0'), 'sparsity_losses': tensor(0.2367, device='cuda:0'), 'reconstruction_losses': tensor(0.1470, device='cuda:0')}\n",
      "val loss info\n",
      "{'losses': tensor(0.3839, device='cuda:0'), 'sparsity_losses': tensor(0.2361, device='cuda:0'), 'reconstruction_losses': tensor(0.1478, device='cuda:0')}\n",
      "------\n"
     ]
    },
    {
     "name": "stderr",
     "output_type": "stream",
     "text": [
      "  1%|▏         | 2003/150000 [02:04<5:18:38,  7.74it/s]"
     ]
    },
    {
     "name": "stdout",
     "output_type": "stream",
     "text": [
      "train loss info\n",
      "{'losses': tensor(0.3766, device='cuda:0'), 'sparsity_losses': tensor(0.2343, device='cuda:0'), 'reconstruction_losses': tensor(0.1423, device='cuda:0')}\n",
      "val loss info\n",
      "{'losses': tensor(0.3770, device='cuda:0'), 'sparsity_losses': tensor(0.2340, device='cuda:0'), 'reconstruction_losses': tensor(0.1429, device='cuda:0')}\n",
      "------\n"
     ]
    },
    {
     "name": "stderr",
     "output_type": "stream",
     "text": [
      "  2%|▏         | 2503/150000 [02:35<5:18:28,  7.72it/s]"
     ]
    },
    {
     "name": "stdout",
     "output_type": "stream",
     "text": [
      "train loss info\n",
      "{'losses': tensor(0.3722, device='cuda:0'), 'sparsity_losses': tensor(0.2331, device='cuda:0'), 'reconstruction_losses': tensor(0.1391, device='cuda:0')}\n",
      "val loss info\n",
      "{'losses': tensor(0.3720, device='cuda:0'), 'sparsity_losses': tensor(0.2328, device='cuda:0'), 'reconstruction_losses': tensor(0.1392, device='cuda:0')}\n",
      "------\n"
     ]
    },
    {
     "name": "stderr",
     "output_type": "stream",
     "text": [
      "  2%|▏         | 3003/150000 [03:07<5:37:33,  7.26it/s]"
     ]
    },
    {
     "name": "stdout",
     "output_type": "stream",
     "text": [
      "train loss info\n",
      "{'losses': tensor(0.3669, device='cuda:0'), 'sparsity_losses': tensor(0.2318, device='cuda:0'), 'reconstruction_losses': tensor(0.1351, device='cuda:0')}\n",
      "val loss info\n",
      "{'losses': tensor(0.3669, device='cuda:0'), 'sparsity_losses': tensor(0.2313, device='cuda:0'), 'reconstruction_losses': tensor(0.1357, device='cuda:0')}\n",
      "------\n"
     ]
    },
    {
     "name": "stderr",
     "output_type": "stream",
     "text": [
      "  2%|▏         | 3503/150000 [03:38<5:38:05,  7.22it/s]"
     ]
    },
    {
     "name": "stdout",
     "output_type": "stream",
     "text": [
      "train loss info\n",
      "{'losses': tensor(0.3631, device='cuda:0'), 'sparsity_losses': tensor(0.2286, device='cuda:0'), 'reconstruction_losses': tensor(0.1345, device='cuda:0')}\n",
      "val loss info\n",
      "{'losses': tensor(0.3632, device='cuda:0'), 'sparsity_losses': tensor(0.2291, device='cuda:0'), 'reconstruction_losses': tensor(0.1341, device='cuda:0')}\n",
      "------\n"
     ]
    },
    {
     "name": "stderr",
     "output_type": "stream",
     "text": [
      "  3%|▎         | 4003/150000 [04:09<5:17:42,  7.66it/s]"
     ]
    },
    {
     "name": "stdout",
     "output_type": "stream",
     "text": [
      "train loss info\n",
      "{'losses': tensor(0.3621, device='cuda:0'), 'sparsity_losses': tensor(0.2299, device='cuda:0'), 'reconstruction_losses': tensor(0.1322, device='cuda:0')}\n",
      "val loss info\n",
      "{'losses': tensor(0.3616, device='cuda:0'), 'sparsity_losses': tensor(0.2297, device='cuda:0'), 'reconstruction_losses': tensor(0.1319, device='cuda:0')}\n",
      "------\n"
     ]
    },
    {
     "name": "stderr",
     "output_type": "stream",
     "text": [
      "  3%|▎         | 4503/150000 [04:40<5:17:41,  7.63it/s]"
     ]
    },
    {
     "name": "stdout",
     "output_type": "stream",
     "text": [
      "train loss info\n",
      "{'losses': tensor(0.3605, device='cuda:0'), 'sparsity_losses': tensor(0.2302, device='cuda:0'), 'reconstruction_losses': tensor(0.1303, device='cuda:0')}\n",
      "val loss info\n",
      "{'losses': tensor(0.3603, device='cuda:0'), 'sparsity_losses': tensor(0.2302, device='cuda:0'), 'reconstruction_losses': tensor(0.1300, device='cuda:0')}\n",
      "------\n"
     ]
    },
    {
     "name": "stderr",
     "output_type": "stream",
     "text": [
      "  3%|▎         | 5003/150000 [05:11<5:12:09,  7.74it/s]"
     ]
    },
    {
     "name": "stdout",
     "output_type": "stream",
     "text": [
      "train loss info\n",
      "{'losses': tensor(0.3587, device='cuda:0'), 'sparsity_losses': tensor(0.2284, device='cuda:0'), 'reconstruction_losses': tensor(0.1303, device='cuda:0')}\n",
      "val loss info\n",
      "{'losses': tensor(0.3585, device='cuda:0'), 'sparsity_losses': tensor(0.2282, device='cuda:0'), 'reconstruction_losses': tensor(0.1304, device='cuda:0')}\n",
      "------\n"
     ]
    },
    {
     "name": "stderr",
     "output_type": "stream",
     "text": [
      "  4%|▎         | 5503/150000 [05:39<4:55:13,  8.16it/s]"
     ]
    },
    {
     "name": "stdout",
     "output_type": "stream",
     "text": [
      "train loss info\n",
      "{'losses': tensor(0.3586, device='cuda:0'), 'sparsity_losses': tensor(0.2288, device='cuda:0'), 'reconstruction_losses': tensor(0.1298, device='cuda:0')}\n",
      "val loss info\n",
      "{'losses': tensor(0.3580, device='cuda:0'), 'sparsity_losses': tensor(0.2283, device='cuda:0'), 'reconstruction_losses': tensor(0.1296, device='cuda:0')}\n",
      "------\n"
     ]
    },
    {
     "name": "stderr",
     "output_type": "stream",
     "text": [
      "  4%|▍         | 6003/150000 [06:07<4:55:56,  8.11it/s]"
     ]
    },
    {
     "name": "stdout",
     "output_type": "stream",
     "text": [
      "train loss info\n",
      "{'losses': tensor(0.3588, device='cuda:0'), 'sparsity_losses': tensor(0.2288, device='cuda:0'), 'reconstruction_losses': tensor(0.1301, device='cuda:0')}\n",
      "val loss info\n",
      "{'losses': tensor(0.3587, device='cuda:0'), 'sparsity_losses': tensor(0.2283, device='cuda:0'), 'reconstruction_losses': tensor(0.1304, device='cuda:0')}\n",
      "------\n"
     ]
    },
    {
     "name": "stderr",
     "output_type": "stream",
     "text": [
      "  4%|▍         | 6503/150000 [06:36<4:43:59,  8.42it/s]"
     ]
    },
    {
     "name": "stdout",
     "output_type": "stream",
     "text": [
      "train loss info\n",
      "{'losses': tensor(0.3586, device='cuda:0'), 'sparsity_losses': tensor(0.2282, device='cuda:0'), 'reconstruction_losses': tensor(0.1305, device='cuda:0')}\n",
      "val loss info\n",
      "{'losses': tensor(0.3597, device='cuda:0'), 'sparsity_losses': tensor(0.2283, device='cuda:0'), 'reconstruction_losses': tensor(0.1314, device='cuda:0')}\n",
      "------\n"
     ]
    },
    {
     "name": "stderr",
     "output_type": "stream",
     "text": [
      "  5%|▍         | 7003/150000 [07:04<4:42:33,  8.43it/s]"
     ]
    },
    {
     "name": "stdout",
     "output_type": "stream",
     "text": [
      "train loss info\n",
      "{'losses': tensor(0.3598, device='cuda:0'), 'sparsity_losses': tensor(0.2291, device='cuda:0'), 'reconstruction_losses': tensor(0.1307, device='cuda:0')}\n",
      "val loss info\n",
      "{'losses': tensor(0.3602, device='cuda:0'), 'sparsity_losses': tensor(0.2288, device='cuda:0'), 'reconstruction_losses': tensor(0.1314, device='cuda:0')}\n",
      "------\n"
     ]
    },
    {
     "name": "stderr",
     "output_type": "stream",
     "text": [
      "  5%|▌         | 7503/150000 [07:33<4:41:30,  8.44it/s]"
     ]
    },
    {
     "name": "stdout",
     "output_type": "stream",
     "text": [
      "train loss info\n",
      "{'losses': tensor(0.3605, device='cuda:0'), 'sparsity_losses': tensor(0.2287, device='cuda:0'), 'reconstruction_losses': tensor(0.1319, device='cuda:0')}\n",
      "val loss info\n",
      "{'losses': tensor(0.3603, device='cuda:0'), 'sparsity_losses': tensor(0.2281, device='cuda:0'), 'reconstruction_losses': tensor(0.1322, device='cuda:0')}\n",
      "------\n"
     ]
    },
    {
     "name": "stderr",
     "output_type": "stream",
     "text": [
      "  5%|▌         | 8003/150000 [08:01<4:55:17,  8.01it/s]"
     ]
    },
    {
     "name": "stdout",
     "output_type": "stream",
     "text": [
      "train loss info\n",
      "{'losses': tensor(0.3607, device='cuda:0'), 'sparsity_losses': tensor(0.2278, device='cuda:0'), 'reconstruction_losses': tensor(0.1329, device='cuda:0')}\n",
      "val loss info\n",
      "{'losses': tensor(0.3600, device='cuda:0'), 'sparsity_losses': tensor(0.2273, device='cuda:0'), 'reconstruction_losses': tensor(0.1327, device='cuda:0')}\n",
      "------\n"
     ]
    },
    {
     "name": "stderr",
     "output_type": "stream",
     "text": [
      "  6%|▌         | 8503/150000 [08:29<4:47:58,  8.19it/s]"
     ]
    },
    {
     "name": "stdout",
     "output_type": "stream",
     "text": [
      "train loss info\n",
      "{'losses': tensor(0.3620, device='cuda:0'), 'sparsity_losses': tensor(0.2281, device='cuda:0'), 'reconstruction_losses': tensor(0.1338, device='cuda:0')}\n",
      "val loss info\n",
      "{'losses': tensor(0.3622, device='cuda:0'), 'sparsity_losses': tensor(0.2289, device='cuda:0'), 'reconstruction_losses': tensor(0.1332, device='cuda:0')}\n",
      "------\n"
     ]
    },
    {
     "name": "stderr",
     "output_type": "stream",
     "text": [
      "  6%|▌         | 9003/150000 [08:57<4:38:52,  8.43it/s]"
     ]
    },
    {
     "name": "stdout",
     "output_type": "stream",
     "text": [
      "train loss info\n",
      "{'losses': tensor(0.3625, device='cuda:0'), 'sparsity_losses': tensor(0.2281, device='cuda:0'), 'reconstruction_losses': tensor(0.1344, device='cuda:0')}\n",
      "val loss info\n",
      "{'losses': tensor(0.3627, device='cuda:0'), 'sparsity_losses': tensor(0.2286, device='cuda:0'), 'reconstruction_losses': tensor(0.1342, device='cuda:0')}\n",
      "------\n"
     ]
    },
    {
     "name": "stderr",
     "output_type": "stream",
     "text": [
      "  6%|▋         | 9503/150000 [09:25<4:58:26,  7.85it/s]"
     ]
    },
    {
     "name": "stdout",
     "output_type": "stream",
     "text": [
      "train loss info\n",
      "{'losses': tensor(0.3627, device='cuda:0'), 'sparsity_losses': tensor(0.2274, device='cuda:0'), 'reconstruction_losses': tensor(0.1353, device='cuda:0')}\n",
      "val loss info\n",
      "{'losses': tensor(0.3636, device='cuda:0'), 'sparsity_losses': tensor(0.2280, device='cuda:0'), 'reconstruction_losses': tensor(0.1356, device='cuda:0')}\n",
      "------\n"
     ]
    },
    {
     "name": "stderr",
     "output_type": "stream",
     "text": [
      "  7%|▋         | 10003/150000 [09:54<4:47:55,  8.10it/s]"
     ]
    },
    {
     "name": "stdout",
     "output_type": "stream",
     "text": [
      "train loss info\n",
      "{'losses': tensor(0.3642, device='cuda:0'), 'sparsity_losses': tensor(0.2271, device='cuda:0'), 'reconstruction_losses': tensor(0.1371, device='cuda:0')}\n",
      "val loss info\n",
      "{'losses': tensor(0.3639, device='cuda:0'), 'sparsity_losses': tensor(0.2273, device='cuda:0'), 'reconstruction_losses': tensor(0.1366, device='cuda:0')}\n",
      "------\n"
     ]
    },
    {
     "name": "stderr",
     "output_type": "stream",
     "text": [
      "  7%|▋         | 10503/150000 [10:22<4:37:59,  8.36it/s]"
     ]
    },
    {
     "name": "stdout",
     "output_type": "stream",
     "text": [
      "train loss info\n",
      "{'losses': tensor(0.3639, device='cuda:0'), 'sparsity_losses': tensor(0.2261, device='cuda:0'), 'reconstruction_losses': tensor(0.1379, device='cuda:0')}\n",
      "val loss info\n",
      "{'losses': tensor(0.3650, device='cuda:0'), 'sparsity_losses': tensor(0.2265, device='cuda:0'), 'reconstruction_losses': tensor(0.1385, device='cuda:0')}\n",
      "------\n"
     ]
    },
    {
     "name": "stderr",
     "output_type": "stream",
     "text": [
      "  7%|▋         | 11003/150000 [10:51<4:35:30,  8.41it/s]"
     ]
    },
    {
     "name": "stdout",
     "output_type": "stream",
     "text": [
      "train loss info\n",
      "{'losses': tensor(0.3645, device='cuda:0'), 'sparsity_losses': tensor(0.2265, device='cuda:0'), 'reconstruction_losses': tensor(0.1380, device='cuda:0')}\n",
      "val loss info\n",
      "{'losses': tensor(0.3642, device='cuda:0'), 'sparsity_losses': tensor(0.2262, device='cuda:0'), 'reconstruction_losses': tensor(0.1380, device='cuda:0')}\n",
      "------\n"
     ]
    },
    {
     "name": "stderr",
     "output_type": "stream",
     "text": [
      "  8%|▊         | 11503/150000 [11:20<4:46:16,  8.06it/s]"
     ]
    },
    {
     "name": "stdout",
     "output_type": "stream",
     "text": [
      "train loss info\n",
      "{'losses': tensor(0.3654, device='cuda:0'), 'sparsity_losses': tensor(0.2264, device='cuda:0'), 'reconstruction_losses': tensor(0.1391, device='cuda:0')}\n",
      "val loss info\n",
      "{'losses': tensor(0.3647, device='cuda:0'), 'sparsity_losses': tensor(0.2254, device='cuda:0'), 'reconstruction_losses': tensor(0.1393, device='cuda:0')}\n",
      "------\n"
     ]
    },
    {
     "name": "stderr",
     "output_type": "stream",
     "text": [
      "  8%|▊         | 12003/150000 [11:48<4:41:16,  8.18it/s]"
     ]
    },
    {
     "name": "stdout",
     "output_type": "stream",
     "text": [
      "train loss info\n",
      "{'losses': tensor(0.3647, device='cuda:0'), 'sparsity_losses': tensor(0.2252, device='cuda:0'), 'reconstruction_losses': tensor(0.1395, device='cuda:0')}\n",
      "val loss info\n",
      "{'losses': tensor(0.3642, device='cuda:0'), 'sparsity_losses': tensor(0.2251, device='cuda:0'), 'reconstruction_losses': tensor(0.1391, device='cuda:0')}\n",
      "------\n"
     ]
    },
    {
     "name": "stderr",
     "output_type": "stream",
     "text": [
      "  8%|▊         | 12503/150000 [12:17<4:51:34,  7.86it/s]"
     ]
    },
    {
     "name": "stdout",
     "output_type": "stream",
     "text": [
      "train loss info\n",
      "{'losses': tensor(0.3654, device='cuda:0'), 'sparsity_losses': tensor(0.2248, device='cuda:0'), 'reconstruction_losses': tensor(0.1406, device='cuda:0')}\n",
      "val loss info\n",
      "{'losses': tensor(0.3647, device='cuda:0'), 'sparsity_losses': tensor(0.2250, device='cuda:0'), 'reconstruction_losses': tensor(0.1396, device='cuda:0')}\n",
      "------\n"
     ]
    },
    {
     "name": "stderr",
     "output_type": "stream",
     "text": [
      "  9%|▊         | 13003/150000 [12:45<4:30:21,  8.45it/s]"
     ]
    },
    {
     "name": "stdout",
     "output_type": "stream",
     "text": [
      "train loss info\n",
      "{'losses': tensor(0.3658, device='cuda:0'), 'sparsity_losses': tensor(0.2249, device='cuda:0'), 'reconstruction_losses': tensor(0.1409, device='cuda:0')}\n",
      "val loss info\n",
      "{'losses': tensor(0.3653, device='cuda:0'), 'sparsity_losses': tensor(0.2250, device='cuda:0'), 'reconstruction_losses': tensor(0.1402, device='cuda:0')}\n",
      "------\n"
     ]
    },
    {
     "name": "stderr",
     "output_type": "stream",
     "text": [
      "  9%|▉         | 13503/150000 [13:13<4:30:35,  8.41it/s]"
     ]
    },
    {
     "name": "stdout",
     "output_type": "stream",
     "text": [
      "train loss info\n",
      "{'losses': tensor(0.3672, device='cuda:0'), 'sparsity_losses': tensor(0.2250, device='cuda:0'), 'reconstruction_losses': tensor(0.1421, device='cuda:0')}\n",
      "val loss info\n",
      "{'losses': tensor(0.3659, device='cuda:0'), 'sparsity_losses': tensor(0.2251, device='cuda:0'), 'reconstruction_losses': tensor(0.1407, device='cuda:0')}\n",
      "------\n"
     ]
    },
    {
     "name": "stderr",
     "output_type": "stream",
     "text": [
      "  9%|▉         | 14003/150000 [13:41<4:29:01,  8.43it/s]"
     ]
    },
    {
     "name": "stdout",
     "output_type": "stream",
     "text": [
      "train loss info\n",
      "{'losses': tensor(0.3660, device='cuda:0'), 'sparsity_losses': tensor(0.2238, device='cuda:0'), 'reconstruction_losses': tensor(0.1422, device='cuda:0')}\n",
      "val loss info\n",
      "{'losses': tensor(0.3658, device='cuda:0'), 'sparsity_losses': tensor(0.2237, device='cuda:0'), 'reconstruction_losses': tensor(0.1421, device='cuda:0')}\n",
      "------\n"
     ]
    },
    {
     "name": "stderr",
     "output_type": "stream",
     "text": [
      " 10%|▉         | 14503/150000 [14:09<4:27:09,  8.45it/s]"
     ]
    },
    {
     "name": "stdout",
     "output_type": "stream",
     "text": [
      "train loss info\n",
      "{'losses': tensor(0.3647, device='cuda:0'), 'sparsity_losses': tensor(0.2225, device='cuda:0'), 'reconstruction_losses': tensor(0.1422, device='cuda:0')}\n",
      "val loss info\n",
      "{'losses': tensor(0.3646, device='cuda:0'), 'sparsity_losses': tensor(0.2221, device='cuda:0'), 'reconstruction_losses': tensor(0.1425, device='cuda:0')}\n",
      "------\n"
     ]
    },
    {
     "name": "stderr",
     "output_type": "stream",
     "text": [
      " 10%|█         | 15003/150000 [14:37<4:28:41,  8.37it/s]"
     ]
    },
    {
     "name": "stdout",
     "output_type": "stream",
     "text": [
      "train loss info\n",
      "{'losses': tensor(0.3658, device='cuda:0'), 'sparsity_losses': tensor(0.2223, device='cuda:0'), 'reconstruction_losses': tensor(0.1435, device='cuda:0')}\n",
      "val loss info\n",
      "{'losses': tensor(0.3654, device='cuda:0'), 'sparsity_losses': tensor(0.2228, device='cuda:0'), 'reconstruction_losses': tensor(0.1425, device='cuda:0')}\n",
      "------\n"
     ]
    },
    {
     "name": "stderr",
     "output_type": "stream",
     "text": [
      " 10%|█         | 15503/150000 [15:06<4:25:39,  8.44it/s]"
     ]
    },
    {
     "name": "stdout",
     "output_type": "stream",
     "text": [
      "train loss info\n",
      "{'losses': tensor(0.3651, device='cuda:0'), 'sparsity_losses': tensor(0.2221, device='cuda:0'), 'reconstruction_losses': tensor(0.1429, device='cuda:0')}\n",
      "val loss info\n",
      "{'losses': tensor(0.3646, device='cuda:0'), 'sparsity_losses': tensor(0.2221, device='cuda:0'), 'reconstruction_losses': tensor(0.1425, device='cuda:0')}\n",
      "------\n"
     ]
    },
    {
     "name": "stderr",
     "output_type": "stream",
     "text": [
      " 11%|█         | 16003/150000 [15:34<4:39:59,  7.98it/s]"
     ]
    },
    {
     "name": "stdout",
     "output_type": "stream",
     "text": [
      "train loss info\n",
      "{'losses': tensor(0.3637, device='cuda:0'), 'sparsity_losses': tensor(0.2204, device='cuda:0'), 'reconstruction_losses': tensor(0.1433, device='cuda:0')}\n",
      "val loss info\n",
      "{'losses': tensor(0.3636, device='cuda:0'), 'sparsity_losses': tensor(0.2205, device='cuda:0'), 'reconstruction_losses': tensor(0.1431, device='cuda:0')}\n",
      "------\n"
     ]
    },
    {
     "name": "stderr",
     "output_type": "stream",
     "text": [
      " 11%|█         | 16503/150000 [16:02<4:23:29,  8.44it/s]"
     ]
    },
    {
     "name": "stdout",
     "output_type": "stream",
     "text": [
      "train loss info\n",
      "{'losses': tensor(0.3632, device='cuda:0'), 'sparsity_losses': tensor(0.2205, device='cuda:0'), 'reconstruction_losses': tensor(0.1427, device='cuda:0')}\n",
      "val loss info\n",
      "{'losses': tensor(0.3631, device='cuda:0'), 'sparsity_losses': tensor(0.2206, device='cuda:0'), 'reconstruction_losses': tensor(0.1425, device='cuda:0')}\n",
      "------\n"
     ]
    },
    {
     "name": "stderr",
     "output_type": "stream",
     "text": [
      " 11%|█▏        | 17003/150000 [16:29<4:22:51,  8.43it/s]"
     ]
    },
    {
     "name": "stdout",
     "output_type": "stream",
     "text": [
      "train loss info\n",
      "{'losses': tensor(0.3626, device='cuda:0'), 'sparsity_losses': tensor(0.2192, device='cuda:0'), 'reconstruction_losses': tensor(0.1434, device='cuda:0')}\n",
      "val loss info\n",
      "{'losses': tensor(0.3625, device='cuda:0'), 'sparsity_losses': tensor(0.2192, device='cuda:0'), 'reconstruction_losses': tensor(0.1433, device='cuda:0')}\n",
      "------\n"
     ]
    },
    {
     "name": "stderr",
     "output_type": "stream",
     "text": [
      " 12%|█▏        | 17503/150000 [16:58<4:55:51,  7.46it/s]"
     ]
    },
    {
     "name": "stdout",
     "output_type": "stream",
     "text": [
      "train loss info\n",
      "{'losses': tensor(0.3616, device='cuda:0'), 'sparsity_losses': tensor(0.2182, device='cuda:0'), 'reconstruction_losses': tensor(0.1434, device='cuda:0')}\n",
      "val loss info\n",
      "{'losses': tensor(0.3620, device='cuda:0'), 'sparsity_losses': tensor(0.2180, device='cuda:0'), 'reconstruction_losses': tensor(0.1440, device='cuda:0')}\n",
      "------\n"
     ]
    },
    {
     "name": "stderr",
     "output_type": "stream",
     "text": [
      " 12%|█▏        | 18003/150000 [17:26<4:20:44,  8.44it/s]"
     ]
    },
    {
     "name": "stdout",
     "output_type": "stream",
     "text": [
      "train loss info\n",
      "{'losses': tensor(0.3596, device='cuda:0'), 'sparsity_losses': tensor(0.2169, device='cuda:0'), 'reconstruction_losses': tensor(0.1427, device='cuda:0')}\n",
      "val loss info\n",
      "{'losses': tensor(0.3597, device='cuda:0'), 'sparsity_losses': tensor(0.2166, device='cuda:0'), 'reconstruction_losses': tensor(0.1431, device='cuda:0')}\n",
      "------\n"
     ]
    },
    {
     "name": "stderr",
     "output_type": "stream",
     "text": [
      " 12%|█▏        | 18503/150000 [17:54<4:23:34,  8.32it/s]"
     ]
    },
    {
     "name": "stdout",
     "output_type": "stream",
     "text": [
      "train loss info\n",
      "{'losses': tensor(0.3591, device='cuda:0'), 'sparsity_losses': tensor(0.2165, device='cuda:0'), 'reconstruction_losses': tensor(0.1426, device='cuda:0')}\n",
      "val loss info\n",
      "{'losses': tensor(0.3583, device='cuda:0'), 'sparsity_losses': tensor(0.2163, device='cuda:0'), 'reconstruction_losses': tensor(0.1421, device='cuda:0')}\n",
      "------\n"
     ]
    },
    {
     "name": "stderr",
     "output_type": "stream",
     "text": [
      " 13%|█▎        | 19003/150000 [18:22<4:41:04,  7.77it/s]"
     ]
    },
    {
     "name": "stdout",
     "output_type": "stream",
     "text": [
      "train loss info\n",
      "{'losses': tensor(0.3578, device='cuda:0'), 'sparsity_losses': tensor(0.2155, device='cuda:0'), 'reconstruction_losses': tensor(0.1424, device='cuda:0')}\n",
      "val loss info\n",
      "{'losses': tensor(0.3585, device='cuda:0'), 'sparsity_losses': tensor(0.2156, device='cuda:0'), 'reconstruction_losses': tensor(0.1428, device='cuda:0')}\n",
      "------\n"
     ]
    },
    {
     "name": "stderr",
     "output_type": "stream",
     "text": [
      " 13%|█▎        | 19503/150000 [18:50<4:17:52,  8.43it/s]"
     ]
    },
    {
     "name": "stdout",
     "output_type": "stream",
     "text": [
      "train loss info\n",
      "{'losses': tensor(0.3569, device='cuda:0'), 'sparsity_losses': tensor(0.2151, device='cuda:0'), 'reconstruction_losses': tensor(0.1418, device='cuda:0')}\n",
      "val loss info\n",
      "{'losses': tensor(0.3575, device='cuda:0'), 'sparsity_losses': tensor(0.2150, device='cuda:0'), 'reconstruction_losses': tensor(0.1424, device='cuda:0')}\n",
      "------\n"
     ]
    },
    {
     "name": "stderr",
     "output_type": "stream",
     "text": [
      " 13%|█▎        | 20003/150000 [19:19<4:38:24,  7.78it/s]"
     ]
    },
    {
     "name": "stdout",
     "output_type": "stream",
     "text": [
      "train loss info\n",
      "{'losses': tensor(0.3561, device='cuda:0'), 'sparsity_losses': tensor(0.2148, device='cuda:0'), 'reconstruction_losses': tensor(0.1413, device='cuda:0')}\n",
      "val loss info\n",
      "{'losses': tensor(0.3554, device='cuda:0'), 'sparsity_losses': tensor(0.2145, device='cuda:0'), 'reconstruction_losses': tensor(0.1409, device='cuda:0')}\n",
      "------\n"
     ]
    },
    {
     "name": "stderr",
     "output_type": "stream",
     "text": [
      " 14%|█▎        | 20503/150000 [19:48<4:26:11,  8.11it/s]"
     ]
    },
    {
     "name": "stdout",
     "output_type": "stream",
     "text": [
      "train loss info\n",
      "{'losses': tensor(0.3542, device='cuda:0'), 'sparsity_losses': tensor(0.2136, device='cuda:0'), 'reconstruction_losses': tensor(0.1406, device='cuda:0')}\n",
      "val loss info\n",
      "{'losses': tensor(0.3552, device='cuda:0'), 'sparsity_losses': tensor(0.2138, device='cuda:0'), 'reconstruction_losses': tensor(0.1415, device='cuda:0')}\n",
      "------\n"
     ]
    },
    {
     "name": "stderr",
     "output_type": "stream",
     "text": [
      " 14%|█▍        | 21003/150000 [20:16<4:14:46,  8.44it/s]"
     ]
    },
    {
     "name": "stdout",
     "output_type": "stream",
     "text": [
      "train loss info\n",
      "{'losses': tensor(0.3526, device='cuda:0'), 'sparsity_losses': tensor(0.2132, device='cuda:0'), 'reconstruction_losses': tensor(0.1394, device='cuda:0')}\n",
      "val loss info\n",
      "{'losses': tensor(0.3540, device='cuda:0'), 'sparsity_losses': tensor(0.2134, device='cuda:0'), 'reconstruction_losses': tensor(0.1406, device='cuda:0')}\n",
      "------\n"
     ]
    },
    {
     "name": "stderr",
     "output_type": "stream",
     "text": [
      " 14%|█▍        | 21503/150000 [20:44<4:15:32,  8.38it/s]"
     ]
    },
    {
     "name": "stdout",
     "output_type": "stream",
     "text": [
      "train loss info\n",
      "{'losses': tensor(0.3512, device='cuda:0'), 'sparsity_losses': tensor(0.2118, device='cuda:0'), 'reconstruction_losses': tensor(0.1394, device='cuda:0')}\n",
      "val loss info\n",
      "{'losses': tensor(0.3510, device='cuda:0'), 'sparsity_losses': tensor(0.2119, device='cuda:0'), 'reconstruction_losses': tensor(0.1391, device='cuda:0')}\n",
      "------\n"
     ]
    },
    {
     "name": "stderr",
     "output_type": "stream",
     "text": [
      " 15%|█▍        | 22003/150000 [21:12<4:13:18,  8.42it/s]"
     ]
    },
    {
     "name": "stdout",
     "output_type": "stream",
     "text": [
      "train loss info\n",
      "{'losses': tensor(0.3484, device='cuda:0'), 'sparsity_losses': tensor(0.2108, device='cuda:0'), 'reconstruction_losses': tensor(0.1376, device='cuda:0')}\n",
      "val loss info\n",
      "{'losses': tensor(0.3491, device='cuda:0'), 'sparsity_losses': tensor(0.2110, device='cuda:0'), 'reconstruction_losses': tensor(0.1381, device='cuda:0')}\n",
      "------\n"
     ]
    },
    {
     "name": "stderr",
     "output_type": "stream",
     "text": [
      " 15%|█▌        | 22503/150000 [21:40<4:15:07,  8.33it/s]"
     ]
    },
    {
     "name": "stdout",
     "output_type": "stream",
     "text": [
      "train loss info\n",
      "{'losses': tensor(0.3473, device='cuda:0'), 'sparsity_losses': tensor(0.2097, device='cuda:0'), 'reconstruction_losses': tensor(0.1376, device='cuda:0')}\n",
      "val loss info\n",
      "{'losses': tensor(0.3477, device='cuda:0'), 'sparsity_losses': tensor(0.2102, device='cuda:0'), 'reconstruction_losses': tensor(0.1375, device='cuda:0')}\n",
      "------\n"
     ]
    },
    {
     "name": "stderr",
     "output_type": "stream",
     "text": [
      " 15%|█▌        | 23003/150000 [22:08<4:11:16,  8.42it/s]"
     ]
    },
    {
     "name": "stdout",
     "output_type": "stream",
     "text": [
      "train loss info\n",
      "{'losses': tensor(0.3455, device='cuda:0'), 'sparsity_losses': tensor(0.2093, device='cuda:0'), 'reconstruction_losses': tensor(0.1362, device='cuda:0')}\n",
      "val loss info\n",
      "{'losses': tensor(0.3460, device='cuda:0'), 'sparsity_losses': tensor(0.2086, device='cuda:0'), 'reconstruction_losses': tensor(0.1373, device='cuda:0')}\n",
      "------\n"
     ]
    },
    {
     "name": "stderr",
     "output_type": "stream",
     "text": [
      " 16%|█▌        | 23503/150000 [22:37<4:09:50,  8.44it/s]"
     ]
    },
    {
     "name": "stdout",
     "output_type": "stream",
     "text": [
      "train loss info\n",
      "{'losses': tensor(0.3439, device='cuda:0'), 'sparsity_losses': tensor(0.2080, device='cuda:0'), 'reconstruction_losses': tensor(0.1359, device='cuda:0')}\n",
      "val loss info\n",
      "{'losses': tensor(0.3437, device='cuda:0'), 'sparsity_losses': tensor(0.2083, device='cuda:0'), 'reconstruction_losses': tensor(0.1354, device='cuda:0')}\n",
      "------\n"
     ]
    },
    {
     "name": "stderr",
     "output_type": "stream",
     "text": [
      " 16%|█▌        | 24003/150000 [23:05<4:08:56,  8.44it/s]"
     ]
    },
    {
     "name": "stdout",
     "output_type": "stream",
     "text": [
      "train loss info\n",
      "{'losses': tensor(0.3415, device='cuda:0'), 'sparsity_losses': tensor(0.2075, device='cuda:0'), 'reconstruction_losses': tensor(0.1341, device='cuda:0')}\n",
      "val loss info\n",
      "{'losses': tensor(0.3433, device='cuda:0'), 'sparsity_losses': tensor(0.2079, device='cuda:0'), 'reconstruction_losses': tensor(0.1353, device='cuda:0')}\n",
      "------\n"
     ]
    },
    {
     "name": "stderr",
     "output_type": "stream",
     "text": [
      " 16%|█▋        | 24503/150000 [23:33<4:08:21,  8.42it/s]"
     ]
    },
    {
     "name": "stdout",
     "output_type": "stream",
     "text": [
      "train loss info\n",
      "{'losses': tensor(0.3406, device='cuda:0'), 'sparsity_losses': tensor(0.2068, device='cuda:0'), 'reconstruction_losses': tensor(0.1338, device='cuda:0')}\n",
      "val loss info\n",
      "{'losses': tensor(0.3410, device='cuda:0'), 'sparsity_losses': tensor(0.2061, device='cuda:0'), 'reconstruction_losses': tensor(0.1350, device='cuda:0')}\n",
      "------\n"
     ]
    },
    {
     "name": "stderr",
     "output_type": "stream",
     "text": [
      " 17%|█▋        | 25003/150000 [24:02<4:16:27,  8.12it/s]"
     ]
    },
    {
     "name": "stdout",
     "output_type": "stream",
     "text": [
      "train loss info\n",
      "{'losses': tensor(0.3390, device='cuda:0'), 'sparsity_losses': tensor(0.2050, device='cuda:0'), 'reconstruction_losses': tensor(0.1340, device='cuda:0')}\n",
      "val loss info\n",
      "{'losses': tensor(0.3397, device='cuda:0'), 'sparsity_losses': tensor(0.2057, device='cuda:0'), 'reconstruction_losses': tensor(0.1340, device='cuda:0')}\n",
      "------\n"
     ]
    },
    {
     "name": "stderr",
     "output_type": "stream",
     "text": [
      " 17%|█▋        | 25503/150000 [24:30<4:14:15,  8.16it/s]"
     ]
    },
    {
     "name": "stdout",
     "output_type": "stream",
     "text": [
      "train loss info\n",
      "{'losses': tensor(0.3386, device='cuda:0'), 'sparsity_losses': tensor(0.2049, device='cuda:0'), 'reconstruction_losses': tensor(0.1337, device='cuda:0')}\n",
      "val loss info\n",
      "{'losses': tensor(0.3390, device='cuda:0'), 'sparsity_losses': tensor(0.2052, device='cuda:0'), 'reconstruction_losses': tensor(0.1338, device='cuda:0')}\n",
      "------\n"
     ]
    },
    {
     "name": "stderr",
     "output_type": "stream",
     "text": [
      " 17%|█▋        | 26003/150000 [24:58<4:17:10,  8.04it/s]"
     ]
    },
    {
     "name": "stdout",
     "output_type": "stream",
     "text": [
      "train loss info\n",
      "{'losses': tensor(0.3379, device='cuda:0'), 'sparsity_losses': tensor(0.2058, device='cuda:0'), 'reconstruction_losses': tensor(0.1321, device='cuda:0')}\n",
      "val loss info\n",
      "{'losses': tensor(0.3379, device='cuda:0'), 'sparsity_losses': tensor(0.2052, device='cuda:0'), 'reconstruction_losses': tensor(0.1327, device='cuda:0')}\n",
      "------\n"
     ]
    },
    {
     "name": "stderr",
     "output_type": "stream",
     "text": [
      " 18%|█▊        | 26503/150000 [25:26<4:06:14,  8.36it/s]"
     ]
    },
    {
     "name": "stdout",
     "output_type": "stream",
     "text": [
      "train loss info\n",
      "{'losses': tensor(0.3368, device='cuda:0'), 'sparsity_losses': tensor(0.2050, device='cuda:0'), 'reconstruction_losses': tensor(0.1317, device='cuda:0')}\n",
      "val loss info\n",
      "{'losses': tensor(0.3352, device='cuda:0'), 'sparsity_losses': tensor(0.2035, device='cuda:0'), 'reconstruction_losses': tensor(0.1317, device='cuda:0')}\n",
      "------\n"
     ]
    },
    {
     "name": "stderr",
     "output_type": "stream",
     "text": [
      " 18%|█▊        | 27003/150000 [25:55<4:17:35,  7.96it/s]"
     ]
    },
    {
     "name": "stdout",
     "output_type": "stream",
     "text": [
      "train loss info\n",
      "{'losses': tensor(0.3341, device='cuda:0'), 'sparsity_losses': tensor(0.2036, device='cuda:0'), 'reconstruction_losses': tensor(0.1306, device='cuda:0')}\n",
      "val loss info\n",
      "{'losses': tensor(0.3354, device='cuda:0'), 'sparsity_losses': tensor(0.2039, device='cuda:0'), 'reconstruction_losses': tensor(0.1315, device='cuda:0')}\n",
      "------\n"
     ]
    },
    {
     "name": "stderr",
     "output_type": "stream",
     "text": [
      " 18%|█▊        | 27503/150000 [26:23<4:28:31,  7.60it/s]"
     ]
    },
    {
     "name": "stdout",
     "output_type": "stream",
     "text": [
      "train loss info\n",
      "{'losses': tensor(0.3336, device='cuda:0'), 'sparsity_losses': tensor(0.2029, device='cuda:0'), 'reconstruction_losses': tensor(0.1306, device='cuda:0')}\n",
      "val loss info\n",
      "{'losses': tensor(0.3333, device='cuda:0'), 'sparsity_losses': tensor(0.2025, device='cuda:0'), 'reconstruction_losses': tensor(0.1308, device='cuda:0')}\n",
      "------\n"
     ]
    },
    {
     "name": "stderr",
     "output_type": "stream",
     "text": [
      " 19%|█▊        | 28003/150000 [26:51<4:01:01,  8.44it/s]"
     ]
    },
    {
     "name": "stdout",
     "output_type": "stream",
     "text": [
      "train loss info\n",
      "{'losses': tensor(0.3328, device='cuda:0'), 'sparsity_losses': tensor(0.2031, device='cuda:0'), 'reconstruction_losses': tensor(0.1297, device='cuda:0')}\n",
      "val loss info\n",
      "{'losses': tensor(0.3328, device='cuda:0'), 'sparsity_losses': tensor(0.2028, device='cuda:0'), 'reconstruction_losses': tensor(0.1300, device='cuda:0')}\n",
      "------\n"
     ]
    },
    {
     "name": "stderr",
     "output_type": "stream",
     "text": [
      " 19%|█▉        | 28503/150000 [27:19<4:00:21,  8.42it/s]"
     ]
    },
    {
     "name": "stdout",
     "output_type": "stream",
     "text": [
      "train loss info\n",
      "{'losses': tensor(0.3316, device='cuda:0'), 'sparsity_losses': tensor(0.2022, device='cuda:0'), 'reconstruction_losses': tensor(0.1294, device='cuda:0')}\n",
      "val loss info\n",
      "{'losses': tensor(0.3317, device='cuda:0'), 'sparsity_losses': tensor(0.2024, device='cuda:0'), 'reconstruction_losses': tensor(0.1293, device='cuda:0')}\n",
      "------\n"
     ]
    },
    {
     "name": "stderr",
     "output_type": "stream",
     "text": [
      " 19%|█▉        | 29003/150000 [27:46<3:59:12,  8.43it/s]"
     ]
    },
    {
     "name": "stdout",
     "output_type": "stream",
     "text": [
      "train loss info\n",
      "{'losses': tensor(0.3306, device='cuda:0'), 'sparsity_losses': tensor(0.2021, device='cuda:0'), 'reconstruction_losses': tensor(0.1285, device='cuda:0')}\n",
      "val loss info\n",
      "{'losses': tensor(0.3306, device='cuda:0'), 'sparsity_losses': tensor(0.2021, device='cuda:0'), 'reconstruction_losses': tensor(0.1286, device='cuda:0')}\n",
      "------\n"
     ]
    },
    {
     "name": "stderr",
     "output_type": "stream",
     "text": [
      " 20%|█▉        | 29503/150000 [28:14<3:58:15,  8.43it/s]"
     ]
    },
    {
     "name": "stdout",
     "output_type": "stream",
     "text": [
      "train loss info\n",
      "{'losses': tensor(0.3295, device='cuda:0'), 'sparsity_losses': tensor(0.2013, device='cuda:0'), 'reconstruction_losses': tensor(0.1282, device='cuda:0')}\n",
      "val loss info\n",
      "{'losses': tensor(0.3304, device='cuda:0'), 'sparsity_losses': tensor(0.2019, device='cuda:0'), 'reconstruction_losses': tensor(0.1284, device='cuda:0')}\n",
      "------\n"
     ]
    },
    {
     "name": "stderr",
     "output_type": "stream",
     "text": [
      " 20%|██        | 30003/150000 [28:42<3:57:27,  8.42it/s]"
     ]
    },
    {
     "name": "stdout",
     "output_type": "stream",
     "text": [
      "train loss info\n",
      "{'losses': tensor(0.3293, device='cuda:0'), 'sparsity_losses': tensor(0.2008, device='cuda:0'), 'reconstruction_losses': tensor(0.1285, device='cuda:0')}\n",
      "val loss info\n",
      "{'losses': tensor(0.3278, device='cuda:0'), 'sparsity_losses': tensor(0.2003, device='cuda:0'), 'reconstruction_losses': tensor(0.1275, device='cuda:0')}\n",
      "------\n"
     ]
    },
    {
     "name": "stderr",
     "output_type": "stream",
     "text": [
      " 20%|██        | 30503/150000 [29:10<3:57:14,  8.40it/s]"
     ]
    },
    {
     "name": "stdout",
     "output_type": "stream",
     "text": [
      "train loss info\n",
      "{'losses': tensor(0.3278, device='cuda:0'), 'sparsity_losses': tensor(0.2004, device='cuda:0'), 'reconstruction_losses': tensor(0.1274, device='cuda:0')}\n",
      "val loss info\n",
      "{'losses': tensor(0.3286, device='cuda:0'), 'sparsity_losses': tensor(0.2004, device='cuda:0'), 'reconstruction_losses': tensor(0.1282, device='cuda:0')}\n",
      "------\n"
     ]
    },
    {
     "name": "stderr",
     "output_type": "stream",
     "text": [
      " 21%|██        | 31003/150000 [29:38<3:58:57,  8.30it/s]"
     ]
    },
    {
     "name": "stdout",
     "output_type": "stream",
     "text": [
      "train loss info\n",
      "{'losses': tensor(0.3270, device='cuda:0'), 'sparsity_losses': tensor(0.1998, device='cuda:0'), 'reconstruction_losses': tensor(0.1272, device='cuda:0')}\n",
      "val loss info\n",
      "{'losses': tensor(0.3276, device='cuda:0'), 'sparsity_losses': tensor(0.2000, device='cuda:0'), 'reconstruction_losses': tensor(0.1275, device='cuda:0')}\n",
      "------\n"
     ]
    },
    {
     "name": "stderr",
     "output_type": "stream",
     "text": [
      " 21%|██        | 31503/150000 [30:07<3:54:23,  8.43it/s]"
     ]
    },
    {
     "name": "stdout",
     "output_type": "stream",
     "text": [
      "train loss info\n",
      "{'losses': tensor(0.3260, device='cuda:0'), 'sparsity_losses': tensor(0.1993, device='cuda:0'), 'reconstruction_losses': tensor(0.1267, device='cuda:0')}\n",
      "val loss info\n",
      "{'losses': tensor(0.3264, device='cuda:0'), 'sparsity_losses': tensor(0.1993, device='cuda:0'), 'reconstruction_losses': tensor(0.1271, device='cuda:0')}\n",
      "------\n"
     ]
    },
    {
     "name": "stderr",
     "output_type": "stream",
     "text": [
      " 21%|██▏       | 32003/150000 [30:35<3:53:34,  8.42it/s]"
     ]
    },
    {
     "name": "stdout",
     "output_type": "stream",
     "text": [
      "train loss info\n",
      "{'losses': tensor(0.3260, device='cuda:0'), 'sparsity_losses': tensor(0.1996, device='cuda:0'), 'reconstruction_losses': tensor(0.1264, device='cuda:0')}\n",
      "val loss info\n",
      "{'losses': tensor(0.3267, device='cuda:0'), 'sparsity_losses': tensor(0.1995, device='cuda:0'), 'reconstruction_losses': tensor(0.1272, device='cuda:0')}\n",
      "------\n"
     ]
    },
    {
     "name": "stderr",
     "output_type": "stream",
     "text": [
      " 22%|██▏       | 32503/150000 [31:04<3:52:47,  8.41it/s]"
     ]
    },
    {
     "name": "stdout",
     "output_type": "stream",
     "text": [
      "train loss info\n",
      "{'losses': tensor(0.3253, device='cuda:0'), 'sparsity_losses': tensor(0.1988, device='cuda:0'), 'reconstruction_losses': tensor(0.1265, device='cuda:0')}\n",
      "val loss info\n",
      "{'losses': tensor(0.3257, device='cuda:0'), 'sparsity_losses': tensor(0.1993, device='cuda:0'), 'reconstruction_losses': tensor(0.1264, device='cuda:0')}\n",
      "------\n"
     ]
    },
    {
     "name": "stderr",
     "output_type": "stream",
     "text": [
      " 22%|██▏       | 33003/150000 [31:32<3:53:03,  8.37it/s]"
     ]
    },
    {
     "name": "stdout",
     "output_type": "stream",
     "text": [
      "train loss info\n",
      "{'losses': tensor(0.3254, device='cuda:0'), 'sparsity_losses': tensor(0.1990, device='cuda:0'), 'reconstruction_losses': tensor(0.1264, device='cuda:0')}\n",
      "val loss info\n",
      "{'losses': tensor(0.3255, device='cuda:0'), 'sparsity_losses': tensor(0.1991, device='cuda:0'), 'reconstruction_losses': tensor(0.1264, device='cuda:0')}\n",
      "------\n"
     ]
    },
    {
     "name": "stderr",
     "output_type": "stream",
     "text": [
      " 22%|██▏       | 33503/150000 [32:00<3:50:26,  8.43it/s]"
     ]
    },
    {
     "name": "stdout",
     "output_type": "stream",
     "text": [
      "train loss info\n",
      "{'losses': tensor(0.3243, device='cuda:0'), 'sparsity_losses': tensor(0.1982, device='cuda:0'), 'reconstruction_losses': tensor(0.1262, device='cuda:0')}\n",
      "val loss info\n",
      "{'losses': tensor(0.3247, device='cuda:0'), 'sparsity_losses': tensor(0.1988, device='cuda:0'), 'reconstruction_losses': tensor(0.1259, device='cuda:0')}\n",
      "------\n"
     ]
    },
    {
     "name": "stderr",
     "output_type": "stream",
     "text": [
      " 23%|██▎       | 34003/150000 [32:27<3:49:26,  8.43it/s]"
     ]
    },
    {
     "name": "stdout",
     "output_type": "stream",
     "text": [
      "train loss info\n",
      "{'losses': tensor(0.3242, device='cuda:0'), 'sparsity_losses': tensor(0.1975, device='cuda:0'), 'reconstruction_losses': tensor(0.1268, device='cuda:0')}\n",
      "val loss info\n",
      "{'losses': tensor(0.3233, device='cuda:0'), 'sparsity_losses': tensor(0.1970, device='cuda:0'), 'reconstruction_losses': tensor(0.1263, device='cuda:0')}\n",
      "------\n"
     ]
    },
    {
     "name": "stderr",
     "output_type": "stream",
     "text": [
      " 23%|██▎       | 34503/150000 [32:55<3:50:18,  8.36it/s]"
     ]
    },
    {
     "name": "stdout",
     "output_type": "stream",
     "text": [
      "train loss info\n",
      "{'losses': tensor(0.3231, device='cuda:0'), 'sparsity_losses': tensor(0.1973, device='cuda:0'), 'reconstruction_losses': tensor(0.1258, device='cuda:0')}\n",
      "val loss info\n",
      "{'losses': tensor(0.3227, device='cuda:0'), 'sparsity_losses': tensor(0.1970, device='cuda:0'), 'reconstruction_losses': tensor(0.1258, device='cuda:0')}\n",
      "------\n"
     ]
    },
    {
     "name": "stderr",
     "output_type": "stream",
     "text": [
      " 23%|██▎       | 35003/150000 [33:23<3:49:05,  8.37it/s]"
     ]
    },
    {
     "name": "stdout",
     "output_type": "stream",
     "text": [
      "train loss info\n",
      "{'losses': tensor(0.3213, device='cuda:0'), 'sparsity_losses': tensor(0.1963, device='cuda:0'), 'reconstruction_losses': tensor(0.1250, device='cuda:0')}\n",
      "val loss info\n",
      "{'losses': tensor(0.3214, device='cuda:0'), 'sparsity_losses': tensor(0.1963, device='cuda:0'), 'reconstruction_losses': tensor(0.1251, device='cuda:0')}\n",
      "------\n"
     ]
    },
    {
     "name": "stderr",
     "output_type": "stream",
     "text": [
      " 24%|██▎       | 35503/150000 [33:52<3:54:30,  8.14it/s]"
     ]
    },
    {
     "name": "stdout",
     "output_type": "stream",
     "text": [
      "train loss info\n",
      "{'losses': tensor(0.3199, device='cuda:0'), 'sparsity_losses': tensor(0.1954, device='cuda:0'), 'reconstruction_losses': tensor(0.1245, device='cuda:0')}\n",
      "val loss info\n",
      "{'losses': tensor(0.3205, device='cuda:0'), 'sparsity_losses': tensor(0.1959, device='cuda:0'), 'reconstruction_losses': tensor(0.1246, device='cuda:0')}\n",
      "------\n"
     ]
    },
    {
     "name": "stderr",
     "output_type": "stream",
     "text": [
      " 24%|██▍       | 36003/150000 [34:19<4:02:29,  7.83it/s]"
     ]
    },
    {
     "name": "stdout",
     "output_type": "stream",
     "text": [
      "train loss info\n",
      "{'losses': tensor(0.3194, device='cuda:0'), 'sparsity_losses': tensor(0.1942, device='cuda:0'), 'reconstruction_losses': tensor(0.1252, device='cuda:0')}\n",
      "val loss info\n",
      "{'losses': tensor(0.3198, device='cuda:0'), 'sparsity_losses': tensor(0.1947, device='cuda:0'), 'reconstruction_losses': tensor(0.1251, device='cuda:0')}\n",
      "------\n"
     ]
    },
    {
     "name": "stderr",
     "output_type": "stream",
     "text": [
      " 24%|██▍       | 36503/150000 [34:48<3:44:25,  8.43it/s]"
     ]
    },
    {
     "name": "stdout",
     "output_type": "stream",
     "text": [
      "train loss info\n",
      "{'losses': tensor(0.3191, device='cuda:0'), 'sparsity_losses': tensor(0.1944, device='cuda:0'), 'reconstruction_losses': tensor(0.1247, device='cuda:0')}\n",
      "val loss info\n",
      "{'losses': tensor(0.3190, device='cuda:0'), 'sparsity_losses': tensor(0.1940, device='cuda:0'), 'reconstruction_losses': tensor(0.1250, device='cuda:0')}\n",
      "------\n"
     ]
    },
    {
     "name": "stderr",
     "output_type": "stream",
     "text": [
      " 25%|██▍       | 37003/150000 [35:16<3:54:06,  8.04it/s]"
     ]
    },
    {
     "name": "stdout",
     "output_type": "stream",
     "text": [
      "train loss info\n",
      "{'losses': tensor(0.3186, device='cuda:0'), 'sparsity_losses': tensor(0.1942, device='cuda:0'), 'reconstruction_losses': tensor(0.1244, device='cuda:0')}\n",
      "val loss info\n",
      "{'losses': tensor(0.3189, device='cuda:0'), 'sparsity_losses': tensor(0.1939, device='cuda:0'), 'reconstruction_losses': tensor(0.1250, device='cuda:0')}\n",
      "------\n"
     ]
    },
    {
     "name": "stderr",
     "output_type": "stream",
     "text": [
      " 25%|██▌       | 37503/150000 [35:44<3:42:16,  8.44it/s]"
     ]
    },
    {
     "name": "stdout",
     "output_type": "stream",
     "text": [
      "train loss info\n",
      "{'losses': tensor(0.3179, device='cuda:0'), 'sparsity_losses': tensor(0.1940, device='cuda:0'), 'reconstruction_losses': tensor(0.1240, device='cuda:0')}\n",
      "val loss info\n",
      "{'losses': tensor(0.3178, device='cuda:0'), 'sparsity_losses': tensor(0.1933, device='cuda:0'), 'reconstruction_losses': tensor(0.1245, device='cuda:0')}\n",
      "------\n"
     ]
    },
    {
     "name": "stderr",
     "output_type": "stream",
     "text": [
      " 25%|██▌       | 38003/150000 [36:12<3:42:15,  8.40it/s]"
     ]
    },
    {
     "name": "stdout",
     "output_type": "stream",
     "text": [
      "train loss info\n",
      "{'losses': tensor(0.3169, device='cuda:0'), 'sparsity_losses': tensor(0.1927, device='cuda:0'), 'reconstruction_losses': tensor(0.1242, device='cuda:0')}\n",
      "val loss info\n",
      "{'losses': tensor(0.3173, device='cuda:0'), 'sparsity_losses': tensor(0.1929, device='cuda:0'), 'reconstruction_losses': tensor(0.1244, device='cuda:0')}\n",
      "------\n"
     ]
    },
    {
     "name": "stderr",
     "output_type": "stream",
     "text": [
      " 26%|██▌       | 38503/150000 [36:40<3:40:16,  8.44it/s]"
     ]
    },
    {
     "name": "stdout",
     "output_type": "stream",
     "text": [
      "train loss info\n",
      "{'losses': tensor(0.3164, device='cuda:0'), 'sparsity_losses': tensor(0.1932, device='cuda:0'), 'reconstruction_losses': tensor(0.1232, device='cuda:0')}\n",
      "val loss info\n",
      "{'losses': tensor(0.3170, device='cuda:0'), 'sparsity_losses': tensor(0.1930, device='cuda:0'), 'reconstruction_losses': tensor(0.1240, device='cuda:0')}\n",
      "------\n"
     ]
    },
    {
     "name": "stderr",
     "output_type": "stream",
     "text": [
      " 26%|██▌       | 39003/150000 [37:09<3:39:34,  8.43it/s]"
     ]
    },
    {
     "name": "stdout",
     "output_type": "stream",
     "text": [
      "train loss info\n",
      "{'losses': tensor(0.3168, device='cuda:0'), 'sparsity_losses': tensor(0.1924, device='cuda:0'), 'reconstruction_losses': tensor(0.1244, device='cuda:0')}\n",
      "val loss info\n",
      "{'losses': tensor(0.3169, device='cuda:0'), 'sparsity_losses': tensor(0.1925, device='cuda:0'), 'reconstruction_losses': tensor(0.1244, device='cuda:0')}\n",
      "------\n"
     ]
    },
    {
     "name": "stderr",
     "output_type": "stream",
     "text": [
      " 26%|██▋       | 39503/150000 [37:37<3:38:28,  8.43it/s]"
     ]
    },
    {
     "name": "stdout",
     "output_type": "stream",
     "text": [
      "train loss info\n",
      "{'losses': tensor(0.3155, device='cuda:0'), 'sparsity_losses': tensor(0.1920, device='cuda:0'), 'reconstruction_losses': tensor(0.1236, device='cuda:0')}\n",
      "val loss info\n",
      "{'losses': tensor(0.3164, device='cuda:0'), 'sparsity_losses': tensor(0.1920, device='cuda:0'), 'reconstruction_losses': tensor(0.1244, device='cuda:0')}\n",
      "------\n"
     ]
    },
    {
     "name": "stderr",
     "output_type": "stream",
     "text": [
      " 27%|██▋       | 40003/150000 [38:05<3:41:55,  8.26it/s]"
     ]
    },
    {
     "name": "stdout",
     "output_type": "stream",
     "text": [
      "train loss info\n",
      "{'losses': tensor(0.3162, device='cuda:0'), 'sparsity_losses': tensor(0.1922, device='cuda:0'), 'reconstruction_losses': tensor(0.1240, device='cuda:0')}\n",
      "val loss info\n",
      "{'losses': tensor(0.3161, device='cuda:0'), 'sparsity_losses': tensor(0.1921, device='cuda:0'), 'reconstruction_losses': tensor(0.1239, device='cuda:0')}\n",
      "------\n"
     ]
    },
    {
     "name": "stderr",
     "output_type": "stream",
     "text": [
      " 27%|██▋       | 40503/150000 [38:34<3:49:49,  7.94it/s]"
     ]
    },
    {
     "name": "stdout",
     "output_type": "stream",
     "text": [
      "train loss info\n",
      "{'losses': tensor(0.3152, device='cuda:0'), 'sparsity_losses': tensor(0.1912, device='cuda:0'), 'reconstruction_losses': tensor(0.1240, device='cuda:0')}\n",
      "val loss info\n",
      "{'losses': tensor(0.3161, device='cuda:0'), 'sparsity_losses': tensor(0.1919, device='cuda:0'), 'reconstruction_losses': tensor(0.1242, device='cuda:0')}\n",
      "------\n"
     ]
    },
    {
     "name": "stderr",
     "output_type": "stream",
     "text": [
      " 27%|██▋       | 41003/150000 [39:01<3:35:12,  8.44it/s]"
     ]
    },
    {
     "name": "stdout",
     "output_type": "stream",
     "text": [
      "train loss info\n",
      "{'losses': tensor(0.3153, device='cuda:0'), 'sparsity_losses': tensor(0.1913, device='cuda:0'), 'reconstruction_losses': tensor(0.1241, device='cuda:0')}\n",
      "val loss info\n",
      "{'losses': tensor(0.3143, device='cuda:0'), 'sparsity_losses': tensor(0.1906, device='cuda:0'), 'reconstruction_losses': tensor(0.1237, device='cuda:0')}\n",
      "------\n"
     ]
    },
    {
     "name": "stderr",
     "output_type": "stream",
     "text": [
      " 28%|██▊       | 41503/150000 [39:29<3:41:05,  8.18it/s]"
     ]
    },
    {
     "name": "stdout",
     "output_type": "stream",
     "text": [
      "train loss info\n",
      "{'losses': tensor(0.3149, device='cuda:0'), 'sparsity_losses': tensor(0.1902, device='cuda:0'), 'reconstruction_losses': tensor(0.1248, device='cuda:0')}\n",
      "val loss info\n",
      "{'losses': tensor(0.3153, device='cuda:0'), 'sparsity_losses': tensor(0.1909, device='cuda:0'), 'reconstruction_losses': tensor(0.1244, device='cuda:0')}\n",
      "------\n"
     ]
    },
    {
     "name": "stderr",
     "output_type": "stream",
     "text": [
      " 28%|██▊       | 42003/150000 [39:57<3:33:22,  8.44it/s]"
     ]
    },
    {
     "name": "stdout",
     "output_type": "stream",
     "text": [
      "train loss info\n",
      "{'losses': tensor(0.3140, device='cuda:0'), 'sparsity_losses': tensor(0.1902, device='cuda:0'), 'reconstruction_losses': tensor(0.1238, device='cuda:0')}\n",
      "val loss info\n",
      "{'losses': tensor(0.3141, device='cuda:0'), 'sparsity_losses': tensor(0.1900, device='cuda:0'), 'reconstruction_losses': tensor(0.1241, device='cuda:0')}\n",
      "------\n"
     ]
    },
    {
     "name": "stderr",
     "output_type": "stream",
     "text": [
      " 28%|██▊       | 42503/150000 [40:25<3:48:32,  7.84it/s]"
     ]
    },
    {
     "name": "stdout",
     "output_type": "stream",
     "text": [
      "train loss info\n",
      "{'losses': tensor(0.3142, device='cuda:0'), 'sparsity_losses': tensor(0.1898, device='cuda:0'), 'reconstruction_losses': tensor(0.1243, device='cuda:0')}\n",
      "val loss info\n",
      "{'losses': tensor(0.3143, device='cuda:0'), 'sparsity_losses': tensor(0.1899, device='cuda:0'), 'reconstruction_losses': tensor(0.1244, device='cuda:0')}\n",
      "------\n"
     ]
    },
    {
     "name": "stderr",
     "output_type": "stream",
     "text": [
      " 29%|██▊       | 43003/150000 [40:53<3:49:23,  7.77it/s]"
     ]
    },
    {
     "name": "stdout",
     "output_type": "stream",
     "text": [
      "train loss info\n",
      "{'losses': tensor(0.3136, device='cuda:0'), 'sparsity_losses': tensor(0.1900, device='cuda:0'), 'reconstruction_losses': tensor(0.1236, device='cuda:0')}\n",
      "val loss info\n",
      "{'losses': tensor(0.3140, device='cuda:0'), 'sparsity_losses': tensor(0.1899, device='cuda:0'), 'reconstruction_losses': tensor(0.1242, device='cuda:0')}\n",
      "------\n"
     ]
    },
    {
     "name": "stderr",
     "output_type": "stream",
     "text": [
      " 29%|██▉       | 43503/150000 [41:21<3:30:31,  8.43it/s]"
     ]
    },
    {
     "name": "stdout",
     "output_type": "stream",
     "text": [
      "train loss info\n",
      "{'losses': tensor(0.3136, device='cuda:0'), 'sparsity_losses': tensor(0.1894, device='cuda:0'), 'reconstruction_losses': tensor(0.1243, device='cuda:0')}\n",
      "val loss info\n",
      "{'losses': tensor(0.3127, device='cuda:0'), 'sparsity_losses': tensor(0.1888, device='cuda:0'), 'reconstruction_losses': tensor(0.1238, device='cuda:0')}\n",
      "------\n"
     ]
    },
    {
     "name": "stderr",
     "output_type": "stream",
     "text": [
      " 29%|██▉       | 44003/150000 [41:49<3:49:04,  7.71it/s]"
     ]
    },
    {
     "name": "stdout",
     "output_type": "stream",
     "text": [
      "train loss info\n",
      "{'losses': tensor(0.3134, device='cuda:0'), 'sparsity_losses': tensor(0.1891, device='cuda:0'), 'reconstruction_losses': tensor(0.1242, device='cuda:0')}\n",
      "val loss info\n",
      "{'losses': tensor(0.3134, device='cuda:0'), 'sparsity_losses': tensor(0.1890, device='cuda:0'), 'reconstruction_losses': tensor(0.1244, device='cuda:0')}\n",
      "------\n"
     ]
    },
    {
     "name": "stderr",
     "output_type": "stream",
     "text": [
      " 30%|██▉       | 44503/150000 [42:17<3:28:09,  8.45it/s]"
     ]
    },
    {
     "name": "stdout",
     "output_type": "stream",
     "text": [
      "train loss info\n",
      "{'losses': tensor(0.3124, device='cuda:0'), 'sparsity_losses': tensor(0.1886, device='cuda:0'), 'reconstruction_losses': tensor(0.1238, device='cuda:0')}\n",
      "val loss info\n",
      "{'losses': tensor(0.3123, device='cuda:0'), 'sparsity_losses': tensor(0.1885, device='cuda:0'), 'reconstruction_losses': tensor(0.1238, device='cuda:0')}\n",
      "------\n"
     ]
    },
    {
     "name": "stderr",
     "output_type": "stream",
     "text": [
      " 30%|███       | 45003/150000 [42:45<3:32:54,  8.22it/s]"
     ]
    },
    {
     "name": "stdout",
     "output_type": "stream",
     "text": [
      "train loss info\n",
      "{'losses': tensor(0.3112, device='cuda:0'), 'sparsity_losses': tensor(0.1879, device='cuda:0'), 'reconstruction_losses': tensor(0.1232, device='cuda:0')}\n",
      "val loss info\n",
      "{'losses': tensor(0.3128, device='cuda:0'), 'sparsity_losses': tensor(0.1886, device='cuda:0'), 'reconstruction_losses': tensor(0.1242, device='cuda:0')}\n",
      "------\n"
     ]
    },
    {
     "name": "stderr",
     "output_type": "stream",
     "text": [
      " 30%|███       | 45503/150000 [43:13<3:26:32,  8.43it/s]"
     ]
    },
    {
     "name": "stdout",
     "output_type": "stream",
     "text": [
      "train loss info\n",
      "{'losses': tensor(0.3123, device='cuda:0'), 'sparsity_losses': tensor(0.1885, device='cuda:0'), 'reconstruction_losses': tensor(0.1238, device='cuda:0')}\n",
      "val loss info\n",
      "{'losses': tensor(0.3127, device='cuda:0'), 'sparsity_losses': tensor(0.1890, device='cuda:0'), 'reconstruction_losses': tensor(0.1237, device='cuda:0')}\n",
      "------\n"
     ]
    },
    {
     "name": "stderr",
     "output_type": "stream",
     "text": [
      " 31%|███       | 46003/150000 [43:41<3:28:18,  8.32it/s]"
     ]
    },
    {
     "name": "stdout",
     "output_type": "stream",
     "text": [
      "train loss info\n",
      "{'losses': tensor(0.3117, device='cuda:0'), 'sparsity_losses': tensor(0.1883, device='cuda:0'), 'reconstruction_losses': tensor(0.1234, device='cuda:0')}\n",
      "val loss info\n",
      "{'losses': tensor(0.3122, device='cuda:0'), 'sparsity_losses': tensor(0.1886, device='cuda:0'), 'reconstruction_losses': tensor(0.1236, device='cuda:0')}\n",
      "------\n"
     ]
    },
    {
     "name": "stderr",
     "output_type": "stream",
     "text": [
      " 31%|███       | 46503/150000 [44:09<3:26:06,  8.37it/s]"
     ]
    },
    {
     "name": "stdout",
     "output_type": "stream",
     "text": [
      "train loss info\n",
      "{'losses': tensor(0.3123, device='cuda:0'), 'sparsity_losses': tensor(0.1886, device='cuda:0'), 'reconstruction_losses': tensor(0.1237, device='cuda:0')}\n",
      "val loss info\n",
      "{'losses': tensor(0.3135, device='cuda:0'), 'sparsity_losses': tensor(0.1888, device='cuda:0'), 'reconstruction_losses': tensor(0.1246, device='cuda:0')}\n",
      "------\n"
     ]
    },
    {
     "name": "stderr",
     "output_type": "stream",
     "text": [
      " 31%|███▏      | 47003/150000 [44:38<3:27:15,  8.28it/s]"
     ]
    },
    {
     "name": "stdout",
     "output_type": "stream",
     "text": [
      "train loss info\n",
      "{'losses': tensor(0.3127, device='cuda:0'), 'sparsity_losses': tensor(0.1883, device='cuda:0'), 'reconstruction_losses': tensor(0.1243, device='cuda:0')}\n",
      "val loss info\n",
      "{'losses': tensor(0.3123, device='cuda:0'), 'sparsity_losses': tensor(0.1880, device='cuda:0'), 'reconstruction_losses': tensor(0.1243, device='cuda:0')}\n",
      "------\n"
     ]
    },
    {
     "name": "stderr",
     "output_type": "stream",
     "text": [
      " 32%|███▏      | 47503/150000 [45:06<3:22:33,  8.43it/s]"
     ]
    },
    {
     "name": "stdout",
     "output_type": "stream",
     "text": [
      "train loss info\n",
      "{'losses': tensor(0.3132, device='cuda:0'), 'sparsity_losses': tensor(0.1883, device='cuda:0'), 'reconstruction_losses': tensor(0.1249, device='cuda:0')}\n",
      "val loss info\n",
      "{'losses': tensor(0.3128, device='cuda:0'), 'sparsity_losses': tensor(0.1879, device='cuda:0'), 'reconstruction_losses': tensor(0.1250, device='cuda:0')}\n",
      "------\n"
     ]
    },
    {
     "name": "stderr",
     "output_type": "stream",
     "text": [
      " 32%|███▏      | 48003/150000 [45:35<3:21:27,  8.44it/s]"
     ]
    },
    {
     "name": "stdout",
     "output_type": "stream",
     "text": [
      "train loss info\n",
      "{'losses': tensor(0.3122, device='cuda:0'), 'sparsity_losses': tensor(0.1878, device='cuda:0'), 'reconstruction_losses': tensor(0.1244, device='cuda:0')}\n",
      "val loss info\n",
      "{'losses': tensor(0.3130, device='cuda:0'), 'sparsity_losses': tensor(0.1893, device='cuda:0'), 'reconstruction_losses': tensor(0.1236, device='cuda:0')}\n",
      "------\n"
     ]
    },
    {
     "name": "stderr",
     "output_type": "stream",
     "text": [
      " 32%|███▏      | 48503/150000 [46:04<3:20:42,  8.43it/s]"
     ]
    },
    {
     "name": "stdout",
     "output_type": "stream",
     "text": [
      "train loss info\n",
      "{'losses': tensor(0.3128, device='cuda:0'), 'sparsity_losses': tensor(0.1882, device='cuda:0'), 'reconstruction_losses': tensor(0.1246, device='cuda:0')}\n",
      "val loss info\n",
      "{'losses': tensor(0.3133, device='cuda:0'), 'sparsity_losses': tensor(0.1883, device='cuda:0'), 'reconstruction_losses': tensor(0.1250, device='cuda:0')}\n",
      "------\n"
     ]
    },
    {
     "name": "stderr",
     "output_type": "stream",
     "text": [
      " 33%|███▎      | 49003/150000 [46:32<3:34:20,  7.85it/s]"
     ]
    },
    {
     "name": "stdout",
     "output_type": "stream",
     "text": [
      "train loss info\n",
      "{'losses': tensor(0.3125, device='cuda:0'), 'sparsity_losses': tensor(0.1877, device='cuda:0'), 'reconstruction_losses': tensor(0.1248, device='cuda:0')}\n",
      "val loss info\n",
      "{'losses': tensor(0.3133, device='cuda:0'), 'sparsity_losses': tensor(0.1882, device='cuda:0'), 'reconstruction_losses': tensor(0.1251, device='cuda:0')}\n",
      "------\n"
     ]
    },
    {
     "name": "stderr",
     "output_type": "stream",
     "text": [
      " 33%|███▎      | 49503/150000 [47:00<3:24:48,  8.18it/s]"
     ]
    },
    {
     "name": "stdout",
     "output_type": "stream",
     "text": [
      "train loss info\n",
      "{'losses': tensor(0.3135, device='cuda:0'), 'sparsity_losses': tensor(0.1888, device='cuda:0'), 'reconstruction_losses': tensor(0.1247, device='cuda:0')}\n",
      "val loss info\n",
      "{'losses': tensor(0.3134, device='cuda:0'), 'sparsity_losses': tensor(0.1881, device='cuda:0'), 'reconstruction_losses': tensor(0.1253, device='cuda:0')}\n",
      "------\n"
     ]
    },
    {
     "name": "stderr",
     "output_type": "stream",
     "text": [
      " 33%|███▎      | 50003/150000 [47:28<3:21:56,  8.25it/s]"
     ]
    },
    {
     "name": "stdout",
     "output_type": "stream",
     "text": [
      "train loss info\n",
      "{'losses': tensor(0.3131, device='cuda:0'), 'sparsity_losses': tensor(0.1885, device='cuda:0'), 'reconstruction_losses': tensor(0.1246, device='cuda:0')}\n",
      "val loss info\n",
      "{'losses': tensor(0.3135, device='cuda:0'), 'sparsity_losses': tensor(0.1882, device='cuda:0'), 'reconstruction_losses': tensor(0.1253, device='cuda:0')}\n",
      "------\n"
     ]
    },
    {
     "name": "stderr",
     "output_type": "stream",
     "text": [
      " 34%|███▎      | 50503/150000 [47:56<3:17:29,  8.40it/s]"
     ]
    },
    {
     "name": "stdout",
     "output_type": "stream",
     "text": [
      "train loss info\n",
      "{'losses': tensor(0.3137, device='cuda:0'), 'sparsity_losses': tensor(0.1880, device='cuda:0'), 'reconstruction_losses': tensor(0.1258, device='cuda:0')}\n",
      "val loss info\n",
      "{'losses': tensor(0.3132, device='cuda:0'), 'sparsity_losses': tensor(0.1877, device='cuda:0'), 'reconstruction_losses': tensor(0.1256, device='cuda:0')}\n",
      "------\n"
     ]
    },
    {
     "name": "stderr",
     "output_type": "stream",
     "text": [
      " 34%|███▍      | 51003/150000 [48:24<3:31:09,  7.81it/s]"
     ]
    },
    {
     "name": "stdout",
     "output_type": "stream",
     "text": [
      "train loss info\n",
      "{'losses': tensor(0.3130, device='cuda:0'), 'sparsity_losses': tensor(0.1878, device='cuda:0'), 'reconstruction_losses': tensor(0.1251, device='cuda:0')}\n",
      "val loss info\n",
      "{'losses': tensor(0.3136, device='cuda:0'), 'sparsity_losses': tensor(0.1878, device='cuda:0'), 'reconstruction_losses': tensor(0.1258, device='cuda:0')}\n",
      "------\n"
     ]
    },
    {
     "name": "stderr",
     "output_type": "stream",
     "text": [
      " 34%|███▍      | 51503/150000 [48:52<3:14:42,  8.43it/s]"
     ]
    },
    {
     "name": "stdout",
     "output_type": "stream",
     "text": [
      "train loss info\n",
      "{'losses': tensor(0.3136, device='cuda:0'), 'sparsity_losses': tensor(0.1876, device='cuda:0'), 'reconstruction_losses': tensor(0.1260, device='cuda:0')}\n",
      "val loss info\n",
      "{'losses': tensor(0.3130, device='cuda:0'), 'sparsity_losses': tensor(0.1873, device='cuda:0'), 'reconstruction_losses': tensor(0.1257, device='cuda:0')}\n",
      "------\n"
     ]
    },
    {
     "name": "stderr",
     "output_type": "stream",
     "text": [
      " 35%|███▍      | 52003/150000 [49:20<3:14:07,  8.41it/s]"
     ]
    },
    {
     "name": "stdout",
     "output_type": "stream",
     "text": [
      "train loss info\n",
      "{'losses': tensor(0.3125, device='cuda:0'), 'sparsity_losses': tensor(0.1869, device='cuda:0'), 'reconstruction_losses': tensor(0.1255, device='cuda:0')}\n",
      "val loss info\n",
      "{'losses': tensor(0.3128, device='cuda:0'), 'sparsity_losses': tensor(0.1873, device='cuda:0'), 'reconstruction_losses': tensor(0.1255, device='cuda:0')}\n",
      "------\n"
     ]
    },
    {
     "name": "stderr",
     "output_type": "stream",
     "text": [
      " 35%|███▌      | 52503/150000 [49:48<3:13:18,  8.41it/s]"
     ]
    },
    {
     "name": "stdout",
     "output_type": "stream",
     "text": [
      "train loss info\n",
      "{'losses': tensor(0.3136, device='cuda:0'), 'sparsity_losses': tensor(0.1872, device='cuda:0'), 'reconstruction_losses': tensor(0.1264, device='cuda:0')}\n",
      "val loss info\n",
      "{'losses': tensor(0.3139, device='cuda:0'), 'sparsity_losses': tensor(0.1867, device='cuda:0'), 'reconstruction_losses': tensor(0.1272, device='cuda:0')}\n",
      "------\n"
     ]
    },
    {
     "name": "stderr",
     "output_type": "stream",
     "text": [
      " 35%|███▌      | 53003/150000 [50:17<3:18:46,  8.13it/s]"
     ]
    },
    {
     "name": "stdout",
     "output_type": "stream",
     "text": [
      "train loss info\n",
      "{'losses': tensor(0.3120, device='cuda:0'), 'sparsity_losses': tensor(0.1864, device='cuda:0'), 'reconstruction_losses': tensor(0.1256, device='cuda:0')}\n",
      "val loss info\n",
      "{'losses': tensor(0.3133, device='cuda:0'), 'sparsity_losses': tensor(0.1865, device='cuda:0'), 'reconstruction_losses': tensor(0.1268, device='cuda:0')}\n",
      "------\n"
     ]
    },
    {
     "name": "stderr",
     "output_type": "stream",
     "text": [
      " 36%|███▌      | 53503/150000 [50:44<3:21:43,  7.97it/s]"
     ]
    },
    {
     "name": "stdout",
     "output_type": "stream",
     "text": [
      "train loss info\n",
      "{'losses': tensor(0.3132, device='cuda:0'), 'sparsity_losses': tensor(0.1877, device='cuda:0'), 'reconstruction_losses': tensor(0.1256, device='cuda:0')}\n",
      "val loss info\n",
      "{'losses': tensor(0.3130, device='cuda:0'), 'sparsity_losses': tensor(0.1879, device='cuda:0'), 'reconstruction_losses': tensor(0.1251, device='cuda:0')}\n",
      "------\n"
     ]
    },
    {
     "name": "stderr",
     "output_type": "stream",
     "text": [
      " 36%|███▌      | 54003/150000 [51:12<3:09:47,  8.43it/s]"
     ]
    },
    {
     "name": "stdout",
     "output_type": "stream",
     "text": [
      "train loss info\n",
      "{'losses': tensor(0.3133, device='cuda:0'), 'sparsity_losses': tensor(0.1870, device='cuda:0'), 'reconstruction_losses': tensor(0.1262, device='cuda:0')}\n",
      "val loss info\n",
      "{'losses': tensor(0.3131, device='cuda:0'), 'sparsity_losses': tensor(0.1868, device='cuda:0'), 'reconstruction_losses': tensor(0.1263, device='cuda:0')}\n",
      "------\n"
     ]
    },
    {
     "name": "stderr",
     "output_type": "stream",
     "text": [
      " 36%|███▋      | 54503/150000 [51:40<3:08:57,  8.42it/s]"
     ]
    },
    {
     "name": "stdout",
     "output_type": "stream",
     "text": [
      "train loss info\n",
      "{'losses': tensor(0.3142, device='cuda:0'), 'sparsity_losses': tensor(0.1878, device='cuda:0'), 'reconstruction_losses': tensor(0.1264, device='cuda:0')}\n",
      "val loss info\n",
      "{'losses': tensor(0.3134, device='cuda:0'), 'sparsity_losses': tensor(0.1874, device='cuda:0'), 'reconstruction_losses': tensor(0.1260, device='cuda:0')}\n",
      "------\n"
     ]
    },
    {
     "name": "stderr",
     "output_type": "stream",
     "text": [
      " 37%|███▋      | 55003/150000 [52:09<3:07:49,  8.43it/s]"
     ]
    },
    {
     "name": "stdout",
     "output_type": "stream",
     "text": [
      "train loss info\n",
      "{'losses': tensor(0.3142, device='cuda:0'), 'sparsity_losses': tensor(0.1875, device='cuda:0'), 'reconstruction_losses': tensor(0.1267, device='cuda:0')}\n",
      "val loss info\n",
      "{'losses': tensor(0.3134, device='cuda:0'), 'sparsity_losses': tensor(0.1874, device='cuda:0'), 'reconstruction_losses': tensor(0.1259, device='cuda:0')}\n",
      "------\n"
     ]
    },
    {
     "name": "stderr",
     "output_type": "stream",
     "text": [
      " 37%|███▋      | 55503/150000 [52:37<3:06:54,  8.43it/s]"
     ]
    },
    {
     "name": "stdout",
     "output_type": "stream",
     "text": [
      "train loss info\n",
      "{'losses': tensor(0.3139, device='cuda:0'), 'sparsity_losses': tensor(0.1877, device='cuda:0'), 'reconstruction_losses': tensor(0.1262, device='cuda:0')}\n",
      "val loss info\n",
      "{'losses': tensor(0.3136, device='cuda:0'), 'sparsity_losses': tensor(0.1869, device='cuda:0'), 'reconstruction_losses': tensor(0.1268, device='cuda:0')}\n",
      "------\n"
     ]
    },
    {
     "name": "stderr",
     "output_type": "stream",
     "text": [
      " 37%|███▋      | 56003/150000 [53:05<3:36:59,  7.22it/s]"
     ]
    },
    {
     "name": "stdout",
     "output_type": "stream",
     "text": [
      "train loss info\n",
      "{'losses': tensor(0.3145, device='cuda:0'), 'sparsity_losses': tensor(0.1888, device='cuda:0'), 'reconstruction_losses': tensor(0.1258, device='cuda:0')}\n",
      "val loss info\n",
      "{'losses': tensor(0.3142, device='cuda:0'), 'sparsity_losses': tensor(0.1874, device='cuda:0'), 'reconstruction_losses': tensor(0.1268, device='cuda:0')}\n",
      "------\n"
     ]
    },
    {
     "name": "stderr",
     "output_type": "stream",
     "text": [
      " 38%|███▊      | 56503/150000 [53:33<3:05:28,  8.40it/s]"
     ]
    },
    {
     "name": "stdout",
     "output_type": "stream",
     "text": [
      "train loss info\n",
      "{'losses': tensor(0.3143, device='cuda:0'), 'sparsity_losses': tensor(0.1875, device='cuda:0'), 'reconstruction_losses': tensor(0.1268, device='cuda:0')}\n",
      "val loss info\n",
      "{'losses': tensor(0.3143, device='cuda:0'), 'sparsity_losses': tensor(0.1867, device='cuda:0'), 'reconstruction_losses': tensor(0.1276, device='cuda:0')}\n",
      "------\n"
     ]
    },
    {
     "name": "stderr",
     "output_type": "stream",
     "text": [
      " 38%|███▊      | 57003/150000 [54:01<3:03:53,  8.43it/s]"
     ]
    },
    {
     "name": "stdout",
     "output_type": "stream",
     "text": [
      "train loss info\n",
      "{'losses': tensor(0.3144, device='cuda:0'), 'sparsity_losses': tensor(0.1877, device='cuda:0'), 'reconstruction_losses': tensor(0.1268, device='cuda:0')}\n",
      "val loss info\n",
      "{'losses': tensor(0.3144, device='cuda:0'), 'sparsity_losses': tensor(0.1869, device='cuda:0'), 'reconstruction_losses': tensor(0.1275, device='cuda:0')}\n",
      "------\n"
     ]
    },
    {
     "name": "stderr",
     "output_type": "stream",
     "text": [
      " 38%|███▊      | 57503/150000 [54:29<3:02:40,  8.44it/s]"
     ]
    },
    {
     "name": "stdout",
     "output_type": "stream",
     "text": [
      "train loss info\n",
      "{'losses': tensor(0.3145, device='cuda:0'), 'sparsity_losses': tensor(0.1873, device='cuda:0'), 'reconstruction_losses': tensor(0.1272, device='cuda:0')}\n",
      "val loss info\n",
      "{'losses': tensor(0.3149, device='cuda:0'), 'sparsity_losses': tensor(0.1873, device='cuda:0'), 'reconstruction_losses': tensor(0.1276, device='cuda:0')}\n",
      "------\n"
     ]
    },
    {
     "name": "stderr",
     "output_type": "stream",
     "text": [
      " 39%|███▊      | 58003/150000 [54:58<3:02:00,  8.42it/s]"
     ]
    },
    {
     "name": "stdout",
     "output_type": "stream",
     "text": [
      "train loss info\n",
      "{'losses': tensor(0.3137, device='cuda:0'), 'sparsity_losses': tensor(0.1862, device='cuda:0'), 'reconstruction_losses': tensor(0.1276, device='cuda:0')}\n",
      "val loss info\n",
      "{'losses': tensor(0.3145, device='cuda:0'), 'sparsity_losses': tensor(0.1868, device='cuda:0'), 'reconstruction_losses': tensor(0.1277, device='cuda:0')}\n",
      "------\n"
     ]
    },
    {
     "name": "stderr",
     "output_type": "stream",
     "text": [
      " 39%|███▉      | 58503/150000 [55:26<3:02:03,  8.38it/s]"
     ]
    },
    {
     "name": "stdout",
     "output_type": "stream",
     "text": [
      "train loss info\n",
      "{'losses': tensor(0.3138, device='cuda:0'), 'sparsity_losses': tensor(0.1872, device='cuda:0'), 'reconstruction_losses': tensor(0.1267, device='cuda:0')}\n",
      "val loss info\n",
      "{'losses': tensor(0.3137, device='cuda:0'), 'sparsity_losses': tensor(0.1866, device='cuda:0'), 'reconstruction_losses': tensor(0.1271, device='cuda:0')}\n",
      "------\n"
     ]
    },
    {
     "name": "stderr",
     "output_type": "stream",
     "text": [
      " 39%|███▉      | 59003/150000 [55:54<3:03:17,  8.27it/s]"
     ]
    },
    {
     "name": "stdout",
     "output_type": "stream",
     "text": [
      "train loss info\n",
      "{'losses': tensor(0.3134, device='cuda:0'), 'sparsity_losses': tensor(0.1863, device='cuda:0'), 'reconstruction_losses': tensor(0.1271, device='cuda:0')}\n",
      "val loss info\n",
      "{'losses': tensor(0.3137, device='cuda:0'), 'sparsity_losses': tensor(0.1860, device='cuda:0'), 'reconstruction_losses': tensor(0.1277, device='cuda:0')}\n",
      "------\n"
     ]
    },
    {
     "name": "stderr",
     "output_type": "stream",
     "text": [
      " 40%|███▉      | 59503/150000 [56:23<2:59:00,  8.43it/s]"
     ]
    },
    {
     "name": "stdout",
     "output_type": "stream",
     "text": [
      "train loss info\n",
      "{'losses': tensor(0.3138, device='cuda:0'), 'sparsity_losses': tensor(0.1864, device='cuda:0'), 'reconstruction_losses': tensor(0.1274, device='cuda:0')}\n",
      "val loss info\n",
      "{'losses': tensor(0.3126, device='cuda:0'), 'sparsity_losses': tensor(0.1861, device='cuda:0'), 'reconstruction_losses': tensor(0.1266, device='cuda:0')}\n",
      "------\n"
     ]
    },
    {
     "name": "stderr",
     "output_type": "stream",
     "text": [
      " 40%|████      | 60003/150000 [56:51<3:04:13,  8.14it/s]"
     ]
    },
    {
     "name": "stdout",
     "output_type": "stream",
     "text": [
      "train loss info\n",
      "{'losses': tensor(0.3125, device='cuda:0'), 'sparsity_losses': tensor(0.1851, device='cuda:0'), 'reconstruction_losses': tensor(0.1275, device='cuda:0')}\n",
      "val loss info\n",
      "{'losses': tensor(0.3137, device='cuda:0'), 'sparsity_losses': tensor(0.1865, device='cuda:0'), 'reconstruction_losses': tensor(0.1272, device='cuda:0')}\n",
      "------\n"
     ]
    },
    {
     "name": "stderr",
     "output_type": "stream",
     "text": [
      " 40%|████      | 60503/150000 [57:19<2:56:59,  8.43it/s]"
     ]
    },
    {
     "name": "stdout",
     "output_type": "stream",
     "text": [
      "train loss info\n",
      "{'losses': tensor(0.3119, device='cuda:0'), 'sparsity_losses': tensor(0.1848, device='cuda:0'), 'reconstruction_losses': tensor(0.1271, device='cuda:0')}\n",
      "val loss info\n",
      "{'losses': tensor(0.3129, device='cuda:0'), 'sparsity_losses': tensor(0.1860, device='cuda:0'), 'reconstruction_losses': tensor(0.1269, device='cuda:0')}\n",
      "------\n"
     ]
    },
    {
     "name": "stderr",
     "output_type": "stream",
     "text": [
      " 41%|████      | 61003/150000 [57:48<3:03:01,  8.10it/s]"
     ]
    },
    {
     "name": "stdout",
     "output_type": "stream",
     "text": [
      "train loss info\n",
      "{'losses': tensor(0.3110, device='cuda:0'), 'sparsity_losses': tensor(0.1846, device='cuda:0'), 'reconstruction_losses': tensor(0.1264, device='cuda:0')}\n",
      "val loss info\n",
      "{'losses': tensor(0.3111, device='cuda:0'), 'sparsity_losses': tensor(0.1847, device='cuda:0'), 'reconstruction_losses': tensor(0.1264, device='cuda:0')}\n",
      "------\n"
     ]
    },
    {
     "name": "stderr",
     "output_type": "stream",
     "text": [
      " 41%|████      | 61503/150000 [58:16<2:55:15,  8.42it/s]"
     ]
    },
    {
     "name": "stdout",
     "output_type": "stream",
     "text": [
      "train loss info\n",
      "{'losses': tensor(0.3115, device='cuda:0'), 'sparsity_losses': tensor(0.1846, device='cuda:0'), 'reconstruction_losses': tensor(0.1269, device='cuda:0')}\n",
      "val loss info\n",
      "{'losses': tensor(0.3118, device='cuda:0'), 'sparsity_losses': tensor(0.1846, device='cuda:0'), 'reconstruction_losses': tensor(0.1272, device='cuda:0')}\n",
      "------\n"
     ]
    },
    {
     "name": "stderr",
     "output_type": "stream",
     "text": [
      " 41%|████▏     | 62003/150000 [58:45<2:54:40,  8.40it/s]"
     ]
    },
    {
     "name": "stdout",
     "output_type": "stream",
     "text": [
      "train loss info\n",
      "{'losses': tensor(0.3123, device='cuda:0'), 'sparsity_losses': tensor(0.1846, device='cuda:0'), 'reconstruction_losses': tensor(0.1277, device='cuda:0')}\n",
      "val loss info\n",
      "{'losses': tensor(0.3109, device='cuda:0'), 'sparsity_losses': tensor(0.1842, device='cuda:0'), 'reconstruction_losses': tensor(0.1267, device='cuda:0')}\n",
      "------\n"
     ]
    },
    {
     "name": "stderr",
     "output_type": "stream",
     "text": [
      " 42%|████▏     | 62503/150000 [59:13<2:52:48,  8.44it/s]"
     ]
    },
    {
     "name": "stdout",
     "output_type": "stream",
     "text": [
      "train loss info\n",
      "{'losses': tensor(0.3113, device='cuda:0'), 'sparsity_losses': tensor(0.1843, device='cuda:0'), 'reconstruction_losses': tensor(0.1271, device='cuda:0')}\n",
      "val loss info\n",
      "{'losses': tensor(0.3112, device='cuda:0'), 'sparsity_losses': tensor(0.1840, device='cuda:0'), 'reconstruction_losses': tensor(0.1272, device='cuda:0')}\n",
      "------\n"
     ]
    },
    {
     "name": "stderr",
     "output_type": "stream",
     "text": [
      " 42%|████▏     | 63003/150000 [59:41<2:51:42,  8.44it/s]"
     ]
    },
    {
     "name": "stdout",
     "output_type": "stream",
     "text": [
      "train loss info\n",
      "{'losses': tensor(0.3113, device='cuda:0'), 'sparsity_losses': tensor(0.1849, device='cuda:0'), 'reconstruction_losses': tensor(0.1264, device='cuda:0')}\n",
      "val loss info\n",
      "{'losses': tensor(0.3117, device='cuda:0'), 'sparsity_losses': tensor(0.1851, device='cuda:0'), 'reconstruction_losses': tensor(0.1266, device='cuda:0')}\n",
      "------\n"
     ]
    },
    {
     "name": "stderr",
     "output_type": "stream",
     "text": [
      " 42%|████▏     | 63503/150000 [1:00:09<2:57:32,  8.12it/s]"
     ]
    },
    {
     "name": "stdout",
     "output_type": "stream",
     "text": [
      "train loss info\n",
      "{'losses': tensor(0.3109, device='cuda:0'), 'sparsity_losses': tensor(0.1836, device='cuda:0'), 'reconstruction_losses': tensor(0.1273, device='cuda:0')}\n",
      "val loss info\n",
      "{'losses': tensor(0.3112, device='cuda:0'), 'sparsity_losses': tensor(0.1848, device='cuda:0'), 'reconstruction_losses': tensor(0.1263, device='cuda:0')}\n",
      "------\n"
     ]
    },
    {
     "name": "stderr",
     "output_type": "stream",
     "text": [
      " 43%|████▎     | 64003/150000 [1:00:38<2:50:13,  8.42it/s]"
     ]
    },
    {
     "name": "stdout",
     "output_type": "stream",
     "text": [
      "train loss info\n",
      "{'losses': tensor(0.3101, device='cuda:0'), 'sparsity_losses': tensor(0.1831, device='cuda:0'), 'reconstruction_losses': tensor(0.1269, device='cuda:0')}\n",
      "val loss info\n",
      "{'losses': tensor(0.3112, device='cuda:0'), 'sparsity_losses': tensor(0.1843, device='cuda:0'), 'reconstruction_losses': tensor(0.1268, device='cuda:0')}\n",
      "------\n"
     ]
    },
    {
     "name": "stderr",
     "output_type": "stream",
     "text": [
      " 43%|████▎     | 64503/150000 [1:01:06<2:48:58,  8.43it/s]"
     ]
    },
    {
     "name": "stdout",
     "output_type": "stream",
     "text": [
      "train loss info\n",
      "{'losses': tensor(0.3108, device='cuda:0'), 'sparsity_losses': tensor(0.1845, device='cuda:0'), 'reconstruction_losses': tensor(0.1263, device='cuda:0')}\n",
      "val loss info\n",
      "{'losses': tensor(0.3099, device='cuda:0'), 'sparsity_losses': tensor(0.1838, device='cuda:0'), 'reconstruction_losses': tensor(0.1261, device='cuda:0')}\n",
      "------\n"
     ]
    },
    {
     "name": "stderr",
     "output_type": "stream",
     "text": [
      " 43%|████▎     | 65003/150000 [1:01:34<2:58:54,  7.92it/s]"
     ]
    },
    {
     "name": "stdout",
     "output_type": "stream",
     "text": [
      "train loss info\n",
      "{'losses': tensor(0.3101, device='cuda:0'), 'sparsity_losses': tensor(0.1832, device='cuda:0'), 'reconstruction_losses': tensor(0.1269, device='cuda:0')}\n",
      "val loss info\n",
      "{'losses': tensor(0.3117, device='cuda:0'), 'sparsity_losses': tensor(0.1844, device='cuda:0'), 'reconstruction_losses': tensor(0.1274, device='cuda:0')}\n",
      "------\n"
     ]
    },
    {
     "name": "stderr",
     "output_type": "stream",
     "text": [
      " 44%|████▎     | 65503/150000 [1:02:03<3:00:46,  7.79it/s]"
     ]
    },
    {
     "name": "stdout",
     "output_type": "stream",
     "text": [
      "train loss info\n",
      "{'losses': tensor(0.3114, device='cuda:0'), 'sparsity_losses': tensor(0.1853, device='cuda:0'), 'reconstruction_losses': tensor(0.1262, device='cuda:0')}\n",
      "val loss info\n",
      "{'losses': tensor(0.3112, device='cuda:0'), 'sparsity_losses': tensor(0.1846, device='cuda:0'), 'reconstruction_losses': tensor(0.1266, device='cuda:0')}\n",
      "------\n"
     ]
    },
    {
     "name": "stderr",
     "output_type": "stream",
     "text": [
      " 44%|████▍     | 66003/150000 [1:02:31<2:46:34,  8.40it/s]"
     ]
    },
    {
     "name": "stdout",
     "output_type": "stream",
     "text": [
      "train loss info\n",
      "{'losses': tensor(0.3099, device='cuda:0'), 'sparsity_losses': tensor(0.1839, device='cuda:0'), 'reconstruction_losses': tensor(0.1260, device='cuda:0')}\n",
      "val loss info\n",
      "{'losses': tensor(0.3120, device='cuda:0'), 'sparsity_losses': tensor(0.1851, device='cuda:0'), 'reconstruction_losses': tensor(0.1270, device='cuda:0')}\n",
      "------\n"
     ]
    },
    {
     "name": "stderr",
     "output_type": "stream",
     "text": [
      " 44%|████▍     | 66503/150000 [1:02:59<2:52:11,  8.08it/s]"
     ]
    },
    {
     "name": "stdout",
     "output_type": "stream",
     "text": [
      "train loss info\n",
      "{'losses': tensor(0.3103, device='cuda:0'), 'sparsity_losses': tensor(0.1838, device='cuda:0'), 'reconstruction_losses': tensor(0.1265, device='cuda:0')}\n",
      "val loss info\n",
      "{'losses': tensor(0.3116, device='cuda:0'), 'sparsity_losses': tensor(0.1844, device='cuda:0'), 'reconstruction_losses': tensor(0.1272, device='cuda:0')}\n",
      "------\n"
     ]
    },
    {
     "name": "stderr",
     "output_type": "stream",
     "text": [
      " 45%|████▍     | 67003/150000 [1:03:27<2:44:15,  8.42it/s]"
     ]
    },
    {
     "name": "stdout",
     "output_type": "stream",
     "text": [
      "train loss info\n",
      "{'losses': tensor(0.3118, device='cuda:0'), 'sparsity_losses': tensor(0.1849, device='cuda:0'), 'reconstruction_losses': tensor(0.1269, device='cuda:0')}\n",
      "val loss info\n",
      "{'losses': tensor(0.3109, device='cuda:0'), 'sparsity_losses': tensor(0.1846, device='cuda:0'), 'reconstruction_losses': tensor(0.1263, device='cuda:0')}\n",
      "------\n"
     ]
    },
    {
     "name": "stderr",
     "output_type": "stream",
     "text": [
      " 45%|████▌     | 67503/150000 [1:03:55<2:42:49,  8.44it/s]"
     ]
    },
    {
     "name": "stdout",
     "output_type": "stream",
     "text": [
      "train loss info\n",
      "{'losses': tensor(0.3110, device='cuda:0'), 'sparsity_losses': tensor(0.1837, device='cuda:0'), 'reconstruction_losses': tensor(0.1273, device='cuda:0')}\n",
      "val loss info\n",
      "{'losses': tensor(0.3121, device='cuda:0'), 'sparsity_losses': tensor(0.1841, device='cuda:0'), 'reconstruction_losses': tensor(0.1280, device='cuda:0')}\n",
      "------\n"
     ]
    },
    {
     "name": "stderr",
     "output_type": "stream",
     "text": [
      " 45%|████▌     | 68003/150000 [1:04:23<2:42:15,  8.42it/s]"
     ]
    },
    {
     "name": "stdout",
     "output_type": "stream",
     "text": [
      "train loss info\n",
      "{'losses': tensor(0.3111, device='cuda:0'), 'sparsity_losses': tensor(0.1842, device='cuda:0'), 'reconstruction_losses': tensor(0.1269, device='cuda:0')}\n",
      "val loss info\n",
      "{'losses': tensor(0.3117, device='cuda:0'), 'sparsity_losses': tensor(0.1844, device='cuda:0'), 'reconstruction_losses': tensor(0.1274, device='cuda:0')}\n",
      "------\n"
     ]
    },
    {
     "name": "stderr",
     "output_type": "stream",
     "text": [
      " 46%|████▌     | 68503/150000 [1:04:51<2:48:55,  8.04it/s]"
     ]
    },
    {
     "name": "stdout",
     "output_type": "stream",
     "text": [
      "train loss info\n",
      "{'losses': tensor(0.3115, device='cuda:0'), 'sparsity_losses': tensor(0.1843, device='cuda:0'), 'reconstruction_losses': tensor(0.1272, device='cuda:0')}\n",
      "val loss info\n",
      "{'losses': tensor(0.3118, device='cuda:0'), 'sparsity_losses': tensor(0.1845, device='cuda:0'), 'reconstruction_losses': tensor(0.1273, device='cuda:0')}\n",
      "------\n"
     ]
    },
    {
     "name": "stderr",
     "output_type": "stream",
     "text": [
      " 46%|████▌     | 69003/150000 [1:05:20<2:48:02,  8.03it/s]"
     ]
    },
    {
     "name": "stdout",
     "output_type": "stream",
     "text": [
      "train loss info\n",
      "{'losses': tensor(0.3118, device='cuda:0'), 'sparsity_losses': tensor(0.1842, device='cuda:0'), 'reconstruction_losses': tensor(0.1276, device='cuda:0')}\n",
      "val loss info\n",
      "{'losses': tensor(0.3118, device='cuda:0'), 'sparsity_losses': tensor(0.1832, device='cuda:0'), 'reconstruction_losses': tensor(0.1286, device='cuda:0')}\n",
      "------\n"
     ]
    },
    {
     "name": "stderr",
     "output_type": "stream",
     "text": [
      " 46%|████▋     | 69503/150000 [1:05:48<2:40:47,  8.34it/s]"
     ]
    },
    {
     "name": "stdout",
     "output_type": "stream",
     "text": [
      "train loss info\n",
      "{'losses': tensor(0.3118, device='cuda:0'), 'sparsity_losses': tensor(0.1838, device='cuda:0'), 'reconstruction_losses': tensor(0.1279, device='cuda:0')}\n",
      "val loss info\n",
      "{'losses': tensor(0.3126, device='cuda:0'), 'sparsity_losses': tensor(0.1846, device='cuda:0'), 'reconstruction_losses': tensor(0.1280, device='cuda:0')}\n",
      "------\n"
     ]
    },
    {
     "name": "stderr",
     "output_type": "stream",
     "text": [
      " 47%|████▋     | 70003/150000 [1:06:17<2:37:46,  8.45it/s]"
     ]
    },
    {
     "name": "stdout",
     "output_type": "stream",
     "text": [
      "train loss info\n",
      "{'losses': tensor(0.3117, device='cuda:0'), 'sparsity_losses': tensor(0.1841, device='cuda:0'), 'reconstruction_losses': tensor(0.1276, device='cuda:0')}\n",
      "val loss info\n",
      "{'losses': tensor(0.3124, device='cuda:0'), 'sparsity_losses': tensor(0.1841, device='cuda:0'), 'reconstruction_losses': tensor(0.1284, device='cuda:0')}\n",
      "------\n"
     ]
    },
    {
     "name": "stderr",
     "output_type": "stream",
     "text": [
      " 47%|████▋     | 70503/150000 [1:06:46<2:44:21,  8.06it/s]"
     ]
    },
    {
     "name": "stdout",
     "output_type": "stream",
     "text": [
      "train loss info\n",
      "{'losses': tensor(0.3118, device='cuda:0'), 'sparsity_losses': tensor(0.1838, device='cuda:0'), 'reconstruction_losses': tensor(0.1280, device='cuda:0')}\n",
      "val loss info\n",
      "{'losses': tensor(0.3115, device='cuda:0'), 'sparsity_losses': tensor(0.1836, device='cuda:0'), 'reconstruction_losses': tensor(0.1280, device='cuda:0')}\n",
      "------\n"
     ]
    },
    {
     "name": "stderr",
     "output_type": "stream",
     "text": [
      " 47%|████▋     | 71003/150000 [1:07:14<2:38:46,  8.29it/s]"
     ]
    },
    {
     "name": "stdout",
     "output_type": "stream",
     "text": [
      "train loss info\n",
      "{'losses': tensor(0.3118, device='cuda:0'), 'sparsity_losses': tensor(0.1834, device='cuda:0'), 'reconstruction_losses': tensor(0.1284, device='cuda:0')}\n",
      "val loss info\n",
      "{'losses': tensor(0.3120, device='cuda:0'), 'sparsity_losses': tensor(0.1834, device='cuda:0'), 'reconstruction_losses': tensor(0.1285, device='cuda:0')}\n",
      "------\n"
     ]
    },
    {
     "name": "stderr",
     "output_type": "stream",
     "text": [
      " 48%|████▊     | 71503/150000 [1:07:43<2:35:20,  8.42it/s]"
     ]
    },
    {
     "name": "stdout",
     "output_type": "stream",
     "text": [
      "train loss info\n",
      "{'losses': tensor(0.3117, device='cuda:0'), 'sparsity_losses': tensor(0.1831, device='cuda:0'), 'reconstruction_losses': tensor(0.1286, device='cuda:0')}\n",
      "val loss info\n",
      "{'losses': tensor(0.3119, device='cuda:0'), 'sparsity_losses': tensor(0.1836, device='cuda:0'), 'reconstruction_losses': tensor(0.1283, device='cuda:0')}\n",
      "------\n"
     ]
    },
    {
     "name": "stderr",
     "output_type": "stream",
     "text": [
      " 48%|████▊     | 72003/150000 [1:08:11<2:34:18,  8.42it/s]"
     ]
    },
    {
     "name": "stdout",
     "output_type": "stream",
     "text": [
      "train loss info\n",
      "{'losses': tensor(0.3122, device='cuda:0'), 'sparsity_losses': tensor(0.1837, device='cuda:0'), 'reconstruction_losses': tensor(0.1285, device='cuda:0')}\n",
      "val loss info\n",
      "{'losses': tensor(0.3117, device='cuda:0'), 'sparsity_losses': tensor(0.1831, device='cuda:0'), 'reconstruction_losses': tensor(0.1286, device='cuda:0')}\n",
      "------\n"
     ]
    },
    {
     "name": "stderr",
     "output_type": "stream",
     "text": [
      " 48%|████▊     | 72503/150000 [1:08:40<2:33:27,  8.42it/s]"
     ]
    },
    {
     "name": "stdout",
     "output_type": "stream",
     "text": [
      "train loss info\n",
      "{'losses': tensor(0.3116, device='cuda:0'), 'sparsity_losses': tensor(0.1838, device='cuda:0'), 'reconstruction_losses': tensor(0.1278, device='cuda:0')}\n",
      "val loss info\n",
      "{'losses': tensor(0.3122, device='cuda:0'), 'sparsity_losses': tensor(0.1840, device='cuda:0'), 'reconstruction_losses': tensor(0.1282, device='cuda:0')}\n",
      "------\n"
     ]
    },
    {
     "name": "stderr",
     "output_type": "stream",
     "text": [
      " 49%|████▊     | 73003/150000 [1:09:07<2:32:20,  8.42it/s]"
     ]
    },
    {
     "name": "stdout",
     "output_type": "stream",
     "text": [
      "train loss info\n",
      "{'losses': tensor(0.3119, device='cuda:0'), 'sparsity_losses': tensor(0.1836, device='cuda:0'), 'reconstruction_losses': tensor(0.1282, device='cuda:0')}\n",
      "val loss info\n",
      "{'losses': tensor(0.3116, device='cuda:0'), 'sparsity_losses': tensor(0.1832, device='cuda:0'), 'reconstruction_losses': tensor(0.1284, device='cuda:0')}\n",
      "------\n"
     ]
    },
    {
     "name": "stderr",
     "output_type": "stream",
     "text": [
      " 49%|████▉     | 73503/150000 [1:09:36<2:31:28,  8.42it/s]"
     ]
    },
    {
     "name": "stdout",
     "output_type": "stream",
     "text": [
      "train loss info\n",
      "{'losses': tensor(0.3125, device='cuda:0'), 'sparsity_losses': tensor(0.1838, device='cuda:0'), 'reconstruction_losses': tensor(0.1287, device='cuda:0')}\n",
      "val loss info\n",
      "{'losses': tensor(0.3121, device='cuda:0'), 'sparsity_losses': tensor(0.1838, device='cuda:0'), 'reconstruction_losses': tensor(0.1282, device='cuda:0')}\n",
      "------\n"
     ]
    },
    {
     "name": "stderr",
     "output_type": "stream",
     "text": [
      " 49%|████▉     | 74003/150000 [1:10:04<2:30:21,  8.42it/s]"
     ]
    },
    {
     "name": "stdout",
     "output_type": "stream",
     "text": [
      "train loss info\n",
      "{'losses': tensor(0.3132, device='cuda:0'), 'sparsity_losses': tensor(0.1840, device='cuda:0'), 'reconstruction_losses': tensor(0.1293, device='cuda:0')}\n",
      "val loss info\n",
      "{'losses': tensor(0.3121, device='cuda:0'), 'sparsity_losses': tensor(0.1833, device='cuda:0'), 'reconstruction_losses': tensor(0.1288, device='cuda:0')}\n",
      "------\n"
     ]
    },
    {
     "name": "stderr",
     "output_type": "stream",
     "text": [
      " 50%|████▉     | 74503/150000 [1:10:32<2:29:25,  8.42it/s]"
     ]
    },
    {
     "name": "stdout",
     "output_type": "stream",
     "text": [
      "train loss info\n",
      "{'losses': tensor(0.3126, device='cuda:0'), 'sparsity_losses': tensor(0.1828, device='cuda:0'), 'reconstruction_losses': tensor(0.1298, device='cuda:0')}\n",
      "val loss info\n",
      "{'losses': tensor(0.3122, device='cuda:0'), 'sparsity_losses': tensor(0.1833, device='cuda:0'), 'reconstruction_losses': tensor(0.1289, device='cuda:0')}\n",
      "------\n"
     ]
    },
    {
     "name": "stderr",
     "output_type": "stream",
     "text": [
      " 50%|█████     | 75003/150000 [1:11:00<2:37:39,  7.93it/s]"
     ]
    },
    {
     "name": "stdout",
     "output_type": "stream",
     "text": [
      "train loss info\n",
      "{'losses': tensor(0.3123, device='cuda:0'), 'sparsity_losses': tensor(0.1829, device='cuda:0'), 'reconstruction_losses': tensor(0.1294, device='cuda:0')}\n",
      "val loss info\n",
      "{'losses': tensor(0.3132, device='cuda:0'), 'sparsity_losses': tensor(0.1836, device='cuda:0'), 'reconstruction_losses': tensor(0.1297, device='cuda:0')}\n",
      "------\n"
     ]
    },
    {
     "name": "stderr",
     "output_type": "stream",
     "text": [
      " 50%|█████     | 75503/150000 [1:11:28<2:27:26,  8.42it/s]"
     ]
    },
    {
     "name": "stdout",
     "output_type": "stream",
     "text": [
      "train loss info\n",
      "{'losses': tensor(0.3114, device='cuda:0'), 'sparsity_losses': tensor(0.1829, device='cuda:0'), 'reconstruction_losses': tensor(0.1285, device='cuda:0')}\n",
      "val loss info\n",
      "{'losses': tensor(0.3124, device='cuda:0'), 'sparsity_losses': tensor(0.1831, device='cuda:0'), 'reconstruction_losses': tensor(0.1294, device='cuda:0')}\n",
      "------\n"
     ]
    },
    {
     "name": "stderr",
     "output_type": "stream",
     "text": [
      " 51%|█████     | 76003/150000 [1:11:56<2:26:38,  8.41it/s]"
     ]
    },
    {
     "name": "stdout",
     "output_type": "stream",
     "text": [
      "train loss info\n",
      "{'losses': tensor(0.3119, device='cuda:0'), 'sparsity_losses': tensor(0.1830, device='cuda:0'), 'reconstruction_losses': tensor(0.1289, device='cuda:0')}\n",
      "val loss info\n",
      "{'losses': tensor(0.3122, device='cuda:0'), 'sparsity_losses': tensor(0.1833, device='cuda:0'), 'reconstruction_losses': tensor(0.1289, device='cuda:0')}\n",
      "------\n"
     ]
    },
    {
     "name": "stderr",
     "output_type": "stream",
     "text": [
      " 51%|█████     | 76503/150000 [1:12:25<2:26:00,  8.39it/s]"
     ]
    },
    {
     "name": "stdout",
     "output_type": "stream",
     "text": [
      "train loss info\n",
      "{'losses': tensor(0.3129, device='cuda:0'), 'sparsity_losses': tensor(0.1833, device='cuda:0'), 'reconstruction_losses': tensor(0.1296, device='cuda:0')}\n",
      "val loss info\n",
      "{'losses': tensor(0.3124, device='cuda:0'), 'sparsity_losses': tensor(0.1831, device='cuda:0'), 'reconstruction_losses': tensor(0.1293, device='cuda:0')}\n",
      "------\n"
     ]
    },
    {
     "name": "stderr",
     "output_type": "stream",
     "text": [
      " 51%|█████▏    | 77003/150000 [1:12:53<2:26:07,  8.33it/s]"
     ]
    },
    {
     "name": "stdout",
     "output_type": "stream",
     "text": [
      "train loss info\n",
      "{'losses': tensor(0.3125, device='cuda:0'), 'sparsity_losses': tensor(0.1833, device='cuda:0'), 'reconstruction_losses': tensor(0.1293, device='cuda:0')}\n",
      "val loss info\n",
      "{'losses': tensor(0.3116, device='cuda:0'), 'sparsity_losses': tensor(0.1820, device='cuda:0'), 'reconstruction_losses': tensor(0.1297, device='cuda:0')}\n",
      "------\n"
     ]
    },
    {
     "name": "stderr",
     "output_type": "stream",
     "text": [
      " 52%|█████▏    | 77503/150000 [1:13:21<2:23:19,  8.43it/s]"
     ]
    },
    {
     "name": "stdout",
     "output_type": "stream",
     "text": [
      "train loss info\n",
      "{'losses': tensor(0.3129, device='cuda:0'), 'sparsity_losses': tensor(0.1832, device='cuda:0'), 'reconstruction_losses': tensor(0.1298, device='cuda:0')}\n",
      "val loss info\n",
      "{'losses': tensor(0.3124, device='cuda:0'), 'sparsity_losses': tensor(0.1831, device='cuda:0'), 'reconstruction_losses': tensor(0.1293, device='cuda:0')}\n",
      "------\n"
     ]
    },
    {
     "name": "stderr",
     "output_type": "stream",
     "text": [
      " 52%|█████▏    | 78003/150000 [1:13:49<2:22:44,  8.41it/s]"
     ]
    },
    {
     "name": "stdout",
     "output_type": "stream",
     "text": [
      "train loss info\n",
      "{'losses': tensor(0.3124, device='cuda:0'), 'sparsity_losses': tensor(0.1829, device='cuda:0'), 'reconstruction_losses': tensor(0.1295, device='cuda:0')}\n",
      "val loss info\n",
      "{'losses': tensor(0.3131, device='cuda:0'), 'sparsity_losses': tensor(0.1830, device='cuda:0'), 'reconstruction_losses': tensor(0.1301, device='cuda:0')}\n",
      "------\n"
     ]
    },
    {
     "name": "stderr",
     "output_type": "stream",
     "text": [
      " 52%|█████▏    | 78503/150000 [1:14:18<2:35:37,  7.66it/s]"
     ]
    },
    {
     "name": "stdout",
     "output_type": "stream",
     "text": [
      "train loss info\n",
      "{'losses': tensor(0.3130, device='cuda:0'), 'sparsity_losses': tensor(0.1836, device='cuda:0'), 'reconstruction_losses': tensor(0.1294, device='cuda:0')}\n",
      "val loss info\n",
      "{'losses': tensor(0.3117, device='cuda:0'), 'sparsity_losses': tensor(0.1825, device='cuda:0'), 'reconstruction_losses': tensor(0.1292, device='cuda:0')}\n",
      "------\n"
     ]
    },
    {
     "name": "stderr",
     "output_type": "stream",
     "text": [
      " 53%|█████▎    | 79003/150000 [1:14:46<2:21:15,  8.38it/s]"
     ]
    },
    {
     "name": "stdout",
     "output_type": "stream",
     "text": [
      "train loss info\n",
      "{'losses': tensor(0.3122, device='cuda:0'), 'sparsity_losses': tensor(0.1832, device='cuda:0'), 'reconstruction_losses': tensor(0.1291, device='cuda:0')}\n",
      "val loss info\n",
      "{'losses': tensor(0.3124, device='cuda:0'), 'sparsity_losses': tensor(0.1832, device='cuda:0'), 'reconstruction_losses': tensor(0.1292, device='cuda:0')}\n",
      "------\n"
     ]
    },
    {
     "name": "stderr",
     "output_type": "stream",
     "text": [
      " 53%|█████▎    | 79503/150000 [1:15:15<2:28:17,  7.92it/s]"
     ]
    },
    {
     "name": "stdout",
     "output_type": "stream",
     "text": [
      "train loss info\n",
      "{'losses': tensor(0.3115, device='cuda:0'), 'sparsity_losses': tensor(0.1826, device='cuda:0'), 'reconstruction_losses': tensor(0.1289, device='cuda:0')}\n",
      "val loss info\n",
      "{'losses': tensor(0.3121, device='cuda:0'), 'sparsity_losses': tensor(0.1821, device='cuda:0'), 'reconstruction_losses': tensor(0.1300, device='cuda:0')}\n",
      "------\n"
     ]
    },
    {
     "name": "stderr",
     "output_type": "stream",
     "text": [
      " 53%|█████▎    | 80003/150000 [1:15:43<2:29:21,  7.81it/s]"
     ]
    },
    {
     "name": "stdout",
     "output_type": "stream",
     "text": [
      "train loss info\n",
      "{'losses': tensor(0.3124, device='cuda:0'), 'sparsity_losses': tensor(0.1833, device='cuda:0'), 'reconstruction_losses': tensor(0.1291, device='cuda:0')}\n",
      "val loss info\n",
      "{'losses': tensor(0.3118, device='cuda:0'), 'sparsity_losses': tensor(0.1832, device='cuda:0'), 'reconstruction_losses': tensor(0.1285, device='cuda:0')}\n",
      "------\n"
     ]
    },
    {
     "name": "stderr",
     "output_type": "stream",
     "text": [
      " 54%|█████▎    | 80503/150000 [1:16:12<2:17:31,  8.42it/s]"
     ]
    },
    {
     "name": "stdout",
     "output_type": "stream",
     "text": [
      "train loss info\n",
      "{'losses': tensor(0.3130, device='cuda:0'), 'sparsity_losses': tensor(0.1833, device='cuda:0'), 'reconstruction_losses': tensor(0.1297, device='cuda:0')}\n",
      "val loss info\n",
      "{'losses': tensor(0.3126, device='cuda:0'), 'sparsity_losses': tensor(0.1832, device='cuda:0'), 'reconstruction_losses': tensor(0.1294, device='cuda:0')}\n",
      "------\n"
     ]
    },
    {
     "name": "stderr",
     "output_type": "stream",
     "text": [
      " 54%|█████▍    | 81003/150000 [1:16:39<2:16:14,  8.44it/s]"
     ]
    },
    {
     "name": "stdout",
     "output_type": "stream",
     "text": [
      "train loss info\n",
      "{'losses': tensor(0.3126, device='cuda:0'), 'sparsity_losses': tensor(0.1837, device='cuda:0'), 'reconstruction_losses': tensor(0.1288, device='cuda:0')}\n",
      "val loss info\n",
      "{'losses': tensor(0.3132, device='cuda:0'), 'sparsity_losses': tensor(0.1838, device='cuda:0'), 'reconstruction_losses': tensor(0.1294, device='cuda:0')}\n",
      "------\n"
     ]
    },
    {
     "name": "stderr",
     "output_type": "stream",
     "text": [
      " 54%|█████▍    | 81503/150000 [1:17:07<2:15:28,  8.43it/s]"
     ]
    },
    {
     "name": "stdout",
     "output_type": "stream",
     "text": [
      "train loss info\n",
      "{'losses': tensor(0.3128, device='cuda:0'), 'sparsity_losses': tensor(0.1831, device='cuda:0'), 'reconstruction_losses': tensor(0.1297, device='cuda:0')}\n",
      "val loss info\n",
      "{'losses': tensor(0.3127, device='cuda:0'), 'sparsity_losses': tensor(0.1832, device='cuda:0'), 'reconstruction_losses': tensor(0.1295, device='cuda:0')}\n",
      "------\n"
     ]
    },
    {
     "name": "stderr",
     "output_type": "stream",
     "text": [
      " 55%|█████▍    | 82003/150000 [1:17:35<2:14:27,  8.43it/s]"
     ]
    },
    {
     "name": "stdout",
     "output_type": "stream",
     "text": [
      "train loss info\n",
      "{'losses': tensor(0.3125, device='cuda:0'), 'sparsity_losses': tensor(0.1833, device='cuda:0'), 'reconstruction_losses': tensor(0.1292, device='cuda:0')}\n",
      "val loss info\n",
      "{'losses': tensor(0.3127, device='cuda:0'), 'sparsity_losses': tensor(0.1832, device='cuda:0'), 'reconstruction_losses': tensor(0.1294, device='cuda:0')}\n",
      "------\n"
     ]
    },
    {
     "name": "stderr",
     "output_type": "stream",
     "text": [
      " 55%|█████▌    | 82503/150000 [1:18:03<2:13:06,  8.45it/s]"
     ]
    },
    {
     "name": "stdout",
     "output_type": "stream",
     "text": [
      "train loss info\n",
      "{'losses': tensor(0.3120, device='cuda:0'), 'sparsity_losses': tensor(0.1832, device='cuda:0'), 'reconstruction_losses': tensor(0.1288, device='cuda:0')}\n",
      "val loss info\n",
      "{'losses': tensor(0.3127, device='cuda:0'), 'sparsity_losses': tensor(0.1836, device='cuda:0'), 'reconstruction_losses': tensor(0.1290, device='cuda:0')}\n",
      "------\n"
     ]
    },
    {
     "name": "stderr",
     "output_type": "stream",
     "text": [
      " 55%|█████▌    | 83003/150000 [1:18:32<2:12:46,  8.41it/s]"
     ]
    },
    {
     "name": "stdout",
     "output_type": "stream",
     "text": [
      "train loss info\n",
      "{'losses': tensor(0.3124, device='cuda:0'), 'sparsity_losses': tensor(0.1828, device='cuda:0'), 'reconstruction_losses': tensor(0.1296, device='cuda:0')}\n",
      "val loss info\n",
      "{'losses': tensor(0.3123, device='cuda:0'), 'sparsity_losses': tensor(0.1826, device='cuda:0'), 'reconstruction_losses': tensor(0.1297, device='cuda:0')}\n",
      "------\n"
     ]
    },
    {
     "name": "stderr",
     "output_type": "stream",
     "text": [
      " 56%|█████▌    | 83503/150000 [1:19:00<2:11:47,  8.41it/s]"
     ]
    },
    {
     "name": "stdout",
     "output_type": "stream",
     "text": [
      "train loss info\n",
      "{'losses': tensor(0.3125, device='cuda:0'), 'sparsity_losses': tensor(0.1831, device='cuda:0'), 'reconstruction_losses': tensor(0.1294, device='cuda:0')}\n",
      "val loss info\n",
      "{'losses': tensor(0.3120, device='cuda:0'), 'sparsity_losses': tensor(0.1827, device='cuda:0'), 'reconstruction_losses': tensor(0.1293, device='cuda:0')}\n",
      "------\n"
     ]
    },
    {
     "name": "stderr",
     "output_type": "stream",
     "text": [
      " 56%|█████▌    | 84003/150000 [1:19:29<2:14:55,  8.15it/s]"
     ]
    },
    {
     "name": "stdout",
     "output_type": "stream",
     "text": [
      "train loss info\n",
      "{'losses': tensor(0.3125, device='cuda:0'), 'sparsity_losses': tensor(0.1832, device='cuda:0'), 'reconstruction_losses': tensor(0.1293, device='cuda:0')}\n",
      "val loss info\n",
      "{'losses': tensor(0.3127, device='cuda:0'), 'sparsity_losses': tensor(0.1834, device='cuda:0'), 'reconstruction_losses': tensor(0.1293, device='cuda:0')}\n",
      "------\n"
     ]
    },
    {
     "name": "stderr",
     "output_type": "stream",
     "text": [
      " 56%|█████▋    | 84503/150000 [1:19:57<2:13:24,  8.18it/s]"
     ]
    },
    {
     "name": "stdout",
     "output_type": "stream",
     "text": [
      "train loss info\n",
      "{'losses': tensor(0.3118, device='cuda:0'), 'sparsity_losses': tensor(0.1823, device='cuda:0'), 'reconstruction_losses': tensor(0.1294, device='cuda:0')}\n",
      "val loss info\n",
      "{'losses': tensor(0.3124, device='cuda:0'), 'sparsity_losses': tensor(0.1825, device='cuda:0'), 'reconstruction_losses': tensor(0.1299, device='cuda:0')}\n",
      "------\n"
     ]
    },
    {
     "name": "stderr",
     "output_type": "stream",
     "text": [
      " 57%|█████▋    | 85003/150000 [1:20:26<2:08:43,  8.42it/s]"
     ]
    },
    {
     "name": "stdout",
     "output_type": "stream",
     "text": [
      "train loss info\n",
      "{'losses': tensor(0.3126, device='cuda:0'), 'sparsity_losses': tensor(0.1832, device='cuda:0'), 'reconstruction_losses': tensor(0.1294, device='cuda:0')}\n",
      "val loss info\n",
      "{'losses': tensor(0.3126, device='cuda:0'), 'sparsity_losses': tensor(0.1825, device='cuda:0'), 'reconstruction_losses': tensor(0.1301, device='cuda:0')}\n",
      "------\n"
     ]
    },
    {
     "name": "stderr",
     "output_type": "stream",
     "text": [
      " 57%|█████▋    | 85503/150000 [1:20:55<2:08:05,  8.39it/s]"
     ]
    },
    {
     "name": "stdout",
     "output_type": "stream",
     "text": [
      "train loss info\n",
      "{'losses': tensor(0.3118, device='cuda:0'), 'sparsity_losses': tensor(0.1822, device='cuda:0'), 'reconstruction_losses': tensor(0.1295, device='cuda:0')}\n",
      "val loss info\n",
      "{'losses': tensor(0.3125, device='cuda:0'), 'sparsity_losses': tensor(0.1826, device='cuda:0'), 'reconstruction_losses': tensor(0.1299, device='cuda:0')}\n",
      "------\n"
     ]
    },
    {
     "name": "stderr",
     "output_type": "stream",
     "text": [
      " 57%|█████▋    | 86003/150000 [1:21:23<2:08:47,  8.28it/s]"
     ]
    },
    {
     "name": "stdout",
     "output_type": "stream",
     "text": [
      "train loss info\n",
      "{'losses': tensor(0.3126, device='cuda:0'), 'sparsity_losses': tensor(0.1825, device='cuda:0'), 'reconstruction_losses': tensor(0.1302, device='cuda:0')}\n",
      "val loss info\n",
      "{'losses': tensor(0.3134, device='cuda:0'), 'sparsity_losses': tensor(0.1832, device='cuda:0'), 'reconstruction_losses': tensor(0.1302, device='cuda:0')}\n",
      "------\n"
     ]
    },
    {
     "name": "stderr",
     "output_type": "stream",
     "text": [
      " 58%|█████▊    | 86503/150000 [1:21:52<2:07:19,  8.31it/s]"
     ]
    },
    {
     "name": "stdout",
     "output_type": "stream",
     "text": [
      "train loss info\n",
      "{'losses': tensor(0.3127, device='cuda:0'), 'sparsity_losses': tensor(0.1827, device='cuda:0'), 'reconstruction_losses': tensor(0.1301, device='cuda:0')}\n",
      "val loss info\n",
      "{'losses': tensor(0.3122, device='cuda:0'), 'sparsity_losses': tensor(0.1829, device='cuda:0'), 'reconstruction_losses': tensor(0.1293, device='cuda:0')}\n",
      "------\n"
     ]
    },
    {
     "name": "stderr",
     "output_type": "stream",
     "text": [
      " 58%|█████▊    | 87003/150000 [1:22:21<2:21:57,  7.40it/s]"
     ]
    },
    {
     "name": "stdout",
     "output_type": "stream",
     "text": [
      "train loss info\n",
      "{'losses': tensor(0.3123, device='cuda:0'), 'sparsity_losses': tensor(0.1821, device='cuda:0'), 'reconstruction_losses': tensor(0.1302, device='cuda:0')}\n",
      "val loss info\n",
      "{'losses': tensor(0.3113, device='cuda:0'), 'sparsity_losses': tensor(0.1823, device='cuda:0'), 'reconstruction_losses': tensor(0.1290, device='cuda:0')}\n",
      "------\n"
     ]
    },
    {
     "name": "stderr",
     "output_type": "stream",
     "text": [
      " 58%|█████▊    | 87503/150000 [1:22:49<2:03:22,  8.44it/s]"
     ]
    },
    {
     "name": "stdout",
     "output_type": "stream",
     "text": [
      "train loss info\n",
      "{'losses': tensor(0.3109, device='cuda:0'), 'sparsity_losses': tensor(0.1816, device='cuda:0'), 'reconstruction_losses': tensor(0.1293, device='cuda:0')}\n",
      "val loss info\n",
      "{'losses': tensor(0.3123, device='cuda:0'), 'sparsity_losses': tensor(0.1823, device='cuda:0'), 'reconstruction_losses': tensor(0.1300, device='cuda:0')}\n",
      "------\n"
     ]
    },
    {
     "name": "stderr",
     "output_type": "stream",
     "text": [
      " 59%|█████▊    | 88003/150000 [1:23:18<2:02:49,  8.41it/s]"
     ]
    },
    {
     "name": "stdout",
     "output_type": "stream",
     "text": [
      "train loss info\n",
      "{'losses': tensor(0.3120, device='cuda:0'), 'sparsity_losses': tensor(0.1819, device='cuda:0'), 'reconstruction_losses': tensor(0.1302, device='cuda:0')}\n",
      "val loss info\n",
      "{'losses': tensor(0.3114, device='cuda:0'), 'sparsity_losses': tensor(0.1815, device='cuda:0'), 'reconstruction_losses': tensor(0.1300, device='cuda:0')}\n",
      "------\n"
     ]
    },
    {
     "name": "stderr",
     "output_type": "stream",
     "text": [
      " 59%|█████▉    | 88503/150000 [1:23:45<2:01:26,  8.44it/s]"
     ]
    },
    {
     "name": "stdout",
     "output_type": "stream",
     "text": [
      "train loss info\n",
      "{'losses': tensor(0.3115, device='cuda:0'), 'sparsity_losses': tensor(0.1815, device='cuda:0'), 'reconstruction_losses': tensor(0.1300, device='cuda:0')}\n",
      "val loss info\n",
      "{'losses': tensor(0.3106, device='cuda:0'), 'sparsity_losses': tensor(0.1808, device='cuda:0'), 'reconstruction_losses': tensor(0.1298, device='cuda:0')}\n",
      "------\n"
     ]
    },
    {
     "name": "stderr",
     "output_type": "stream",
     "text": [
      " 59%|█████▉    | 89003/150000 [1:24:13<2:00:48,  8.41it/s]"
     ]
    },
    {
     "name": "stdout",
     "output_type": "stream",
     "text": [
      "train loss info\n",
      "{'losses': tensor(0.3108, device='cuda:0'), 'sparsity_losses': tensor(0.1813, device='cuda:0'), 'reconstruction_losses': tensor(0.1295, device='cuda:0')}\n",
      "val loss info\n",
      "{'losses': tensor(0.3106, device='cuda:0'), 'sparsity_losses': tensor(0.1812, device='cuda:0'), 'reconstruction_losses': tensor(0.1294, device='cuda:0')}\n",
      "------\n"
     ]
    },
    {
     "name": "stderr",
     "output_type": "stream",
     "text": [
      " 60%|█████▉    | 89503/150000 [1:24:42<1:59:29,  8.44it/s]"
     ]
    },
    {
     "name": "stdout",
     "output_type": "stream",
     "text": [
      "train loss info\n",
      "{'losses': tensor(0.3103, device='cuda:0'), 'sparsity_losses': tensor(0.1810, device='cuda:0'), 'reconstruction_losses': tensor(0.1293, device='cuda:0')}\n",
      "val loss info\n",
      "{'losses': tensor(0.3113, device='cuda:0'), 'sparsity_losses': tensor(0.1812, device='cuda:0'), 'reconstruction_losses': tensor(0.1301, device='cuda:0')}\n",
      "------\n"
     ]
    },
    {
     "name": "stderr",
     "output_type": "stream",
     "text": [
      " 60%|██████    | 90003/150000 [1:25:10<1:58:40,  8.43it/s]"
     ]
    },
    {
     "name": "stdout",
     "output_type": "stream",
     "text": [
      "train loss info\n",
      "{'losses': tensor(0.3100, device='cuda:0'), 'sparsity_losses': tensor(0.1808, device='cuda:0'), 'reconstruction_losses': tensor(0.1292, device='cuda:0')}\n",
      "val loss info\n",
      "{'losses': tensor(0.3113, device='cuda:0'), 'sparsity_losses': tensor(0.1808, device='cuda:0'), 'reconstruction_losses': tensor(0.1305, device='cuda:0')}\n",
      "------\n"
     ]
    },
    {
     "name": "stderr",
     "output_type": "stream",
     "text": [
      " 60%|██████    | 90503/150000 [1:25:38<2:07:23,  7.78it/s]"
     ]
    },
    {
     "name": "stdout",
     "output_type": "stream",
     "text": [
      "train loss info\n",
      "{'losses': tensor(0.3104, device='cuda:0'), 'sparsity_losses': tensor(0.1810, device='cuda:0'), 'reconstruction_losses': tensor(0.1294, device='cuda:0')}\n",
      "val loss info\n",
      "{'losses': tensor(0.3110, device='cuda:0'), 'sparsity_losses': tensor(0.1810, device='cuda:0'), 'reconstruction_losses': tensor(0.1300, device='cuda:0')}\n",
      "------\n"
     ]
    },
    {
     "name": "stderr",
     "output_type": "stream",
     "text": [
      " 61%|██████    | 91003/150000 [1:26:07<2:00:54,  8.13it/s]"
     ]
    },
    {
     "name": "stdout",
     "output_type": "stream",
     "text": [
      "train loss info\n",
      "{'losses': tensor(0.3106, device='cuda:0'), 'sparsity_losses': tensor(0.1811, device='cuda:0'), 'reconstruction_losses': tensor(0.1295, device='cuda:0')}\n",
      "val loss info\n",
      "{'losses': tensor(0.3105, device='cuda:0'), 'sparsity_losses': tensor(0.1811, device='cuda:0'), 'reconstruction_losses': tensor(0.1293, device='cuda:0')}\n",
      "------\n"
     ]
    },
    {
     "name": "stderr",
     "output_type": "stream",
     "text": [
      " 61%|██████    | 91503/150000 [1:26:35<1:58:09,  8.25it/s]"
     ]
    },
    {
     "name": "stdout",
     "output_type": "stream",
     "text": [
      "train loss info\n",
      "{'losses': tensor(0.3115, device='cuda:0'), 'sparsity_losses': tensor(0.1810, device='cuda:0'), 'reconstruction_losses': tensor(0.1305, device='cuda:0')}\n",
      "val loss info\n",
      "{'losses': tensor(0.3105, device='cuda:0'), 'sparsity_losses': tensor(0.1811, device='cuda:0'), 'reconstruction_losses': tensor(0.1293, device='cuda:0')}\n",
      "------\n"
     ]
    },
    {
     "name": "stderr",
     "output_type": "stream",
     "text": [
      " 61%|██████▏   | 92003/150000 [1:27:04<2:05:07,  7.72it/s]"
     ]
    },
    {
     "name": "stdout",
     "output_type": "stream",
     "text": [
      "train loss info\n",
      "{'losses': tensor(0.3097, device='cuda:0'), 'sparsity_losses': tensor(0.1806, device='cuda:0'), 'reconstruction_losses': tensor(0.1291, device='cuda:0')}\n",
      "val loss info\n",
      "{'losses': tensor(0.3099, device='cuda:0'), 'sparsity_losses': tensor(0.1802, device='cuda:0'), 'reconstruction_losses': tensor(0.1297, device='cuda:0')}\n",
      "------\n"
     ]
    },
    {
     "name": "stderr",
     "output_type": "stream",
     "text": [
      " 62%|██████▏   | 92503/150000 [1:27:33<1:53:40,  8.43it/s]"
     ]
    },
    {
     "name": "stdout",
     "output_type": "stream",
     "text": [
      "train loss info\n",
      "{'losses': tensor(0.3106, device='cuda:0'), 'sparsity_losses': tensor(0.1813, device='cuda:0'), 'reconstruction_losses': tensor(0.1293, device='cuda:0')}\n",
      "val loss info\n",
      "{'losses': tensor(0.3101, device='cuda:0'), 'sparsity_losses': tensor(0.1812, device='cuda:0'), 'reconstruction_losses': tensor(0.1289, device='cuda:0')}\n",
      "------\n"
     ]
    },
    {
     "name": "stderr",
     "output_type": "stream",
     "text": [
      " 62%|██████▏   | 93003/150000 [1:28:02<1:52:33,  8.44it/s]"
     ]
    },
    {
     "name": "stdout",
     "output_type": "stream",
     "text": [
      "train loss info\n",
      "{'losses': tensor(0.3103, device='cuda:0'), 'sparsity_losses': tensor(0.1805, device='cuda:0'), 'reconstruction_losses': tensor(0.1297, device='cuda:0')}\n",
      "val loss info\n",
      "{'losses': tensor(0.3101, device='cuda:0'), 'sparsity_losses': tensor(0.1806, device='cuda:0'), 'reconstruction_losses': tensor(0.1296, device='cuda:0')}\n",
      "------\n"
     ]
    },
    {
     "name": "stderr",
     "output_type": "stream",
     "text": [
      " 62%|██████▏   | 93503/150000 [1:28:30<1:53:56,  8.26it/s]"
     ]
    },
    {
     "name": "stdout",
     "output_type": "stream",
     "text": [
      "train loss info\n",
      "{'losses': tensor(0.3102, device='cuda:0'), 'sparsity_losses': tensor(0.1811, device='cuda:0'), 'reconstruction_losses': tensor(0.1291, device='cuda:0')}\n",
      "val loss info\n",
      "{'losses': tensor(0.3110, device='cuda:0'), 'sparsity_losses': tensor(0.1815, device='cuda:0'), 'reconstruction_losses': tensor(0.1296, device='cuda:0')}\n",
      "------\n"
     ]
    },
    {
     "name": "stderr",
     "output_type": "stream",
     "text": [
      " 63%|██████▎   | 94003/150000 [1:28:58<1:50:57,  8.41it/s]"
     ]
    },
    {
     "name": "stdout",
     "output_type": "stream",
     "text": [
      "train loss info\n",
      "{'losses': tensor(0.3106, device='cuda:0'), 'sparsity_losses': tensor(0.1814, device='cuda:0'), 'reconstruction_losses': tensor(0.1292, device='cuda:0')}\n",
      "val loss info\n",
      "{'losses': tensor(0.3109, device='cuda:0'), 'sparsity_losses': tensor(0.1812, device='cuda:0'), 'reconstruction_losses': tensor(0.1297, device='cuda:0')}\n",
      "------\n"
     ]
    },
    {
     "name": "stderr",
     "output_type": "stream",
     "text": [
      " 63%|██████▎   | 94503/150000 [1:29:27<1:49:28,  8.45it/s]"
     ]
    },
    {
     "name": "stdout",
     "output_type": "stream",
     "text": [
      "train loss info\n",
      "{'losses': tensor(0.3109, device='cuda:0'), 'sparsity_losses': tensor(0.1808, device='cuda:0'), 'reconstruction_losses': tensor(0.1301, device='cuda:0')}\n",
      "val loss info\n",
      "{'losses': tensor(0.3109, device='cuda:0'), 'sparsity_losses': tensor(0.1810, device='cuda:0'), 'reconstruction_losses': tensor(0.1299, device='cuda:0')}\n",
      "------\n"
     ]
    },
    {
     "name": "stderr",
     "output_type": "stream",
     "text": [
      " 63%|██████▎   | 95003/150000 [1:29:55<1:53:30,  8.08it/s]"
     ]
    },
    {
     "name": "stdout",
     "output_type": "stream",
     "text": [
      "train loss info\n",
      "{'losses': tensor(0.3099, device='cuda:0'), 'sparsity_losses': tensor(0.1811, device='cuda:0'), 'reconstruction_losses': tensor(0.1288, device='cuda:0')}\n",
      "val loss info\n",
      "{'losses': tensor(0.3110, device='cuda:0'), 'sparsity_losses': tensor(0.1817, device='cuda:0'), 'reconstruction_losses': tensor(0.1293, device='cuda:0')}\n",
      "------\n"
     ]
    },
    {
     "name": "stderr",
     "output_type": "stream",
     "text": [
      " 64%|██████▎   | 95503/150000 [1:30:23<1:49:02,  8.33it/s]"
     ]
    },
    {
     "name": "stdout",
     "output_type": "stream",
     "text": [
      "train loss info\n",
      "{'losses': tensor(0.3106, device='cuda:0'), 'sparsity_losses': tensor(0.1810, device='cuda:0'), 'reconstruction_losses': tensor(0.1295, device='cuda:0')}\n",
      "val loss info\n",
      "{'losses': tensor(0.3109, device='cuda:0'), 'sparsity_losses': tensor(0.1815, device='cuda:0'), 'reconstruction_losses': tensor(0.1294, device='cuda:0')}\n",
      "------\n"
     ]
    },
    {
     "name": "stderr",
     "output_type": "stream",
     "text": [
      " 64%|██████▍   | 96003/150000 [1:30:51<1:47:19,  8.39it/s]"
     ]
    },
    {
     "name": "stdout",
     "output_type": "stream",
     "text": [
      "train loss info\n",
      "{'losses': tensor(0.3109, device='cuda:0'), 'sparsity_losses': tensor(0.1814, device='cuda:0'), 'reconstruction_losses': tensor(0.1295, device='cuda:0')}\n",
      "val loss info\n",
      "{'losses': tensor(0.3110, device='cuda:0'), 'sparsity_losses': tensor(0.1811, device='cuda:0'), 'reconstruction_losses': tensor(0.1299, device='cuda:0')}\n",
      "------\n"
     ]
    },
    {
     "name": "stderr",
     "output_type": "stream",
     "text": [
      " 64%|██████▍   | 96503/150000 [1:31:19<1:53:44,  7.84it/s]"
     ]
    },
    {
     "name": "stdout",
     "output_type": "stream",
     "text": [
      "train loss info\n",
      "{'losses': tensor(0.3099, device='cuda:0'), 'sparsity_losses': tensor(0.1806, device='cuda:0'), 'reconstruction_losses': tensor(0.1293, device='cuda:0')}\n",
      "val loss info\n",
      "{'losses': tensor(0.3108, device='cuda:0'), 'sparsity_losses': tensor(0.1813, device='cuda:0'), 'reconstruction_losses': tensor(0.1295, device='cuda:0')}\n",
      "------\n"
     ]
    },
    {
     "name": "stderr",
     "output_type": "stream",
     "text": [
      " 65%|██████▍   | 97003/150000 [1:31:47<1:44:46,  8.43it/s]"
     ]
    },
    {
     "name": "stdout",
     "output_type": "stream",
     "text": [
      "train loss info\n",
      "{'losses': tensor(0.3102, device='cuda:0'), 'sparsity_losses': tensor(0.1808, device='cuda:0'), 'reconstruction_losses': tensor(0.1294, device='cuda:0')}\n",
      "val loss info\n",
      "{'losses': tensor(0.3102, device='cuda:0'), 'sparsity_losses': tensor(0.1809, device='cuda:0'), 'reconstruction_losses': tensor(0.1293, device='cuda:0')}\n",
      "------\n"
     ]
    },
    {
     "name": "stderr",
     "output_type": "stream",
     "text": [
      " 65%|██████▌   | 97503/150000 [1:32:16<1:43:51,  8.42it/s]"
     ]
    },
    {
     "name": "stdout",
     "output_type": "stream",
     "text": [
      "train loss info\n",
      "{'losses': tensor(0.3107, device='cuda:0'), 'sparsity_losses': tensor(0.1808, device='cuda:0'), 'reconstruction_losses': tensor(0.1299, device='cuda:0')}\n",
      "val loss info\n",
      "{'losses': tensor(0.3106, device='cuda:0'), 'sparsity_losses': tensor(0.1812, device='cuda:0'), 'reconstruction_losses': tensor(0.1294, device='cuda:0')}\n",
      "------\n"
     ]
    },
    {
     "name": "stderr",
     "output_type": "stream",
     "text": [
      " 65%|██████▌   | 98003/150000 [1:32:45<1:44:23,  8.30it/s]"
     ]
    },
    {
     "name": "stdout",
     "output_type": "stream",
     "text": [
      "train loss info\n",
      "{'losses': tensor(0.3104, device='cuda:0'), 'sparsity_losses': tensor(0.1811, device='cuda:0'), 'reconstruction_losses': tensor(0.1293, device='cuda:0')}\n",
      "val loss info\n",
      "{'losses': tensor(0.3112, device='cuda:0'), 'sparsity_losses': tensor(0.1814, device='cuda:0'), 'reconstruction_losses': tensor(0.1298, device='cuda:0')}\n",
      "------\n"
     ]
    },
    {
     "name": "stderr",
     "output_type": "stream",
     "text": [
      " 66%|██████▌   | 98503/150000 [1:33:13<1:41:41,  8.44it/s]"
     ]
    },
    {
     "name": "stdout",
     "output_type": "stream",
     "text": [
      "train loss info\n",
      "{'losses': tensor(0.3116, device='cuda:0'), 'sparsity_losses': tensor(0.1814, device='cuda:0'), 'reconstruction_losses': tensor(0.1302, device='cuda:0')}\n",
      "val loss info\n",
      "{'losses': tensor(0.3105, device='cuda:0'), 'sparsity_losses': tensor(0.1806, device='cuda:0'), 'reconstruction_losses': tensor(0.1299, device='cuda:0')}\n",
      "------\n"
     ]
    },
    {
     "name": "stderr",
     "output_type": "stream",
     "text": [
      " 66%|██████▌   | 99003/150000 [1:33:41<1:43:00,  8.25it/s]"
     ]
    },
    {
     "name": "stdout",
     "output_type": "stream",
     "text": [
      "train loss info\n",
      "{'losses': tensor(0.3099, device='cuda:0'), 'sparsity_losses': tensor(0.1803, device='cuda:0'), 'reconstruction_losses': tensor(0.1296, device='cuda:0')}\n",
      "val loss info\n",
      "{'losses': tensor(0.3104, device='cuda:0'), 'sparsity_losses': tensor(0.1809, device='cuda:0'), 'reconstruction_losses': tensor(0.1295, device='cuda:0')}\n",
      "------\n"
     ]
    },
    {
     "name": "stderr",
     "output_type": "stream",
     "text": [
      " 66%|██████▋   | 99503/150000 [1:34:10<1:47:09,  7.85it/s]"
     ]
    },
    {
     "name": "stdout",
     "output_type": "stream",
     "text": [
      "train loss info\n",
      "{'losses': tensor(0.3103, device='cuda:0'), 'sparsity_losses': tensor(0.1806, device='cuda:0'), 'reconstruction_losses': tensor(0.1298, device='cuda:0')}\n",
      "val loss info\n",
      "{'losses': tensor(0.3113, device='cuda:0'), 'sparsity_losses': tensor(0.1816, device='cuda:0'), 'reconstruction_losses': tensor(0.1297, device='cuda:0')}\n",
      "------\n"
     ]
    },
    {
     "name": "stderr",
     "output_type": "stream",
     "text": [
      " 67%|██████▋   | 100003/150000 [1:34:38<1:38:45,  8.44it/s]"
     ]
    },
    {
     "name": "stdout",
     "output_type": "stream",
     "text": [
      "train loss info\n",
      "{'losses': tensor(0.3109, device='cuda:0'), 'sparsity_losses': tensor(0.1814, device='cuda:0'), 'reconstruction_losses': tensor(0.1296, device='cuda:0')}\n",
      "val loss info\n",
      "{'losses': tensor(0.3110, device='cuda:0'), 'sparsity_losses': tensor(0.1815, device='cuda:0'), 'reconstruction_losses': tensor(0.1295, device='cuda:0')}\n",
      "------\n"
     ]
    },
    {
     "name": "stderr",
     "output_type": "stream",
     "text": [
      " 67%|██████▋   | 100503/150000 [1:35:07<1:44:49,  7.87it/s]"
     ]
    },
    {
     "name": "stdout",
     "output_type": "stream",
     "text": [
      "train loss info\n",
      "{'losses': tensor(0.3119, device='cuda:0'), 'sparsity_losses': tensor(0.1816, device='cuda:0'), 'reconstruction_losses': tensor(0.1303, device='cuda:0')}\n",
      "val loss info\n",
      "{'losses': tensor(0.3109, device='cuda:0'), 'sparsity_losses': tensor(0.1819, device='cuda:0'), 'reconstruction_losses': tensor(0.1290, device='cuda:0')}\n",
      "------\n"
     ]
    },
    {
     "name": "stderr",
     "output_type": "stream",
     "text": [
      " 67%|██████▋   | 101003/150000 [1:35:34<1:36:49,  8.43it/s]"
     ]
    },
    {
     "name": "stdout",
     "output_type": "stream",
     "text": [
      "train loss info\n",
      "{'losses': tensor(0.3113, device='cuda:0'), 'sparsity_losses': tensor(0.1813, device='cuda:0'), 'reconstruction_losses': tensor(0.1300, device='cuda:0')}\n",
      "val loss info\n",
      "{'losses': tensor(0.3119, device='cuda:0'), 'sparsity_losses': tensor(0.1807, device='cuda:0'), 'reconstruction_losses': tensor(0.1312, device='cuda:0')}\n",
      "------\n"
     ]
    },
    {
     "name": "stderr",
     "output_type": "stream",
     "text": [
      " 68%|██████▊   | 101503/150000 [1:36:02<1:35:49,  8.43it/s]"
     ]
    },
    {
     "name": "stdout",
     "output_type": "stream",
     "text": [
      "train loss info\n",
      "{'losses': tensor(0.3102, device='cuda:0'), 'sparsity_losses': tensor(0.1805, device='cuda:0'), 'reconstruction_losses': tensor(0.1297, device='cuda:0')}\n",
      "val loss info\n",
      "{'losses': tensor(0.3110, device='cuda:0'), 'sparsity_losses': tensor(0.1810, device='cuda:0'), 'reconstruction_losses': tensor(0.1301, device='cuda:0')}\n",
      "------\n"
     ]
    },
    {
     "name": "stderr",
     "output_type": "stream",
     "text": [
      " 68%|██████▊   | 102003/150000 [1:36:30<1:35:14,  8.40it/s]"
     ]
    },
    {
     "name": "stdout",
     "output_type": "stream",
     "text": [
      "train loss info\n",
      "{'losses': tensor(0.3108, device='cuda:0'), 'sparsity_losses': tensor(0.1808, device='cuda:0'), 'reconstruction_losses': tensor(0.1300, device='cuda:0')}\n",
      "val loss info\n",
      "{'losses': tensor(0.3116, device='cuda:0'), 'sparsity_losses': tensor(0.1815, device='cuda:0'), 'reconstruction_losses': tensor(0.1300, device='cuda:0')}\n",
      "------\n"
     ]
    },
    {
     "name": "stderr",
     "output_type": "stream",
     "text": [
      " 68%|██████▊   | 102503/150000 [1:36:58<1:33:47,  8.44it/s]"
     ]
    },
    {
     "name": "stdout",
     "output_type": "stream",
     "text": [
      "train loss info\n",
      "{'losses': tensor(0.3119, device='cuda:0'), 'sparsity_losses': tensor(0.1818, device='cuda:0'), 'reconstruction_losses': tensor(0.1301, device='cuda:0')}\n",
      "val loss info\n",
      "{'losses': tensor(0.3114, device='cuda:0'), 'sparsity_losses': tensor(0.1814, device='cuda:0'), 'reconstruction_losses': tensor(0.1299, device='cuda:0')}\n",
      "------\n"
     ]
    },
    {
     "name": "stderr",
     "output_type": "stream",
     "text": [
      " 69%|██████▊   | 103003/150000 [1:37:26<1:36:47,  8.09it/s]"
     ]
    },
    {
     "name": "stdout",
     "output_type": "stream",
     "text": [
      "train loss info\n",
      "{'losses': tensor(0.3117, device='cuda:0'), 'sparsity_losses': tensor(0.1813, device='cuda:0'), 'reconstruction_losses': tensor(0.1304, device='cuda:0')}\n",
      "val loss info\n",
      "{'losses': tensor(0.3112, device='cuda:0'), 'sparsity_losses': tensor(0.1813, device='cuda:0'), 'reconstruction_losses': tensor(0.1299, device='cuda:0')}\n",
      "------\n"
     ]
    },
    {
     "name": "stderr",
     "output_type": "stream",
     "text": [
      " 69%|██████▉   | 103503/150000 [1:37:54<1:34:20,  8.21it/s]"
     ]
    },
    {
     "name": "stdout",
     "output_type": "stream",
     "text": [
      "train loss info\n",
      "{'losses': tensor(0.3113, device='cuda:0'), 'sparsity_losses': tensor(0.1812, device='cuda:0'), 'reconstruction_losses': tensor(0.1301, device='cuda:0')}\n",
      "val loss info\n",
      "{'losses': tensor(0.3107, device='cuda:0'), 'sparsity_losses': tensor(0.1811, device='cuda:0'), 'reconstruction_losses': tensor(0.1296, device='cuda:0')}\n",
      "------\n"
     ]
    },
    {
     "name": "stderr",
     "output_type": "stream",
     "text": [
      " 69%|██████▉   | 104003/150000 [1:38:22<1:30:53,  8.43it/s]"
     ]
    },
    {
     "name": "stdout",
     "output_type": "stream",
     "text": [
      "train loss info\n",
      "{'losses': tensor(0.3118, device='cuda:0'), 'sparsity_losses': tensor(0.1821, device='cuda:0'), 'reconstruction_losses': tensor(0.1297, device='cuda:0')}\n",
      "val loss info\n",
      "{'losses': tensor(0.3114, device='cuda:0'), 'sparsity_losses': tensor(0.1816, device='cuda:0'), 'reconstruction_losses': tensor(0.1298, device='cuda:0')}\n",
      "------\n"
     ]
    },
    {
     "name": "stderr",
     "output_type": "stream",
     "text": [
      " 70%|██████▉   | 104503/150000 [1:38:51<1:36:25,  7.86it/s]"
     ]
    },
    {
     "name": "stdout",
     "output_type": "stream",
     "text": [
      "train loss info\n",
      "{'losses': tensor(0.3113, device='cuda:0'), 'sparsity_losses': tensor(0.1810, device='cuda:0'), 'reconstruction_losses': tensor(0.1303, device='cuda:0')}\n",
      "val loss info\n",
      "{'losses': tensor(0.3114, device='cuda:0'), 'sparsity_losses': tensor(0.1812, device='cuda:0'), 'reconstruction_losses': tensor(0.1301, device='cuda:0')}\n",
      "------\n"
     ]
    },
    {
     "name": "stderr",
     "output_type": "stream",
     "text": [
      " 70%|███████   | 105003/150000 [1:39:20<1:29:07,  8.41it/s]"
     ]
    },
    {
     "name": "stdout",
     "output_type": "stream",
     "text": [
      "train loss info\n",
      "{'losses': tensor(0.3121, device='cuda:0'), 'sparsity_losses': tensor(0.1810, device='cuda:0'), 'reconstruction_losses': tensor(0.1310, device='cuda:0')}\n",
      "val loss info\n",
      "{'losses': tensor(0.3125, device='cuda:0'), 'sparsity_losses': tensor(0.1811, device='cuda:0'), 'reconstruction_losses': tensor(0.1314, device='cuda:0')}\n",
      "------\n"
     ]
    },
    {
     "name": "stderr",
     "output_type": "stream",
     "text": [
      " 70%|███████   | 105503/150000 [1:39:49<1:28:01,  8.42it/s]"
     ]
    },
    {
     "name": "stdout",
     "output_type": "stream",
     "text": [
      "train loss info\n",
      "{'losses': tensor(0.3108, device='cuda:0'), 'sparsity_losses': tensor(0.1813, device='cuda:0'), 'reconstruction_losses': tensor(0.1296, device='cuda:0')}\n",
      "val loss info\n",
      "{'losses': tensor(0.3120, device='cuda:0'), 'sparsity_losses': tensor(0.1815, device='cuda:0'), 'reconstruction_losses': tensor(0.1305, device='cuda:0')}\n",
      "------\n"
     ]
    },
    {
     "name": "stderr",
     "output_type": "stream",
     "text": [
      " 71%|███████   | 106003/150000 [1:40:18<1:26:52,  8.44it/s]"
     ]
    },
    {
     "name": "stdout",
     "output_type": "stream",
     "text": [
      "train loss info\n",
      "{'losses': tensor(0.3118, device='cuda:0'), 'sparsity_losses': tensor(0.1815, device='cuda:0'), 'reconstruction_losses': tensor(0.1303, device='cuda:0')}\n",
      "val loss info\n",
      "{'losses': tensor(0.3117, device='cuda:0'), 'sparsity_losses': tensor(0.1813, device='cuda:0'), 'reconstruction_losses': tensor(0.1304, device='cuda:0')}\n",
      "------\n"
     ]
    },
    {
     "name": "stderr",
     "output_type": "stream",
     "text": [
      " 71%|███████   | 106503/150000 [1:40:46<1:25:53,  8.44it/s]"
     ]
    },
    {
     "name": "stdout",
     "output_type": "stream",
     "text": [
      "train loss info\n",
      "{'losses': tensor(0.3109, device='cuda:0'), 'sparsity_losses': tensor(0.1806, device='cuda:0'), 'reconstruction_losses': tensor(0.1304, device='cuda:0')}\n",
      "val loss info\n",
      "{'losses': tensor(0.3113, device='cuda:0'), 'sparsity_losses': tensor(0.1812, device='cuda:0'), 'reconstruction_losses': tensor(0.1300, device='cuda:0')}\n",
      "------\n"
     ]
    },
    {
     "name": "stderr",
     "output_type": "stream",
     "text": [
      " 71%|███████▏  | 107003/150000 [1:41:14<1:25:00,  8.43it/s]"
     ]
    },
    {
     "name": "stdout",
     "output_type": "stream",
     "text": [
      "train loss info\n",
      "{'losses': tensor(0.3113, device='cuda:0'), 'sparsity_losses': tensor(0.1800, device='cuda:0'), 'reconstruction_losses': tensor(0.1313, device='cuda:0')}\n",
      "val loss info\n",
      "{'losses': tensor(0.3116, device='cuda:0'), 'sparsity_losses': tensor(0.1808, device='cuda:0'), 'reconstruction_losses': tensor(0.1308, device='cuda:0')}\n",
      "------\n"
     ]
    },
    {
     "name": "stderr",
     "output_type": "stream",
     "text": [
      " 72%|███████▏  | 107503/150000 [1:41:42<1:24:02,  8.43it/s]"
     ]
    },
    {
     "name": "stdout",
     "output_type": "stream",
     "text": [
      "train loss info\n",
      "{'losses': tensor(0.3118, device='cuda:0'), 'sparsity_losses': tensor(0.1808, device='cuda:0'), 'reconstruction_losses': tensor(0.1309, device='cuda:0')}\n",
      "val loss info\n",
      "{'losses': tensor(0.3121, device='cuda:0'), 'sparsity_losses': tensor(0.1813, device='cuda:0'), 'reconstruction_losses': tensor(0.1309, device='cuda:0')}\n",
      "------\n"
     ]
    },
    {
     "name": "stderr",
     "output_type": "stream",
     "text": [
      " 72%|███████▏  | 108003/150000 [1:42:10<1:26:27,  8.10it/s]"
     ]
    },
    {
     "name": "stdout",
     "output_type": "stream",
     "text": [
      "train loss info\n",
      "{'losses': tensor(0.3106, device='cuda:0'), 'sparsity_losses': tensor(0.1803, device='cuda:0'), 'reconstruction_losses': tensor(0.1303, device='cuda:0')}\n",
      "val loss info\n",
      "{'losses': tensor(0.3112, device='cuda:0'), 'sparsity_losses': tensor(0.1804, device='cuda:0'), 'reconstruction_losses': tensor(0.1308, device='cuda:0')}\n",
      "------\n"
     ]
    },
    {
     "name": "stderr",
     "output_type": "stream",
     "text": [
      " 72%|███████▏  | 108503/150000 [1:42:38<1:22:03,  8.43it/s]"
     ]
    },
    {
     "name": "stdout",
     "output_type": "stream",
     "text": [
      "train loss info\n",
      "{'losses': tensor(0.3108, device='cuda:0'), 'sparsity_losses': tensor(0.1799, device='cuda:0'), 'reconstruction_losses': tensor(0.1309, device='cuda:0')}\n",
      "val loss info\n",
      "{'losses': tensor(0.3117, device='cuda:0'), 'sparsity_losses': tensor(0.1807, device='cuda:0'), 'reconstruction_losses': tensor(0.1309, device='cuda:0')}\n",
      "------\n"
     ]
    },
    {
     "name": "stderr",
     "output_type": "stream",
     "text": [
      " 73%|███████▎  | 109003/150000 [1:43:06<1:23:52,  8.15it/s]"
     ]
    },
    {
     "name": "stdout",
     "output_type": "stream",
     "text": [
      "train loss info\n",
      "{'losses': tensor(0.3116, device='cuda:0'), 'sparsity_losses': tensor(0.1802, device='cuda:0'), 'reconstruction_losses': tensor(0.1314, device='cuda:0')}\n",
      "val loss info\n",
      "{'losses': tensor(0.3115, device='cuda:0'), 'sparsity_losses': tensor(0.1803, device='cuda:0'), 'reconstruction_losses': tensor(0.1312, device='cuda:0')}\n",
      "------\n"
     ]
    },
    {
     "name": "stderr",
     "output_type": "stream",
     "text": [
      " 73%|███████▎  | 109503/150000 [1:43:35<1:20:05,  8.43it/s]"
     ]
    },
    {
     "name": "stdout",
     "output_type": "stream",
     "text": [
      "train loss info\n",
      "{'losses': tensor(0.3112, device='cuda:0'), 'sparsity_losses': tensor(0.1803, device='cuda:0'), 'reconstruction_losses': tensor(0.1309, device='cuda:0')}\n",
      "val loss info\n",
      "{'losses': tensor(0.3110, device='cuda:0'), 'sparsity_losses': tensor(0.1799, device='cuda:0'), 'reconstruction_losses': tensor(0.1311, device='cuda:0')}\n",
      "------\n"
     ]
    },
    {
     "name": "stderr",
     "output_type": "stream",
     "text": [
      " 73%|███████▎  | 110003/150000 [1:44:02<1:19:16,  8.41it/s]"
     ]
    },
    {
     "name": "stdout",
     "output_type": "stream",
     "text": [
      "train loss info\n",
      "{'losses': tensor(0.3104, device='cuda:0'), 'sparsity_losses': tensor(0.1790, device='cuda:0'), 'reconstruction_losses': tensor(0.1314, device='cuda:0')}\n",
      "val loss info\n",
      "{'losses': tensor(0.3110, device='cuda:0'), 'sparsity_losses': tensor(0.1792, device='cuda:0'), 'reconstruction_losses': tensor(0.1317, device='cuda:0')}\n",
      "------\n"
     ]
    },
    {
     "name": "stderr",
     "output_type": "stream",
     "text": [
      " 74%|███████▎  | 110503/150000 [1:44:30<1:18:07,  8.43it/s]"
     ]
    },
    {
     "name": "stdout",
     "output_type": "stream",
     "text": [
      "train loss info\n",
      "{'losses': tensor(0.3108, device='cuda:0'), 'sparsity_losses': tensor(0.1797, device='cuda:0'), 'reconstruction_losses': tensor(0.1311, device='cuda:0')}\n",
      "val loss info\n",
      "{'losses': tensor(0.3108, device='cuda:0'), 'sparsity_losses': tensor(0.1804, device='cuda:0'), 'reconstruction_losses': tensor(0.1304, device='cuda:0')}\n",
      "------\n"
     ]
    },
    {
     "name": "stderr",
     "output_type": "stream",
     "text": [
      " 74%|███████▍  | 111003/150000 [1:44:59<1:17:05,  8.43it/s]"
     ]
    },
    {
     "name": "stdout",
     "output_type": "stream",
     "text": [
      "train loss info\n",
      "{'losses': tensor(0.3111, device='cuda:0'), 'sparsity_losses': tensor(0.1801, device='cuda:0'), 'reconstruction_losses': tensor(0.1310, device='cuda:0')}\n",
      "val loss info\n",
      "{'losses': tensor(0.3110, device='cuda:0'), 'sparsity_losses': tensor(0.1799, device='cuda:0'), 'reconstruction_losses': tensor(0.1311, device='cuda:0')}\n",
      "------\n"
     ]
    },
    {
     "name": "stderr",
     "output_type": "stream",
     "text": [
      " 74%|███████▍  | 111503/150000 [1:45:27<1:18:09,  8.21it/s]"
     ]
    },
    {
     "name": "stdout",
     "output_type": "stream",
     "text": [
      "train loss info\n",
      "{'losses': tensor(0.3104, device='cuda:0'), 'sparsity_losses': tensor(0.1794, device='cuda:0'), 'reconstruction_losses': tensor(0.1311, device='cuda:0')}\n",
      "val loss info\n",
      "{'losses': tensor(0.3111, device='cuda:0'), 'sparsity_losses': tensor(0.1795, device='cuda:0'), 'reconstruction_losses': tensor(0.1316, device='cuda:0')}\n",
      "------\n"
     ]
    },
    {
     "name": "stderr",
     "output_type": "stream",
     "text": [
      " 75%|███████▍  | 112003/150000 [1:45:55<1:15:04,  8.44it/s]"
     ]
    },
    {
     "name": "stdout",
     "output_type": "stream",
     "text": [
      "train loss info\n",
      "{'losses': tensor(0.3093, device='cuda:0'), 'sparsity_losses': tensor(0.1788, device='cuda:0'), 'reconstruction_losses': tensor(0.1305, device='cuda:0')}\n",
      "val loss info\n",
      "{'losses': tensor(0.3105, device='cuda:0'), 'sparsity_losses': tensor(0.1794, device='cuda:0'), 'reconstruction_losses': tensor(0.1311, device='cuda:0')}\n",
      "------\n"
     ]
    },
    {
     "name": "stderr",
     "output_type": "stream",
     "text": [
      " 75%|███████▌  | 112503/150000 [1:46:23<1:17:04,  8.11it/s]"
     ]
    },
    {
     "name": "stdout",
     "output_type": "stream",
     "text": [
      "train loss info\n",
      "{'losses': tensor(0.3088, device='cuda:0'), 'sparsity_losses': tensor(0.1788, device='cuda:0'), 'reconstruction_losses': tensor(0.1300, device='cuda:0')}\n",
      "val loss info\n",
      "{'losses': tensor(0.3106, device='cuda:0'), 'sparsity_losses': tensor(0.1798, device='cuda:0'), 'reconstruction_losses': tensor(0.1308, device='cuda:0')}\n",
      "------\n"
     ]
    },
    {
     "name": "stderr",
     "output_type": "stream",
     "text": [
      " 75%|███████▌  | 113003/150000 [1:46:51<1:13:00,  8.45it/s]"
     ]
    },
    {
     "name": "stdout",
     "output_type": "stream",
     "text": [
      "train loss info\n",
      "{'losses': tensor(0.3094, device='cuda:0'), 'sparsity_losses': tensor(0.1788, device='cuda:0'), 'reconstruction_losses': tensor(0.1306, device='cuda:0')}\n",
      "val loss info\n",
      "{'losses': tensor(0.3087, device='cuda:0'), 'sparsity_losses': tensor(0.1781, device='cuda:0'), 'reconstruction_losses': tensor(0.1305, device='cuda:0')}\n",
      "------\n"
     ]
    },
    {
     "name": "stderr",
     "output_type": "stream",
     "text": [
      " 76%|███████▌  | 113503/150000 [1:47:18<1:12:03,  8.44it/s]"
     ]
    },
    {
     "name": "stdout",
     "output_type": "stream",
     "text": [
      "train loss info\n",
      "{'losses': tensor(0.3090, device='cuda:0'), 'sparsity_losses': tensor(0.1785, device='cuda:0'), 'reconstruction_losses': tensor(0.1304, device='cuda:0')}\n",
      "val loss info\n",
      "{'losses': tensor(0.3090, device='cuda:0'), 'sparsity_losses': tensor(0.1788, device='cuda:0'), 'reconstruction_losses': tensor(0.1302, device='cuda:0')}\n",
      "------\n"
     ]
    },
    {
     "name": "stderr",
     "output_type": "stream",
     "text": [
      " 76%|███████▌  | 114003/150000 [1:47:47<1:11:07,  8.44it/s]"
     ]
    },
    {
     "name": "stdout",
     "output_type": "stream",
     "text": [
      "train loss info\n",
      "{'losses': tensor(0.3082, device='cuda:0'), 'sparsity_losses': tensor(0.1783, device='cuda:0'), 'reconstruction_losses': tensor(0.1299, device='cuda:0')}\n",
      "val loss info\n",
      "{'losses': tensor(0.3097, device='cuda:0'), 'sparsity_losses': tensor(0.1792, device='cuda:0'), 'reconstruction_losses': tensor(0.1305, device='cuda:0')}\n",
      "------\n"
     ]
    },
    {
     "name": "stderr",
     "output_type": "stream",
     "text": [
      " 76%|███████▋  | 114503/150000 [1:48:15<1:10:43,  8.37it/s]"
     ]
    },
    {
     "name": "stdout",
     "output_type": "stream",
     "text": [
      "train loss info\n",
      "{'losses': tensor(0.3088, device='cuda:0'), 'sparsity_losses': tensor(0.1784, device='cuda:0'), 'reconstruction_losses': tensor(0.1304, device='cuda:0')}\n",
      "val loss info\n",
      "{'losses': tensor(0.3090, device='cuda:0'), 'sparsity_losses': tensor(0.1788, device='cuda:0'), 'reconstruction_losses': tensor(0.1303, device='cuda:0')}\n",
      "------\n"
     ]
    },
    {
     "name": "stderr",
     "output_type": "stream",
     "text": [
      " 77%|███████▋  | 115003/150000 [1:48:44<1:13:37,  7.92it/s]"
     ]
    },
    {
     "name": "stdout",
     "output_type": "stream",
     "text": [
      "train loss info\n",
      "{'losses': tensor(0.3082, device='cuda:0'), 'sparsity_losses': tensor(0.1785, device='cuda:0'), 'reconstruction_losses': tensor(0.1296, device='cuda:0')}\n",
      "val loss info\n",
      "{'losses': tensor(0.3095, device='cuda:0'), 'sparsity_losses': tensor(0.1795, device='cuda:0'), 'reconstruction_losses': tensor(0.1300, device='cuda:0')}\n",
      "------\n"
     ]
    },
    {
     "name": "stderr",
     "output_type": "stream",
     "text": [
      " 77%|███████▋  | 115503/150000 [1:49:12<1:08:22,  8.41it/s]"
     ]
    },
    {
     "name": "stdout",
     "output_type": "stream",
     "text": [
      "train loss info\n",
      "{'losses': tensor(0.3089, device='cuda:0'), 'sparsity_losses': tensor(0.1789, device='cuda:0'), 'reconstruction_losses': tensor(0.1300, device='cuda:0')}\n",
      "val loss info\n",
      "{'losses': tensor(0.3081, device='cuda:0'), 'sparsity_losses': tensor(0.1783, device='cuda:0'), 'reconstruction_losses': tensor(0.1298, device='cuda:0')}\n",
      "------\n"
     ]
    },
    {
     "name": "stderr",
     "output_type": "stream",
     "text": [
      " 77%|███████▋  | 116003/150000 [1:49:40<1:09:43,  8.13it/s]"
     ]
    },
    {
     "name": "stdout",
     "output_type": "stream",
     "text": [
      "train loss info\n",
      "{'losses': tensor(0.3090, device='cuda:0'), 'sparsity_losses': tensor(0.1793, device='cuda:0'), 'reconstruction_losses': tensor(0.1297, device='cuda:0')}\n",
      "val loss info\n",
      "{'losses': tensor(0.3089, device='cuda:0'), 'sparsity_losses': tensor(0.1793, device='cuda:0'), 'reconstruction_losses': tensor(0.1296, device='cuda:0')}\n",
      "------\n"
     ]
    },
    {
     "name": "stderr",
     "output_type": "stream",
     "text": [
      " 78%|███████▊  | 116503/150000 [1:50:09<1:08:25,  8.16it/s]"
     ]
    },
    {
     "name": "stdout",
     "output_type": "stream",
     "text": [
      "train loss info\n",
      "{'losses': tensor(0.3092, device='cuda:0'), 'sparsity_losses': tensor(0.1794, device='cuda:0'), 'reconstruction_losses': tensor(0.1298, device='cuda:0')}\n",
      "val loss info\n",
      "{'losses': tensor(0.3085, device='cuda:0'), 'sparsity_losses': tensor(0.1786, device='cuda:0'), 'reconstruction_losses': tensor(0.1299, device='cuda:0')}\n",
      "------\n"
     ]
    },
    {
     "name": "stderr",
     "output_type": "stream",
     "text": [
      " 78%|███████▊  | 117003/150000 [1:50:37<1:06:56,  8.22it/s]"
     ]
    },
    {
     "name": "stdout",
     "output_type": "stream",
     "text": [
      "train loss info\n",
      "{'losses': tensor(0.3080, device='cuda:0'), 'sparsity_losses': tensor(0.1787, device='cuda:0'), 'reconstruction_losses': tensor(0.1293, device='cuda:0')}\n",
      "val loss info\n",
      "{'losses': tensor(0.3085, device='cuda:0'), 'sparsity_losses': tensor(0.1793, device='cuda:0'), 'reconstruction_losses': tensor(0.1292, device='cuda:0')}\n",
      "------\n"
     ]
    },
    {
     "name": "stderr",
     "output_type": "stream",
     "text": [
      " 78%|███████▊  | 117503/150000 [1:51:05<1:04:31,  8.39it/s]"
     ]
    },
    {
     "name": "stdout",
     "output_type": "stream",
     "text": [
      "train loss info\n",
      "{'losses': tensor(0.3077, device='cuda:0'), 'sparsity_losses': tensor(0.1788, device='cuda:0'), 'reconstruction_losses': tensor(0.1288, device='cuda:0')}\n",
      "val loss info\n",
      "{'losses': tensor(0.3087, device='cuda:0'), 'sparsity_losses': tensor(0.1796, device='cuda:0'), 'reconstruction_losses': tensor(0.1291, device='cuda:0')}\n",
      "------\n"
     ]
    },
    {
     "name": "stderr",
     "output_type": "stream",
     "text": [
      " 79%|███████▊  | 118003/150000 [1:51:34<1:03:22,  8.41it/s]"
     ]
    },
    {
     "name": "stdout",
     "output_type": "stream",
     "text": [
      "train loss info\n",
      "{'losses': tensor(0.3083, device='cuda:0'), 'sparsity_losses': tensor(0.1787, device='cuda:0'), 'reconstruction_losses': tensor(0.1296, device='cuda:0')}\n",
      "val loss info\n",
      "{'losses': tensor(0.3083, device='cuda:0'), 'sparsity_losses': tensor(0.1790, device='cuda:0'), 'reconstruction_losses': tensor(0.1294, device='cuda:0')}\n",
      "------\n"
     ]
    },
    {
     "name": "stderr",
     "output_type": "stream",
     "text": [
      " 79%|███████▉  | 118503/150000 [1:52:02<1:02:10,  8.44it/s]"
     ]
    },
    {
     "name": "stdout",
     "output_type": "stream",
     "text": [
      "train loss info\n",
      "{'losses': tensor(0.3087, device='cuda:0'), 'sparsity_losses': tensor(0.1795, device='cuda:0'), 'reconstruction_losses': tensor(0.1292, device='cuda:0')}\n",
      "val loss info\n",
      "{'losses': tensor(0.3087, device='cuda:0'), 'sparsity_losses': tensor(0.1790, device='cuda:0'), 'reconstruction_losses': tensor(0.1297, device='cuda:0')}\n",
      "------\n"
     ]
    },
    {
     "name": "stderr",
     "output_type": "stream",
     "text": [
      " 79%|███████▉  | 119003/150000 [1:52:30<1:05:55,  7.84it/s]"
     ]
    },
    {
     "name": "stdout",
     "output_type": "stream",
     "text": [
      "train loss info\n",
      "{'losses': tensor(0.3080, device='cuda:0'), 'sparsity_losses': tensor(0.1787, device='cuda:0'), 'reconstruction_losses': tensor(0.1293, device='cuda:0')}\n",
      "val loss info\n",
      "{'losses': tensor(0.3085, device='cuda:0'), 'sparsity_losses': tensor(0.1794, device='cuda:0'), 'reconstruction_losses': tensor(0.1291, device='cuda:0')}\n",
      "------\n"
     ]
    },
    {
     "name": "stderr",
     "output_type": "stream",
     "text": [
      " 80%|███████▉  | 119503/150000 [1:52:59<1:00:13,  8.44it/s]"
     ]
    },
    {
     "name": "stdout",
     "output_type": "stream",
     "text": [
      "train loss info\n",
      "{'losses': tensor(0.3089, device='cuda:0'), 'sparsity_losses': tensor(0.1788, device='cuda:0'), 'reconstruction_losses': tensor(0.1301, device='cuda:0')}\n",
      "val loss info\n",
      "{'losses': tensor(0.3090, device='cuda:0'), 'sparsity_losses': tensor(0.1785, device='cuda:0'), 'reconstruction_losses': tensor(0.1305, device='cuda:0')}\n",
      "------\n"
     ]
    },
    {
     "name": "stderr",
     "output_type": "stream",
     "text": [
      " 80%|████████  | 120003/150000 [1:53:27<1:08:12,  7.33it/s]"
     ]
    },
    {
     "name": "stdout",
     "output_type": "stream",
     "text": [
      "train loss info\n",
      "{'losses': tensor(0.3087, device='cuda:0'), 'sparsity_losses': tensor(0.1799, device='cuda:0'), 'reconstruction_losses': tensor(0.1289, device='cuda:0')}\n",
      "val loss info\n",
      "{'losses': tensor(0.3098, device='cuda:0'), 'sparsity_losses': tensor(0.1805, device='cuda:0'), 'reconstruction_losses': tensor(0.1293, device='cuda:0')}\n",
      "------\n"
     ]
    },
    {
     "name": "stderr",
     "output_type": "stream",
     "text": [
      " 80%|████████  | 120467/150000 [1:53:56<27:56, 17.62it/s]  \n"
     ]
    },
    {
     "ename": "KeyboardInterrupt",
     "evalue": "",
     "output_type": "error",
     "traceback": [
      "\u001b[0;31m---------------------------------------------------------------------------\u001b[0m",
      "\u001b[0;31mKeyboardInterrupt\u001b[0m                         Traceback (most recent call last)",
      "Cell \u001b[0;32mIn[48], line 10\u001b[0m\n\u001b[1;32m      8\u001b[0m \u001b[38;5;28;01mfor\u001b[39;00m steps \u001b[38;5;129;01min\u001b[39;00m tqdm\u001b[38;5;241m.\u001b[39mtqdm(\u001b[38;5;28mrange\u001b[39m(max_iters)):\n\u001b[1;32m      9\u001b[0m     xb, yb \u001b[38;5;241m=\u001b[39m get_batch(\u001b[38;5;124m'\u001b[39m\u001b[38;5;124mtrain\u001b[39m\u001b[38;5;124m'\u001b[39m)\n\u001b[0;32m---> 10\u001b[0m     residuals \u001b[38;5;241m=\u001b[39m \u001b[43mmodel\u001b[49m\u001b[43m(\u001b[49m\u001b[43mxb\u001b[49m\u001b[43m,\u001b[49m\u001b[43m \u001b[49m\u001b[43mreturn_residuals\u001b[49m\u001b[38;5;241;43m=\u001b[39;49m\u001b[43mmodel_embedding_layer\u001b[49m\u001b[43m)\u001b[49m\n\u001b[1;32m     11\u001b[0m     optimizer\u001b[38;5;241m.\u001b[39mzero_grad(set_to_none\u001b[38;5;241m=\u001b[39m\u001b[38;5;28;01mTrue\u001b[39;00m)\n\u001b[1;32m     12\u001b[0m     sae_output \u001b[38;5;241m=\u001b[39m sae(residuals)\n",
      "File \u001b[0;32m~/miniconda3/envs/ai/lib/python3.12/site-packages/torch/nn/modules/module.py:1511\u001b[0m, in \u001b[0;36mModule._wrapped_call_impl\u001b[0;34m(self, *args, **kwargs)\u001b[0m\n\u001b[1;32m   1509\u001b[0m     \u001b[38;5;28;01mreturn\u001b[39;00m \u001b[38;5;28mself\u001b[39m\u001b[38;5;241m.\u001b[39m_compiled_call_impl(\u001b[38;5;241m*\u001b[39margs, \u001b[38;5;241m*\u001b[39m\u001b[38;5;241m*\u001b[39mkwargs)  \u001b[38;5;66;03m# type: ignore[misc]\u001b[39;00m\n\u001b[1;32m   1510\u001b[0m \u001b[38;5;28;01melse\u001b[39;00m:\n\u001b[0;32m-> 1511\u001b[0m     \u001b[38;5;28;01mreturn\u001b[39;00m \u001b[38;5;28;43mself\u001b[39;49m\u001b[38;5;241;43m.\u001b[39;49m\u001b[43m_call_impl\u001b[49m\u001b[43m(\u001b[49m\u001b[38;5;241;43m*\u001b[39;49m\u001b[43margs\u001b[49m\u001b[43m,\u001b[49m\u001b[43m \u001b[49m\u001b[38;5;241;43m*\u001b[39;49m\u001b[38;5;241;43m*\u001b[39;49m\u001b[43mkwargs\u001b[49m\u001b[43m)\u001b[49m\n",
      "File \u001b[0;32m~/miniconda3/envs/ai/lib/python3.12/site-packages/torch/nn/modules/module.py:1520\u001b[0m, in \u001b[0;36mModule._call_impl\u001b[0;34m(self, *args, **kwargs)\u001b[0m\n\u001b[1;32m   1515\u001b[0m \u001b[38;5;66;03m# If we don't have any hooks, we want to skip the rest of the logic in\u001b[39;00m\n\u001b[1;32m   1516\u001b[0m \u001b[38;5;66;03m# this function, and just call forward.\u001b[39;00m\n\u001b[1;32m   1517\u001b[0m \u001b[38;5;28;01mif\u001b[39;00m \u001b[38;5;129;01mnot\u001b[39;00m (\u001b[38;5;28mself\u001b[39m\u001b[38;5;241m.\u001b[39m_backward_hooks \u001b[38;5;129;01mor\u001b[39;00m \u001b[38;5;28mself\u001b[39m\u001b[38;5;241m.\u001b[39m_backward_pre_hooks \u001b[38;5;129;01mor\u001b[39;00m \u001b[38;5;28mself\u001b[39m\u001b[38;5;241m.\u001b[39m_forward_hooks \u001b[38;5;129;01mor\u001b[39;00m \u001b[38;5;28mself\u001b[39m\u001b[38;5;241m.\u001b[39m_forward_pre_hooks\n\u001b[1;32m   1518\u001b[0m         \u001b[38;5;129;01mor\u001b[39;00m _global_backward_pre_hooks \u001b[38;5;129;01mor\u001b[39;00m _global_backward_hooks\n\u001b[1;32m   1519\u001b[0m         \u001b[38;5;129;01mor\u001b[39;00m _global_forward_hooks \u001b[38;5;129;01mor\u001b[39;00m _global_forward_pre_hooks):\n\u001b[0;32m-> 1520\u001b[0m     \u001b[38;5;28;01mreturn\u001b[39;00m \u001b[43mforward_call\u001b[49m\u001b[43m(\u001b[49m\u001b[38;5;241;43m*\u001b[39;49m\u001b[43margs\u001b[49m\u001b[43m,\u001b[49m\u001b[43m \u001b[49m\u001b[38;5;241;43m*\u001b[39;49m\u001b[38;5;241;43m*\u001b[39;49m\u001b[43mkwargs\u001b[49m\u001b[43m)\u001b[49m\n\u001b[1;32m   1522\u001b[0m \u001b[38;5;28;01mtry\u001b[39;00m:\n\u001b[1;32m   1523\u001b[0m     result \u001b[38;5;241m=\u001b[39m \u001b[38;5;28;01mNone\u001b[39;00m\n",
      "Cell \u001b[0;32mIn[27], line 37\u001b[0m, in \u001b[0;36mGPT.forward\u001b[0;34m(self, idx, targets, return_residuals)\u001b[0m\n\u001b[1;32m     35\u001b[0m kurtosis_sum \u001b[38;5;241m=\u001b[39m torch\u001b[38;5;241m.\u001b[39mtensor(\u001b[38;5;241m0.0\u001b[39m)\n\u001b[1;32m     36\u001b[0m \u001b[38;5;28;01mfor\u001b[39;00m i, layer \u001b[38;5;129;01min\u001b[39;00m \u001b[38;5;28menumerate\u001b[39m(\u001b[38;5;28mself\u001b[39m\u001b[38;5;241m.\u001b[39mlayers):\n\u001b[0;32m---> 37\u001b[0m     x \u001b[38;5;241m=\u001b[39m \u001b[43mlayer\u001b[49m\u001b[43m(\u001b[49m\u001b[43mx\u001b[49m\u001b[43m)\u001b[49m\n\u001b[1;32m     38\u001b[0m     kurtosis_sum \u001b[38;5;241m+\u001b[39m\u001b[38;5;241m=\u001b[39m excess_kurtosis(x)\n\u001b[1;32m     39\u001b[0m     \u001b[38;5;28;01mif\u001b[39;00m return_residuals \u001b[38;5;129;01mis\u001b[39;00m \u001b[38;5;129;01mnot\u001b[39;00m \u001b[38;5;28;01mNone\u001b[39;00m \u001b[38;5;129;01mand\u001b[39;00m i \u001b[38;5;241m==\u001b[39m return_residuals:\n",
      "File \u001b[0;32m~/miniconda3/envs/ai/lib/python3.12/site-packages/torch/nn/modules/module.py:1511\u001b[0m, in \u001b[0;36mModule._wrapped_call_impl\u001b[0;34m(self, *args, **kwargs)\u001b[0m\n\u001b[1;32m   1509\u001b[0m     \u001b[38;5;28;01mreturn\u001b[39;00m \u001b[38;5;28mself\u001b[39m\u001b[38;5;241m.\u001b[39m_compiled_call_impl(\u001b[38;5;241m*\u001b[39margs, \u001b[38;5;241m*\u001b[39m\u001b[38;5;241m*\u001b[39mkwargs)  \u001b[38;5;66;03m# type: ignore[misc]\u001b[39;00m\n\u001b[1;32m   1510\u001b[0m \u001b[38;5;28;01melse\u001b[39;00m:\n\u001b[0;32m-> 1511\u001b[0m     \u001b[38;5;28;01mreturn\u001b[39;00m \u001b[38;5;28;43mself\u001b[39;49m\u001b[38;5;241;43m.\u001b[39;49m\u001b[43m_call_impl\u001b[49m\u001b[43m(\u001b[49m\u001b[38;5;241;43m*\u001b[39;49m\u001b[43margs\u001b[49m\u001b[43m,\u001b[49m\u001b[43m \u001b[49m\u001b[38;5;241;43m*\u001b[39;49m\u001b[38;5;241;43m*\u001b[39;49m\u001b[43mkwargs\u001b[49m\u001b[43m)\u001b[49m\n",
      "File \u001b[0;32m~/miniconda3/envs/ai/lib/python3.12/site-packages/torch/nn/modules/module.py:1520\u001b[0m, in \u001b[0;36mModule._call_impl\u001b[0;34m(self, *args, **kwargs)\u001b[0m\n\u001b[1;32m   1515\u001b[0m \u001b[38;5;66;03m# If we don't have any hooks, we want to skip the rest of the logic in\u001b[39;00m\n\u001b[1;32m   1516\u001b[0m \u001b[38;5;66;03m# this function, and just call forward.\u001b[39;00m\n\u001b[1;32m   1517\u001b[0m \u001b[38;5;28;01mif\u001b[39;00m \u001b[38;5;129;01mnot\u001b[39;00m (\u001b[38;5;28mself\u001b[39m\u001b[38;5;241m.\u001b[39m_backward_hooks \u001b[38;5;129;01mor\u001b[39;00m \u001b[38;5;28mself\u001b[39m\u001b[38;5;241m.\u001b[39m_backward_pre_hooks \u001b[38;5;129;01mor\u001b[39;00m \u001b[38;5;28mself\u001b[39m\u001b[38;5;241m.\u001b[39m_forward_hooks \u001b[38;5;129;01mor\u001b[39;00m \u001b[38;5;28mself\u001b[39m\u001b[38;5;241m.\u001b[39m_forward_pre_hooks\n\u001b[1;32m   1518\u001b[0m         \u001b[38;5;129;01mor\u001b[39;00m _global_backward_pre_hooks \u001b[38;5;129;01mor\u001b[39;00m _global_backward_hooks\n\u001b[1;32m   1519\u001b[0m         \u001b[38;5;129;01mor\u001b[39;00m _global_forward_hooks \u001b[38;5;129;01mor\u001b[39;00m _global_forward_pre_hooks):\n\u001b[0;32m-> 1520\u001b[0m     \u001b[38;5;28;01mreturn\u001b[39;00m \u001b[43mforward_call\u001b[49m\u001b[43m(\u001b[49m\u001b[38;5;241;43m*\u001b[39;49m\u001b[43margs\u001b[49m\u001b[43m,\u001b[49m\u001b[43m \u001b[49m\u001b[38;5;241;43m*\u001b[39;49m\u001b[38;5;241;43m*\u001b[39;49m\u001b[43mkwargs\u001b[49m\u001b[43m)\u001b[49m\n\u001b[1;32m   1522\u001b[0m \u001b[38;5;28;01mtry\u001b[39;00m:\n\u001b[1;32m   1523\u001b[0m     result \u001b[38;5;241m=\u001b[39m \u001b[38;5;28;01mNone\u001b[39;00m\n",
      "Cell \u001b[0;32mIn[26], line 11\u001b[0m, in \u001b[0;36mBlock.forward\u001b[0;34m(self, x)\u001b[0m\n\u001b[1;32m     10\u001b[0m \u001b[38;5;28;01mdef\u001b[39;00m \u001b[38;5;21mforward\u001b[39m(\u001b[38;5;28mself\u001b[39m, x):\n\u001b[0;32m---> 11\u001b[0m     x \u001b[38;5;241m=\u001b[39m x \u001b[38;5;241m+\u001b[39m \u001b[38;5;28;43mself\u001b[39;49m\u001b[38;5;241;43m.\u001b[39;49m\u001b[43mattention\u001b[49m\u001b[43m(\u001b[49m\u001b[38;5;28;43mself\u001b[39;49m\u001b[38;5;241;43m.\u001b[39;49m\u001b[43mnorm1\u001b[49m\u001b[43m(\u001b[49m\u001b[43mx\u001b[49m\u001b[43m)\u001b[49m\u001b[43m)\u001b[49m\n\u001b[1;32m     12\u001b[0m     x \u001b[38;5;241m=\u001b[39m x \u001b[38;5;241m+\u001b[39m \u001b[38;5;28mself\u001b[39m\u001b[38;5;241m.\u001b[39mff(\u001b[38;5;28mself\u001b[39m\u001b[38;5;241m.\u001b[39mnorm2(x))\n\u001b[1;32m     13\u001b[0m     \u001b[38;5;28;01mreturn\u001b[39;00m x\n",
      "File \u001b[0;32m~/miniconda3/envs/ai/lib/python3.12/site-packages/torch/nn/modules/module.py:1511\u001b[0m, in \u001b[0;36mModule._wrapped_call_impl\u001b[0;34m(self, *args, **kwargs)\u001b[0m\n\u001b[1;32m   1509\u001b[0m     \u001b[38;5;28;01mreturn\u001b[39;00m \u001b[38;5;28mself\u001b[39m\u001b[38;5;241m.\u001b[39m_compiled_call_impl(\u001b[38;5;241m*\u001b[39margs, \u001b[38;5;241m*\u001b[39m\u001b[38;5;241m*\u001b[39mkwargs)  \u001b[38;5;66;03m# type: ignore[misc]\u001b[39;00m\n\u001b[1;32m   1510\u001b[0m \u001b[38;5;28;01melse\u001b[39;00m:\n\u001b[0;32m-> 1511\u001b[0m     \u001b[38;5;28;01mreturn\u001b[39;00m \u001b[38;5;28;43mself\u001b[39;49m\u001b[38;5;241;43m.\u001b[39;49m\u001b[43m_call_impl\u001b[49m\u001b[43m(\u001b[49m\u001b[38;5;241;43m*\u001b[39;49m\u001b[43margs\u001b[49m\u001b[43m,\u001b[49m\u001b[43m \u001b[49m\u001b[38;5;241;43m*\u001b[39;49m\u001b[38;5;241;43m*\u001b[39;49m\u001b[43mkwargs\u001b[49m\u001b[43m)\u001b[49m\n",
      "File \u001b[0;32m~/miniconda3/envs/ai/lib/python3.12/site-packages/torch/nn/modules/module.py:1520\u001b[0m, in \u001b[0;36mModule._call_impl\u001b[0;34m(self, *args, **kwargs)\u001b[0m\n\u001b[1;32m   1515\u001b[0m \u001b[38;5;66;03m# If we don't have any hooks, we want to skip the rest of the logic in\u001b[39;00m\n\u001b[1;32m   1516\u001b[0m \u001b[38;5;66;03m# this function, and just call forward.\u001b[39;00m\n\u001b[1;32m   1517\u001b[0m \u001b[38;5;28;01mif\u001b[39;00m \u001b[38;5;129;01mnot\u001b[39;00m (\u001b[38;5;28mself\u001b[39m\u001b[38;5;241m.\u001b[39m_backward_hooks \u001b[38;5;129;01mor\u001b[39;00m \u001b[38;5;28mself\u001b[39m\u001b[38;5;241m.\u001b[39m_backward_pre_hooks \u001b[38;5;129;01mor\u001b[39;00m \u001b[38;5;28mself\u001b[39m\u001b[38;5;241m.\u001b[39m_forward_hooks \u001b[38;5;129;01mor\u001b[39;00m \u001b[38;5;28mself\u001b[39m\u001b[38;5;241m.\u001b[39m_forward_pre_hooks\n\u001b[1;32m   1518\u001b[0m         \u001b[38;5;129;01mor\u001b[39;00m _global_backward_pre_hooks \u001b[38;5;129;01mor\u001b[39;00m _global_backward_hooks\n\u001b[1;32m   1519\u001b[0m         \u001b[38;5;129;01mor\u001b[39;00m _global_forward_hooks \u001b[38;5;129;01mor\u001b[39;00m _global_forward_pre_hooks):\n\u001b[0;32m-> 1520\u001b[0m     \u001b[38;5;28;01mreturn\u001b[39;00m \u001b[43mforward_call\u001b[49m\u001b[43m(\u001b[49m\u001b[38;5;241;43m*\u001b[39;49m\u001b[43margs\u001b[49m\u001b[43m,\u001b[49m\u001b[43m \u001b[49m\u001b[38;5;241;43m*\u001b[39;49m\u001b[38;5;241;43m*\u001b[39;49m\u001b[43mkwargs\u001b[49m\u001b[43m)\u001b[49m\n\u001b[1;32m   1522\u001b[0m \u001b[38;5;28;01mtry\u001b[39;00m:\n\u001b[1;32m   1523\u001b[0m     result \u001b[38;5;241m=\u001b[39m \u001b[38;5;28;01mNone\u001b[39;00m\n",
      "Cell \u001b[0;32mIn[22], line 10\u001b[0m, in \u001b[0;36mMultiHeadAttention.forward\u001b[0;34m(self, x)\u001b[0m\n\u001b[1;32m      9\u001b[0m \u001b[38;5;28;01mdef\u001b[39;00m \u001b[38;5;21mforward\u001b[39m(\u001b[38;5;28mself\u001b[39m,x):\n\u001b[0;32m---> 10\u001b[0m     x \u001b[38;5;241m=\u001b[39m torch\u001b[38;5;241m.\u001b[39mcat([\u001b[43mhead\u001b[49m\u001b[43m(\u001b[49m\u001b[43mx\u001b[49m\u001b[43m)\u001b[49m \u001b[38;5;28;01mfor\u001b[39;00m head \u001b[38;5;129;01min\u001b[39;00m \u001b[38;5;28mself\u001b[39m\u001b[38;5;241m.\u001b[39mheads], dim\u001b[38;5;241m=\u001b[39m\u001b[38;5;241m-\u001b[39m\u001b[38;5;241m1\u001b[39m)\n\u001b[1;32m     11\u001b[0m     x \u001b[38;5;241m=\u001b[39m \u001b[38;5;28mself\u001b[39m\u001b[38;5;241m.\u001b[39mcombine_heads(x)  \u001b[38;5;66;03m# T, C\u001b[39;00m\n\u001b[1;32m     12\u001b[0m     \u001b[38;5;28;01mreturn\u001b[39;00m x\n",
      "File \u001b[0;32m~/miniconda3/envs/ai/lib/python3.12/site-packages/torch/nn/modules/module.py:1511\u001b[0m, in \u001b[0;36mModule._wrapped_call_impl\u001b[0;34m(self, *args, **kwargs)\u001b[0m\n\u001b[1;32m   1509\u001b[0m     \u001b[38;5;28;01mreturn\u001b[39;00m \u001b[38;5;28mself\u001b[39m\u001b[38;5;241m.\u001b[39m_compiled_call_impl(\u001b[38;5;241m*\u001b[39margs, \u001b[38;5;241m*\u001b[39m\u001b[38;5;241m*\u001b[39mkwargs)  \u001b[38;5;66;03m# type: ignore[misc]\u001b[39;00m\n\u001b[1;32m   1510\u001b[0m \u001b[38;5;28;01melse\u001b[39;00m:\n\u001b[0;32m-> 1511\u001b[0m     \u001b[38;5;28;01mreturn\u001b[39;00m \u001b[38;5;28;43mself\u001b[39;49m\u001b[38;5;241;43m.\u001b[39;49m\u001b[43m_call_impl\u001b[49m\u001b[43m(\u001b[49m\u001b[38;5;241;43m*\u001b[39;49m\u001b[43margs\u001b[49m\u001b[43m,\u001b[49m\u001b[43m \u001b[49m\u001b[38;5;241;43m*\u001b[39;49m\u001b[38;5;241;43m*\u001b[39;49m\u001b[43mkwargs\u001b[49m\u001b[43m)\u001b[49m\n",
      "File \u001b[0;32m~/miniconda3/envs/ai/lib/python3.12/site-packages/torch/nn/modules/module.py:1520\u001b[0m, in \u001b[0;36mModule._call_impl\u001b[0;34m(self, *args, **kwargs)\u001b[0m\n\u001b[1;32m   1515\u001b[0m \u001b[38;5;66;03m# If we don't have any hooks, we want to skip the rest of the logic in\u001b[39;00m\n\u001b[1;32m   1516\u001b[0m \u001b[38;5;66;03m# this function, and just call forward.\u001b[39;00m\n\u001b[1;32m   1517\u001b[0m \u001b[38;5;28;01mif\u001b[39;00m \u001b[38;5;129;01mnot\u001b[39;00m (\u001b[38;5;28mself\u001b[39m\u001b[38;5;241m.\u001b[39m_backward_hooks \u001b[38;5;129;01mor\u001b[39;00m \u001b[38;5;28mself\u001b[39m\u001b[38;5;241m.\u001b[39m_backward_pre_hooks \u001b[38;5;129;01mor\u001b[39;00m \u001b[38;5;28mself\u001b[39m\u001b[38;5;241m.\u001b[39m_forward_hooks \u001b[38;5;129;01mor\u001b[39;00m \u001b[38;5;28mself\u001b[39m\u001b[38;5;241m.\u001b[39m_forward_pre_hooks\n\u001b[1;32m   1518\u001b[0m         \u001b[38;5;129;01mor\u001b[39;00m _global_backward_pre_hooks \u001b[38;5;129;01mor\u001b[39;00m _global_backward_hooks\n\u001b[1;32m   1519\u001b[0m         \u001b[38;5;129;01mor\u001b[39;00m _global_forward_hooks \u001b[38;5;129;01mor\u001b[39;00m _global_forward_pre_hooks):\n\u001b[0;32m-> 1520\u001b[0m     \u001b[38;5;28;01mreturn\u001b[39;00m \u001b[43mforward_call\u001b[49m\u001b[43m(\u001b[49m\u001b[38;5;241;43m*\u001b[39;49m\u001b[43margs\u001b[49m\u001b[43m,\u001b[49m\u001b[43m \u001b[49m\u001b[38;5;241;43m*\u001b[39;49m\u001b[38;5;241;43m*\u001b[39;49m\u001b[43mkwargs\u001b[49m\u001b[43m)\u001b[49m\n\u001b[1;32m   1522\u001b[0m \u001b[38;5;28;01mtry\u001b[39;00m:\n\u001b[1;32m   1523\u001b[0m     result \u001b[38;5;241m=\u001b[39m \u001b[38;5;28;01mNone\u001b[39;00m\n",
      "Cell \u001b[0;32mIn[21], line 31\u001b[0m, in \u001b[0;36mHead.forward\u001b[0;34m(self, x)\u001b[0m\n\u001b[1;32m     29\u001b[0m tril \u001b[38;5;241m=\u001b[39m \u001b[38;5;28mself\u001b[39m\u001b[38;5;241m.\u001b[39mtril\n\u001b[1;32m     30\u001b[0m wei \u001b[38;5;241m=\u001b[39m torch\u001b[38;5;241m.\u001b[39mzeros(T, T) \n\u001b[0;32m---> 31\u001b[0m wei \u001b[38;5;241m=\u001b[39m wei\u001b[38;5;241m.\u001b[39mmasked_fill(tril \u001b[38;5;241m==\u001b[39m \u001b[38;5;241m0\u001b[39m, \u001b[38;5;28;43mfloat\u001b[39;49m\u001b[43m(\u001b[49m\u001b[38;5;124;43m'\u001b[39;49m\u001b[38;5;124;43m-inf\u001b[39;49m\u001b[38;5;124;43m'\u001b[39;49m\u001b[43m)\u001b[49m) \u001b[38;5;66;03m# set the upper triangular to -inf\u001b[39;00m\n\u001b[1;32m     32\u001b[0m \u001b[38;5;66;03m# xbow = wei @ x # apply the mask to the input, bag of words because simple avg.\u001b[39;00m\n\u001b[1;32m     33\u001b[0m \n\u001b[1;32m     34\u001b[0m \u001b[38;5;66;03m# multiply the two to get the attention weights\u001b[39;00m\n\u001b[1;32m     35\u001b[0m attention_pattern \u001b[38;5;241m=\u001b[39m query_vectors \u001b[38;5;241m@\u001b[39m key_vectors\u001b[38;5;241m.\u001b[39mtranspose(\u001b[38;5;241m-\u001b[39m\u001b[38;5;241m2\u001b[39m, \u001b[38;5;241m-\u001b[39m\u001b[38;5;241m1\u001b[39m) \u001b[38;5;66;03m# T, T\u001b[39;00m\n",
      "\u001b[0;31mKeyboardInterrupt\u001b[0m: "
     ]
    }
   ],
   "source": [
    "optimizer = torch.optim.Adam(sae.parameters(), lr=sae_learning_rate)\n",
    "eval_interval=500\n",
    "max_iters = 150000\n",
    "\n",
    "import tqdm\n",
    "\n",
    "\n",
    "for steps in tqdm.tqdm(range(max_iters)):\n",
    "    xb, yb = get_batch('train')\n",
    "    residuals = model(xb, return_residuals=model_embedding_layer)\n",
    "    optimizer.zero_grad(set_to_none=True)\n",
    "    sae_output = sae(residuals)\n",
    "    sae_reconstruction_loss = sae_output['reconstruction_loss']\n",
    "    sae_sparsity_loss = sae_output['sparsity_loss']\n",
    "    ratio_done_training = steps/max_iters\n",
    "\n",
    "    \n",
    "    loss = sae_reconstruction_loss + sae_sparsity_loss\n",
    "\n",
    "    loss.backward()\n",
    "    torch.nn.utils.clip_grad_norm_(sae.parameters(), max_norm=1)\n",
    "\n",
    "\n",
    "    optimizer.step()\n",
    "\n",
    "    if steps % eval_interval == 0:\n",
    "        loss_data = estimate_sae_loss()\n",
    "        train_loss_data = loss_data['train']\n",
    "        val_loss_data = loss_data['val']\n",
    "        print(\"train loss info\")\n",
    "        print(train_loss_data)\n",
    "        print(\"val loss info\")\n",
    "        print(val_loss_data)\n",
    "        # print(f\"sparsity_loss_weight: {sparsity_loss_weight}\")\n",
    "        print(\"------\")\n",
    "\n",
    "estimate_loss(is_last=True)"
   ]
  },
  {
   "cell_type": "code",
   "execution_count": 49,
   "metadata": {},
   "outputs": [],
   "source": [
    "# save the model weightsd to the disk\n",
    "torch.save(sae.state_dict(), 'sae_model_weights.pth')"
   ]
  },
  {
   "cell_type": "code",
   "execution_count": 61,
   "metadata": {},
   "outputs": [
    {
     "data": {
      "text/plain": [
       "<All keys matched successfully>"
      ]
     },
     "execution_count": 61,
     "metadata": {},
     "output_type": "execute_result"
    }
   ],
   "source": [
    "# load the model weights from the disk\n",
    "sae.load_state_dict(torch.load('sae_model_weights.pth', map_location='cuda'))\n"
   ]
  },
  {
   "cell_type": "code",
   "execution_count": 65,
   "metadata": {},
   "outputs": [
    {
     "data": {
      "image/png": "[encoded data removed]",
      "text/plain": [
       "<Figure size 2000x600 with 2 Axes>"
      ]
     },
     "metadata": {},
     "output_type": "display_data"
    },
    {
     "data": {
      "text/plain": [
       "<Figure size 2000x600 with 0 Axes>"
      ]
     },
     "metadata": {},
     "output_type": "display_data"
    },
    {
     "name": "stdout",
     "output_type": "stream",
     "text": [
      "Number of overlapped top k features: 25\n"
     ]
    }
   ],
   "source": [
    "\n",
    "def process_input_string(input_string):\n",
    "    embedding = model.get_embedding(input_string)\n",
    "\n",
    "\n",
    "    sae_output = sae(embedding)\n",
    "    encoded = sae_output['encoded']\n",
    "    decoded = sae_output['decoded']\n",
    "    feature_activations = sae_output['feature_activations']\n",
    "    \n",
    "    return encoded, decoded, feature_activations\n",
    "\n",
    "\n",
    "string1 = \"Cookies are yummy. They taste good.\"\n",
    "string2 = \"I love eating pie! it is so delicious.\"\n",
    "\n",
    "encoded1, decoded1, feature_activations1 = process_input_string(string1)\n",
    "encoded2, decoded2, feature_activations2 = process_input_string(string2)\n",
    "\n",
    "import matplotlib.pyplot as plt\n",
    "\n",
    "plt.figure(figsize=(20, 6))\n",
    "\n",
    "plt.subplot(1, 2, 1)\n",
    "plt.plot(feature_activations1.cpu().detach().numpy())\n",
    "plt.xlabel('Index')\n",
    "plt.ylabel('Value')\n",
    "plt.title('Feature Activations for String 1')\n",
    "\n",
    "plt.subplot(1, 2, 2)\n",
    "plt.plot(feature_activations2.cpu().detach().numpy())\n",
    "plt.xlabel('Index')\n",
    "plt.ylabel('Value')\n",
    "plt.title('Feature Activations for String 2')\n",
    "\n",
    "plt.show()\n",
    "\n",
    "plt.figure(figsize=(20, 6))\n",
    "\n",
    "# plt.subplot(1, 2, 1)\n",
    "# plt.plot(normalized_embedding1.cpu().detach().numpy())\n",
    "# plt.xlabel('Index')\n",
    "# plt.ylabel('Value')\n",
    "# plt.title('Normalized Embedding for String 1')\n",
    "\n",
    "# plt.subplot(1, 2, 2)\n",
    "# plt.plot(normalized_embedding2.cpu().detach().numpy())\n",
    "# plt.xlabel('Index')\n",
    "# plt.ylabel('Value')\n",
    "# plt.title('Normalized Embedding for String 2')\n",
    "\n",
    "plt.show()\n",
    "\n",
    "\n",
    "# get the top 50 features for each string\n",
    "import torch\n",
    "\n",
    "# Get the indexes of the top 50 features for each string\n",
    "k = 100\n",
    "top_k_features1 = torch.topk(feature_activations1, k).indices.cpu().detach().numpy()\n",
    "top_k_features2 = torch.topk(feature_activations2, k).indices.cpu().detach().numpy()\n",
    "\n",
    "# print(\"Top k features for String 1:\", top_k_features1)\n",
    "# print(\"Top k features for String 2:\", top_k_features2)\n",
    "\n",
    "# Find the intersection of the top k features for both strings\n",
    "overlapped_features = set(top_k_features1).intersection(set(top_k_features2))\n",
    "\n",
    "# Get the number of overlapped features\n",
    "num_overlapped_features = len(overlapped_features)\n",
    "\n",
    "print(\"Number of overlapped top k features:\", num_overlapped_features)\n",
    "\n",
    "# dot product of encoded1, encoded1\n",
    "\n",
    "# normalize both encoded to have l2 norm of 1\n",
    "\n",
    "\n",
    "\n"
   ]
  },
  {
   "cell_type": "code",
   "execution_count": 74,
   "metadata": {},
   "outputs": [
    {
     "name": "stdout",
     "output_type": "stream",
     "text": [
      "Cosine Similarity: 0.7280566692352295\n"
     ]
    }
   ],
   "source": [
    "def process_input_string(input_string):\n",
    "    embedding = model.get_embedding(input_string)\n",
    "\n",
    "    sae_output = sae(embedding)\n",
    "    encoded = sae_output['encoded']\n",
    "    decoded = sae_output['decoded']\n",
    "    feature_activations = sae_output['feature_activations']\n",
    "    \n",
    "    return encoded, decoded, feature_activations\n",
    "\n",
    "string1 = \"Cookies are yummy. They taste good.\"\n",
    "string2 = \"Cars are fast and on roads.\"\n",
    "\n",
    "encoded1, decoded1, feature_activations1 = process_input_string(string1)\n",
    "encoded2, decoded2, feature_activations2 = process_input_string(string2)\n",
    "\n",
    "# Compute cosine similarity\n",
    "cos_sim = F.cosine_similarity(encoded1.unsqueeze(0), encoded2.unsqueeze(0))\n",
    "\n",
    "print(\"Cosine Similarity:\", cos_sim.item())"
   ]
  },
  {
   "cell_type": "code",
   "execution_count": null,
   "metadata": {},
   "outputs": [],
   "source": [
    "[10899, 12679, 14729, 3710, 5641, 8889, 13827, 5018, 5451, 41]\n"
   ]
  }
 ],
 "metadata": {
  "kernelspec": {
   "display_name": "ai",
   "language": "python",
   "name": "python3"
  },
  "language_info": {
   "codemirror_mode": {
    "name": "ipython",
    "version": 3
   },
   "file_extension": ".py",
   "mimetype": "text/x-python",
   "name": "python",
   "nbconvert_exporter": "python",
   "pygments_lexer": "ipython3",
   "version": "3.12.2"
  }
 },
 "nbformat": 4,
 "nbformat_minor": 2
}
